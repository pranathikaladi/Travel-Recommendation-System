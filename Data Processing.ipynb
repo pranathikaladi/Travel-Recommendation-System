{
 "cells": [
  {
   "cell_type": "code",
   "execution_count": 1,
   "metadata": {},
   "outputs": [],
   "source": [
    "import pandas as pd"
   ]
  },
  {
   "cell_type": "code",
   "execution_count": 3,
   "metadata": {},
   "outputs": [
    {
     "data": {
      "text/html": [
       "<div>\n",
       "<style scoped>\n",
       "    .dataframe tbody tr th:only-of-type {\n",
       "        vertical-align: middle;\n",
       "    }\n",
       "\n",
       "    .dataframe tbody tr th {\n",
       "        vertical-align: top;\n",
       "    }\n",
       "\n",
       "    .dataframe thead th {\n",
       "        text-align: right;\n",
       "    }\n",
       "</style>\n",
       "<table border=\"1\" class=\"dataframe\">\n",
       "  <thead>\n",
       "    <tr style=\"text-align: right;\">\n",
       "      <th></th>\n",
       "      <th>location</th>\n",
       "      <th>place</th>\n",
       "      <th>state</th>\n",
       "      <th>rating</th>\n",
       "      <th>age</th>\n",
       "      <th>season</th>\n",
       "      <th>affordable</th>\n",
       "      <th>solo_family_friends</th>\n",
       "      <th>religion</th>\n",
       "      <th>item_id</th>\n",
       "    </tr>\n",
       "  </thead>\n",
       "  <tbody>\n",
       "    <tr>\n",
       "      <td>0</td>\n",
       "      <td>Bhoramdeo Temple</td>\n",
       "      <td>Chaura village, Kawardha town</td>\n",
       "      <td>chhattisgarh</td>\n",
       "      <td>4</td>\n",
       "      <td>NAN</td>\n",
       "      <td>Winter</td>\n",
       "      <td>Yes</td>\n",
       "      <td>family</td>\n",
       "      <td>Hindu</td>\n",
       "      <td>1</td>\n",
       "    </tr>\n",
       "    <tr>\n",
       "      <td>1</td>\n",
       "      <td>maitri bagh</td>\n",
       "      <td>Near to Maroda, Bhilai</td>\n",
       "      <td>chhattisgarh</td>\n",
       "      <td>4</td>\n",
       "      <td>20</td>\n",
       "      <td>Year</td>\n",
       "      <td>Yes</td>\n",
       "      <td>friends</td>\n",
       "      <td>Any</td>\n",
       "      <td>2</td>\n",
       "    </tr>\n",
       "    <tr>\n",
       "      <td>2</td>\n",
       "      <td>Tirathgarh Falls</td>\n",
       "      <td>Bastar district</td>\n",
       "      <td>chhattisgarh</td>\n",
       "      <td>4.6</td>\n",
       "      <td>25</td>\n",
       "      <td>monsoon</td>\n",
       "      <td>Yes</td>\n",
       "      <td>friends</td>\n",
       "      <td>Any</td>\n",
       "      <td>3</td>\n",
       "    </tr>\n",
       "    <tr>\n",
       "      <td>3</td>\n",
       "      <td>Sirpur Heritage Site</td>\n",
       "      <td>bank of holy Mahanadi river</td>\n",
       "      <td>chhattisgarh</td>\n",
       "      <td>5</td>\n",
       "      <td>Any</td>\n",
       "      <td>Winter</td>\n",
       "      <td>Yes</td>\n",
       "      <td>family</td>\n",
       "      <td>Hindu</td>\n",
       "      <td>4</td>\n",
       "    </tr>\n",
       "    <tr>\n",
       "      <td>4</td>\n",
       "      <td>Rajeev Smriti Van</td>\n",
       "      <td>Raipur</td>\n",
       "      <td>chhattisgarh</td>\n",
       "      <td>3.9</td>\n",
       "      <td>Any</td>\n",
       "      <td>Year</td>\n",
       "      <td>Yes</td>\n",
       "      <td>Solo</td>\n",
       "      <td>Any</td>\n",
       "      <td>5</td>\n",
       "    </tr>\n",
       "  </tbody>\n",
       "</table>\n",
       "</div>"
      ],
      "text/plain": [
       "               location                          place          state rating  \\\n",
       "0      Bhoramdeo Temple  Chaura village, Kawardha town   chhattisgarh      4   \n",
       "1           maitri bagh         Near to Maroda, Bhilai   chhattisgarh      4   \n",
       "2      Tirathgarh Falls                Bastar district   chhattisgarh    4.6   \n",
       "3  Sirpur Heritage Site    bank of holy Mahanadi river   chhattisgarh      5   \n",
       "4     Rajeev Smriti Van                         Raipur   chhattisgarh    3.9   \n",
       "\n",
       "   age   season affordable solo_family_friends religion  item_id  \n",
       "0  NAN   Winter        Yes              family    Hindu        1  \n",
       "1   20     Year        Yes             friends      Any        2  \n",
       "2   25  monsoon        Yes             friends      Any        3  \n",
       "3  Any   Winter        Yes              family    Hindu        4  \n",
       "4  Any     Year        Yes                Solo      Any        5  "
      ]
     },
     "execution_count": 3,
     "metadata": {},
     "output_type": "execute_result"
    }
   ],
   "source": [
    "df1=pd.read_csv(\"travel_recommendation_new_3.csv\",encoding='ISO-8859-1')\n",
    "df2=pd.read_csv(\"data_collaborative_new.csv\")\n",
    "df1.head()"
   ]
  },
  {
   "cell_type": "code",
   "execution_count": 4,
   "metadata": {},
   "outputs": [
    {
     "data": {
      "text/html": [
       "<div>\n",
       "<style scoped>\n",
       "    .dataframe tbody tr th:only-of-type {\n",
       "        vertical-align: middle;\n",
       "    }\n",
       "\n",
       "    .dataframe tbody tr th {\n",
       "        vertical-align: top;\n",
       "    }\n",
       "\n",
       "    .dataframe thead th {\n",
       "        text-align: right;\n",
       "    }\n",
       "</style>\n",
       "<table border=\"1\" class=\"dataframe\">\n",
       "  <thead>\n",
       "    <tr style=\"text-align: right;\">\n",
       "      <th></th>\n",
       "      <th>location</th>\n",
       "      <th>place</th>\n",
       "      <th>state</th>\n",
       "      <th>rating</th>\n",
       "      <th>age</th>\n",
       "      <th>season</th>\n",
       "      <th>affordable</th>\n",
       "      <th>solo_family_friends</th>\n",
       "      <th>religion</th>\n",
       "      <th>item_id</th>\n",
       "    </tr>\n",
       "  </thead>\n",
       "  <tbody>\n",
       "    <tr>\n",
       "      <td>0</td>\n",
       "      <td>Bhoramdeo Temple</td>\n",
       "      <td>Chaura village, Kawardha town</td>\n",
       "      <td>chhattisgarh</td>\n",
       "      <td>4</td>\n",
       "      <td>NAN</td>\n",
       "      <td>Winter</td>\n",
       "      <td>Yes</td>\n",
       "      <td>family</td>\n",
       "      <td>Hindu</td>\n",
       "      <td>1</td>\n",
       "    </tr>\n",
       "    <tr>\n",
       "      <td>1</td>\n",
       "      <td>maitri bagh</td>\n",
       "      <td>Near to Maroda, Bhilai</td>\n",
       "      <td>chhattisgarh</td>\n",
       "      <td>4</td>\n",
       "      <td>20</td>\n",
       "      <td>Year</td>\n",
       "      <td>Yes</td>\n",
       "      <td>friends</td>\n",
       "      <td>Any</td>\n",
       "      <td>2</td>\n",
       "    </tr>\n",
       "    <tr>\n",
       "      <td>2</td>\n",
       "      <td>Tirathgarh Falls</td>\n",
       "      <td>Bastar district</td>\n",
       "      <td>chhattisgarh</td>\n",
       "      <td>4.6</td>\n",
       "      <td>25</td>\n",
       "      <td>monsoon</td>\n",
       "      <td>Yes</td>\n",
       "      <td>friends</td>\n",
       "      <td>Any</td>\n",
       "      <td>3</td>\n",
       "    </tr>\n",
       "    <tr>\n",
       "      <td>3</td>\n",
       "      <td>Sirpur Heritage Site</td>\n",
       "      <td>bank of holy Mahanadi river</td>\n",
       "      <td>chhattisgarh</td>\n",
       "      <td>5</td>\n",
       "      <td>Any</td>\n",
       "      <td>Winter</td>\n",
       "      <td>Yes</td>\n",
       "      <td>family</td>\n",
       "      <td>Hindu</td>\n",
       "      <td>4</td>\n",
       "    </tr>\n",
       "    <tr>\n",
       "      <td>4</td>\n",
       "      <td>Rajeev Smriti Van</td>\n",
       "      <td>Raipur</td>\n",
       "      <td>chhattisgarh</td>\n",
       "      <td>3.9</td>\n",
       "      <td>Any</td>\n",
       "      <td>Year</td>\n",
       "      <td>Yes</td>\n",
       "      <td>Solo</td>\n",
       "      <td>Any</td>\n",
       "      <td>5</td>\n",
       "    </tr>\n",
       "  </tbody>\n",
       "</table>\n",
       "</div>"
      ],
      "text/plain": [
       "               location                          place          state rating  \\\n",
       "0      Bhoramdeo Temple  Chaura village, Kawardha town   chhattisgarh      4   \n",
       "1           maitri bagh         Near to Maroda, Bhilai   chhattisgarh      4   \n",
       "2      Tirathgarh Falls                Bastar district   chhattisgarh    4.6   \n",
       "3  Sirpur Heritage Site    bank of holy Mahanadi river   chhattisgarh      5   \n",
       "4     Rajeev Smriti Van                         Raipur   chhattisgarh    3.9   \n",
       "\n",
       "   age   season affordable solo_family_friends religion  item_id  \n",
       "0  NAN   Winter        Yes              family    Hindu        1  \n",
       "1   20     Year        Yes             friends      Any        2  \n",
       "2   25  monsoon        Yes             friends      Any        3  \n",
       "3  Any   Winter        Yes              family    Hindu        4  \n",
       "4  Any     Year        Yes                Solo      Any        5  "
      ]
     },
     "execution_count": 4,
     "metadata": {},
     "output_type": "execute_result"
    }
   ],
   "source": [
    "df1.head()"
   ]
  },
  {
   "cell_type": "code",
   "execution_count": 5,
   "metadata": {},
   "outputs": [
    {
     "data": {
      "text/html": [
       "<div>\n",
       "<style scoped>\n",
       "    .dataframe tbody tr th:only-of-type {\n",
       "        vertical-align: middle;\n",
       "    }\n",
       "\n",
       "    .dataframe tbody tr th {\n",
       "        vertical-align: top;\n",
       "    }\n",
       "\n",
       "    .dataframe thead th {\n",
       "        text-align: right;\n",
       "    }\n",
       "</style>\n",
       "<table border=\"1\" class=\"dataframe\">\n",
       "  <thead>\n",
       "    <tr style=\"text-align: right;\">\n",
       "      <th></th>\n",
       "      <th>user_id</th>\n",
       "      <th>item_id</th>\n",
       "      <th>rating</th>\n",
       "      <th>timestamp</th>\n",
       "    </tr>\n",
       "  </thead>\n",
       "  <tbody>\n",
       "    <tr>\n",
       "      <td>0</td>\n",
       "      <td>1</td>\n",
       "      <td>1</td>\n",
       "      <td>NaN</td>\n",
       "      <td>881250949</td>\n",
       "    </tr>\n",
       "    <tr>\n",
       "      <td>1</td>\n",
       "      <td>1</td>\n",
       "      <td>2</td>\n",
       "      <td>3.0</td>\n",
       "      <td>891717742</td>\n",
       "    </tr>\n",
       "    <tr>\n",
       "      <td>2</td>\n",
       "      <td>1</td>\n",
       "      <td>3</td>\n",
       "      <td>1.0</td>\n",
       "      <td>878887116</td>\n",
       "    </tr>\n",
       "    <tr>\n",
       "      <td>3</td>\n",
       "      <td>1</td>\n",
       "      <td>4</td>\n",
       "      <td>NaN</td>\n",
       "      <td>880606923</td>\n",
       "    </tr>\n",
       "    <tr>\n",
       "      <td>4</td>\n",
       "      <td>1</td>\n",
       "      <td>5</td>\n",
       "      <td>1.0</td>\n",
       "      <td>886397596</td>\n",
       "    </tr>\n",
       "  </tbody>\n",
       "</table>\n",
       "</div>"
      ],
      "text/plain": [
       "   user_id  item_id  rating  timestamp\n",
       "0        1        1     NaN  881250949\n",
       "1        1        2     3.0  891717742\n",
       "2        1        3     1.0  878887116\n",
       "3        1        4     NaN  880606923\n",
       "4        1        5     1.0  886397596"
      ]
     },
     "execution_count": 5,
     "metadata": {},
     "output_type": "execute_result"
    }
   ],
   "source": [
    "df2.head()"
   ]
  },
  {
   "cell_type": "code",
   "execution_count": 6,
   "metadata": {},
   "outputs": [
    {
     "data": {
      "text/plain": [
       "(342, 10)"
      ]
     },
     "execution_count": 6,
     "metadata": {},
     "output_type": "execute_result"
    }
   ],
   "source": [
    "df1.shape"
   ]
  },
  {
   "cell_type": "code",
   "execution_count": 7,
   "metadata": {},
   "outputs": [
    {
     "data": {
      "text/plain": [
       "(352, 4)"
      ]
     },
     "execution_count": 7,
     "metadata": {},
     "output_type": "execute_result"
    }
   ],
   "source": [
    "df2.shape"
   ]
  },
  {
   "cell_type": "code",
   "execution_count": 8,
   "metadata": {},
   "outputs": [
    {
     "data": {
      "text/html": [
       "<div>\n",
       "<style scoped>\n",
       "    .dataframe tbody tr th:only-of-type {\n",
       "        vertical-align: middle;\n",
       "    }\n",
       "\n",
       "    .dataframe tbody tr th {\n",
       "        vertical-align: top;\n",
       "    }\n",
       "\n",
       "    .dataframe thead th {\n",
       "        text-align: right;\n",
       "    }\n",
       "</style>\n",
       "<table border=\"1\" class=\"dataframe\">\n",
       "  <thead>\n",
       "    <tr style=\"text-align: right;\">\n",
       "      <th></th>\n",
       "      <th>location</th>\n",
       "      <th>place</th>\n",
       "      <th>state</th>\n",
       "      <th>rating</th>\n",
       "      <th>age</th>\n",
       "      <th>season</th>\n",
       "      <th>affordable</th>\n",
       "      <th>types_of_travel</th>\n",
       "      <th>religion</th>\n",
       "      <th>item_id</th>\n",
       "    </tr>\n",
       "  </thead>\n",
       "  <tbody>\n",
       "    <tr>\n",
       "      <td>337</td>\n",
       "      <td>pelling</td>\n",
       "      <td>pelling</td>\n",
       "      <td>sikkim</td>\n",
       "      <td>4.5</td>\n",
       "      <td>0</td>\n",
       "      <td>dec-may</td>\n",
       "      <td>yes</td>\n",
       "      <td>all</td>\n",
       "      <td>hindu,sikh</td>\n",
       "      <td>338</td>\n",
       "    </tr>\n",
       "    <tr>\n",
       "      <td>338</td>\n",
       "      <td>zuluk</td>\n",
       "      <td>zuluk</td>\n",
       "      <td>sikkkim</td>\n",
       "      <td>3.5</td>\n",
       "      <td>30</td>\n",
       "      <td>winter</td>\n",
       "      <td>yes</td>\n",
       "      <td>friends</td>\n",
       "      <td>hindu</td>\n",
       "      <td>339</td>\n",
       "    </tr>\n",
       "    <tr>\n",
       "      <td>339</td>\n",
       "      <td>teesta river</td>\n",
       "      <td>teesta river</td>\n",
       "      <td>sikkim</td>\n",
       "      <td>4</td>\n",
       "      <td>30</td>\n",
       "      <td>all</td>\n",
       "      <td>yes</td>\n",
       "      <td>friends</td>\n",
       "      <td>all</td>\n",
       "      <td>340</td>\n",
       "    </tr>\n",
       "    <tr>\n",
       "      <td>340</td>\n",
       "      <td>gurudongmar lake</td>\n",
       "      <td>gurudongmar lake</td>\n",
       "      <td>sikkim</td>\n",
       "      <td>4</td>\n",
       "      <td>30</td>\n",
       "      <td>all</td>\n",
       "      <td>yes</td>\n",
       "      <td>all</td>\n",
       "      <td>all</td>\n",
       "      <td>341</td>\n",
       "    </tr>\n",
       "    <tr>\n",
       "      <td>341</td>\n",
       "      <td>goechala</td>\n",
       "      <td>goechala</td>\n",
       "      <td>sikkim</td>\n",
       "      <td>3.5</td>\n",
       "      <td>30</td>\n",
       "      <td>all</td>\n",
       "      <td>yes</td>\n",
       "      <td>solo</td>\n",
       "      <td>all</td>\n",
       "      <td>342</td>\n",
       "    </tr>\n",
       "  </tbody>\n",
       "</table>\n",
       "</div>"
      ],
      "text/plain": [
       "             location             place    state rating age   season  \\\n",
       "337           pelling           pelling   sikkim    4.5   0  dec-may   \n",
       "338             zuluk             zuluk  sikkkim    3.5  30   winter   \n",
       "339      teesta river      teesta river   sikkim      4  30      all   \n",
       "340  gurudongmar lake  gurudongmar lake   sikkim      4  30      all   \n",
       "341          goechala          goechala   sikkim    3.5  30      all   \n",
       "\n",
       "    affordable types_of_travel    religion  item_id  \n",
       "337        yes             all  hindu,sikh      338  \n",
       "338        yes         friends       hindu      339  \n",
       "339        yes         friends         all      340  \n",
       "340        yes             all         all      341  \n",
       "341        yes            solo         all      342  "
      ]
     },
     "execution_count": 8,
     "metadata": {},
     "output_type": "execute_result"
    }
   ],
   "source": [
    "df1.rename(columns={'solo_family_friends':'types_of_travel'},inplace=True)\n",
    "df1.tail()"
   ]
  },
  {
   "cell_type": "code",
   "execution_count": 9,
   "metadata": {},
   "outputs": [
    {
     "data": {
      "text/html": [
       "<div>\n",
       "<style scoped>\n",
       "    .dataframe tbody tr th:only-of-type {\n",
       "        vertical-align: middle;\n",
       "    }\n",
       "\n",
       "    .dataframe tbody tr th {\n",
       "        vertical-align: top;\n",
       "    }\n",
       "\n",
       "    .dataframe thead th {\n",
       "        text-align: right;\n",
       "    }\n",
       "</style>\n",
       "<table border=\"1\" class=\"dataframe\">\n",
       "  <thead>\n",
       "    <tr style=\"text-align: right;\">\n",
       "      <th></th>\n",
       "      <th>location</th>\n",
       "      <th>place</th>\n",
       "      <th>state</th>\n",
       "      <th>rating_x</th>\n",
       "      <th>age</th>\n",
       "      <th>season</th>\n",
       "      <th>affordable</th>\n",
       "      <th>types_of_travel</th>\n",
       "      <th>religion</th>\n",
       "      <th>item_id</th>\n",
       "      <th>user_id</th>\n",
       "      <th>rating_y</th>\n",
       "      <th>timestamp</th>\n",
       "    </tr>\n",
       "  </thead>\n",
       "  <tbody>\n",
       "    <tr>\n",
       "      <td>0</td>\n",
       "      <td>Bhoramdeo Temple</td>\n",
       "      <td>Chaura village, Kawardha town</td>\n",
       "      <td>chhattisgarh</td>\n",
       "      <td>4</td>\n",
       "      <td>NAN</td>\n",
       "      <td>Winter</td>\n",
       "      <td>Yes</td>\n",
       "      <td>family</td>\n",
       "      <td>Hindu</td>\n",
       "      <td>1</td>\n",
       "      <td>1</td>\n",
       "      <td>NaN</td>\n",
       "      <td>881250949</td>\n",
       "    </tr>\n",
       "    <tr>\n",
       "      <td>1</td>\n",
       "      <td>maitri bagh</td>\n",
       "      <td>Near to Maroda, Bhilai</td>\n",
       "      <td>chhattisgarh</td>\n",
       "      <td>4</td>\n",
       "      <td>20</td>\n",
       "      <td>Year</td>\n",
       "      <td>Yes</td>\n",
       "      <td>friends</td>\n",
       "      <td>Any</td>\n",
       "      <td>2</td>\n",
       "      <td>1</td>\n",
       "      <td>3.0</td>\n",
       "      <td>891717742</td>\n",
       "    </tr>\n",
       "    <tr>\n",
       "      <td>2</td>\n",
       "      <td>Tirathgarh Falls</td>\n",
       "      <td>Bastar district</td>\n",
       "      <td>chhattisgarh</td>\n",
       "      <td>4.6</td>\n",
       "      <td>25</td>\n",
       "      <td>monsoon</td>\n",
       "      <td>Yes</td>\n",
       "      <td>friends</td>\n",
       "      <td>Any</td>\n",
       "      <td>3</td>\n",
       "      <td>1</td>\n",
       "      <td>1.0</td>\n",
       "      <td>878887116</td>\n",
       "    </tr>\n",
       "    <tr>\n",
       "      <td>3</td>\n",
       "      <td>Sirpur Heritage Site</td>\n",
       "      <td>bank of holy Mahanadi river</td>\n",
       "      <td>chhattisgarh</td>\n",
       "      <td>5</td>\n",
       "      <td>Any</td>\n",
       "      <td>Winter</td>\n",
       "      <td>Yes</td>\n",
       "      <td>family</td>\n",
       "      <td>Hindu</td>\n",
       "      <td>4</td>\n",
       "      <td>1</td>\n",
       "      <td>NaN</td>\n",
       "      <td>880606923</td>\n",
       "    </tr>\n",
       "    <tr>\n",
       "      <td>4</td>\n",
       "      <td>Rajeev Smriti Van</td>\n",
       "      <td>Raipur</td>\n",
       "      <td>chhattisgarh</td>\n",
       "      <td>3.9</td>\n",
       "      <td>Any</td>\n",
       "      <td>Year</td>\n",
       "      <td>Yes</td>\n",
       "      <td>Solo</td>\n",
       "      <td>Any</td>\n",
       "      <td>5</td>\n",
       "      <td>1</td>\n",
       "      <td>1.0</td>\n",
       "      <td>886397596</td>\n",
       "    </tr>\n",
       "  </tbody>\n",
       "</table>\n",
       "</div>"
      ],
      "text/plain": [
       "               location                          place          state  \\\n",
       "0      Bhoramdeo Temple  Chaura village, Kawardha town   chhattisgarh   \n",
       "1           maitri bagh         Near to Maroda, Bhilai   chhattisgarh   \n",
       "2      Tirathgarh Falls                Bastar district   chhattisgarh   \n",
       "3  Sirpur Heritage Site    bank of holy Mahanadi river   chhattisgarh   \n",
       "4     Rajeev Smriti Van                         Raipur   chhattisgarh   \n",
       "\n",
       "  rating_x  age   season affordable types_of_travel religion  item_id  \\\n",
       "0        4  NAN   Winter        Yes          family    Hindu        1   \n",
       "1        4   20     Year        Yes         friends      Any        2   \n",
       "2      4.6   25  monsoon        Yes         friends      Any        3   \n",
       "3        5  Any   Winter        Yes          family    Hindu        4   \n",
       "4      3.9  Any     Year        Yes            Solo      Any        5   \n",
       "\n",
       "   user_id  rating_y  timestamp  \n",
       "0        1       NaN  881250949  \n",
       "1        1       3.0  891717742  \n",
       "2        1       1.0  878887116  \n",
       "3        1       NaN  880606923  \n",
       "4        1       1.0  886397596  "
      ]
     },
     "execution_count": 9,
     "metadata": {},
     "output_type": "execute_result"
    }
   ],
   "source": [
    "df=pd.merge(df1,df2,left_on=\"item_id\",right_on=\"item_id\")\n",
    "df.head()"
   ]
  },
  {
   "cell_type": "code",
   "execution_count": 10,
   "metadata": {},
   "outputs": [
    {
     "data": {
      "text/plain": [
       "(342, 13)"
      ]
     },
     "execution_count": 10,
     "metadata": {},
     "output_type": "execute_result"
    }
   ],
   "source": [
    "df.shape"
   ]
  },
  {
   "cell_type": "code",
   "execution_count": 11,
   "metadata": {},
   "outputs": [
    {
     "data": {
      "text/html": [
       "<div>\n",
       "<style scoped>\n",
       "    .dataframe tbody tr th:only-of-type {\n",
       "        vertical-align: middle;\n",
       "    }\n",
       "\n",
       "    .dataframe tbody tr th {\n",
       "        vertical-align: top;\n",
       "    }\n",
       "\n",
       "    .dataframe thead th {\n",
       "        text-align: right;\n",
       "    }\n",
       "</style>\n",
       "<table border=\"1\" class=\"dataframe\">\n",
       "  <thead>\n",
       "    <tr style=\"text-align: right;\">\n",
       "      <th></th>\n",
       "      <th>location</th>\n",
       "      <th>place</th>\n",
       "      <th>state</th>\n",
       "      <th>location_rating</th>\n",
       "      <th>age</th>\n",
       "      <th>season</th>\n",
       "      <th>affordable</th>\n",
       "      <th>types_of_travel</th>\n",
       "      <th>religion</th>\n",
       "      <th>item_id</th>\n",
       "      <th>user_id</th>\n",
       "      <th>user_rating</th>\n",
       "      <th>timestamp</th>\n",
       "    </tr>\n",
       "  </thead>\n",
       "  <tbody>\n",
       "    <tr>\n",
       "      <td>0</td>\n",
       "      <td>Bhoramdeo Temple</td>\n",
       "      <td>Chaura village, Kawardha town</td>\n",
       "      <td>chhattisgarh</td>\n",
       "      <td>4</td>\n",
       "      <td>NAN</td>\n",
       "      <td>Winter</td>\n",
       "      <td>Yes</td>\n",
       "      <td>family</td>\n",
       "      <td>Hindu</td>\n",
       "      <td>1</td>\n",
       "      <td>1</td>\n",
       "      <td>NaN</td>\n",
       "      <td>881250949</td>\n",
       "    </tr>\n",
       "    <tr>\n",
       "      <td>1</td>\n",
       "      <td>maitri bagh</td>\n",
       "      <td>Near to Maroda, Bhilai</td>\n",
       "      <td>chhattisgarh</td>\n",
       "      <td>4</td>\n",
       "      <td>20</td>\n",
       "      <td>Year</td>\n",
       "      <td>Yes</td>\n",
       "      <td>friends</td>\n",
       "      <td>Any</td>\n",
       "      <td>2</td>\n",
       "      <td>1</td>\n",
       "      <td>3.0</td>\n",
       "      <td>891717742</td>\n",
       "    </tr>\n",
       "    <tr>\n",
       "      <td>2</td>\n",
       "      <td>Tirathgarh Falls</td>\n",
       "      <td>Bastar district</td>\n",
       "      <td>chhattisgarh</td>\n",
       "      <td>4.6</td>\n",
       "      <td>25</td>\n",
       "      <td>monsoon</td>\n",
       "      <td>Yes</td>\n",
       "      <td>friends</td>\n",
       "      <td>Any</td>\n",
       "      <td>3</td>\n",
       "      <td>1</td>\n",
       "      <td>1.0</td>\n",
       "      <td>878887116</td>\n",
       "    </tr>\n",
       "    <tr>\n",
       "      <td>3</td>\n",
       "      <td>Sirpur Heritage Site</td>\n",
       "      <td>bank of holy Mahanadi river</td>\n",
       "      <td>chhattisgarh</td>\n",
       "      <td>5</td>\n",
       "      <td>Any</td>\n",
       "      <td>Winter</td>\n",
       "      <td>Yes</td>\n",
       "      <td>family</td>\n",
       "      <td>Hindu</td>\n",
       "      <td>4</td>\n",
       "      <td>1</td>\n",
       "      <td>NaN</td>\n",
       "      <td>880606923</td>\n",
       "    </tr>\n",
       "    <tr>\n",
       "      <td>4</td>\n",
       "      <td>Rajeev Smriti Van</td>\n",
       "      <td>Raipur</td>\n",
       "      <td>chhattisgarh</td>\n",
       "      <td>3.9</td>\n",
       "      <td>Any</td>\n",
       "      <td>Year</td>\n",
       "      <td>Yes</td>\n",
       "      <td>Solo</td>\n",
       "      <td>Any</td>\n",
       "      <td>5</td>\n",
       "      <td>1</td>\n",
       "      <td>1.0</td>\n",
       "      <td>886397596</td>\n",
       "    </tr>\n",
       "  </tbody>\n",
       "</table>\n",
       "</div>"
      ],
      "text/plain": [
       "               location                          place          state  \\\n",
       "0      Bhoramdeo Temple  Chaura village, Kawardha town   chhattisgarh   \n",
       "1           maitri bagh         Near to Maroda, Bhilai   chhattisgarh   \n",
       "2      Tirathgarh Falls                Bastar district   chhattisgarh   \n",
       "3  Sirpur Heritage Site    bank of holy Mahanadi river   chhattisgarh   \n",
       "4     Rajeev Smriti Van                         Raipur   chhattisgarh   \n",
       "\n",
       "  location_rating  age   season affordable types_of_travel religion  item_id  \\\n",
       "0               4  NAN   Winter        Yes          family    Hindu        1   \n",
       "1               4   20     Year        Yes         friends      Any        2   \n",
       "2             4.6   25  monsoon        Yes         friends      Any        3   \n",
       "3               5  Any   Winter        Yes          family    Hindu        4   \n",
       "4             3.9  Any     Year        Yes            Solo      Any        5   \n",
       "\n",
       "   user_id  user_rating  timestamp  \n",
       "0        1          NaN  881250949  \n",
       "1        1          3.0  891717742  \n",
       "2        1          1.0  878887116  \n",
       "3        1          NaN  880606923  \n",
       "4        1          1.0  886397596  "
      ]
     },
     "execution_count": 11,
     "metadata": {},
     "output_type": "execute_result"
    }
   ],
   "source": [
    "df.rename(columns={'rating_x':'location_rating','rating_y':'user_rating'},inplace=True)\n",
    "df.head()"
   ]
  },
  {
   "cell_type": "code",
   "execution_count": 12,
   "metadata": {},
   "outputs": [
    {
     "data": {
      "text/plain": [
       "location            object\n",
       "place               object\n",
       "state               object\n",
       "location_rating     object\n",
       "age                 object\n",
       "season              object\n",
       "affordable          object\n",
       "types_of_travel     object\n",
       "religion            object\n",
       "item_id              int64\n",
       "user_id              int64\n",
       "user_rating        float64\n",
       "timestamp            int64\n",
       "dtype: object"
      ]
     },
     "execution_count": 12,
     "metadata": {},
     "output_type": "execute_result"
    }
   ],
   "source": [
    "df.dtypes"
   ]
  },
  {
   "cell_type": "code",
   "execution_count": 13,
   "metadata": {},
   "outputs": [
    {
     "data": {
      "text/plain": [
       "array(['4', '4.6', '5', '3.9', '4.4', '4.2', '4.3', '4.5', '3.5', '4.8',\n",
       "       nan, '4.7', '4.1', '3.6', '4.9', '2.6', '3.4', '3.1', '3.8', 'Nan',\n",
       "       '3.7', '3'], dtype=object)"
      ]
     },
     "execution_count": 13,
     "metadata": {},
     "output_type": "execute_result"
    }
   ],
   "source": [
    "df['location_rating'].unique()"
   ]
  },
  {
   "cell_type": "code",
   "execution_count": 14,
   "metadata": {},
   "outputs": [],
   "source": [
    "df['location_rating'].replace(to_replace=['Nan','nan','NAN','NaN'],value=0,inplace=True)"
   ]
  },
  {
   "cell_type": "code",
   "execution_count": 15,
   "metadata": {
    "scrolled": true
   },
   "outputs": [
    {
     "data": {
      "text/plain": [
       "array(['4', '4.6', '5', '3.9', '4.4', '4.2', '4.3', '4.5', '3.5', '4.8',\n",
       "       nan, '4.7', '4.1', '3.6', '4.9', '2.6', '3.4', '3.1', '3.8', 0,\n",
       "       '3.7', '3'], dtype=object)"
      ]
     },
     "execution_count": 15,
     "metadata": {},
     "output_type": "execute_result"
    }
   ],
   "source": [
    "df['location_rating'].unique()"
   ]
  },
  {
   "cell_type": "code",
   "execution_count": 16,
   "metadata": {},
   "outputs": [
    {
     "data": {
      "text/plain": [
       "4"
      ]
     },
     "execution_count": 16,
     "metadata": {},
     "output_type": "execute_result"
    }
   ],
   "source": [
    "df['location_rating'].isnull().sum()"
   ]
  },
  {
   "cell_type": "code",
   "execution_count": 17,
   "metadata": {},
   "outputs": [
    {
     "data": {
      "text/html": [
       "<div>\n",
       "<style scoped>\n",
       "    .dataframe tbody tr th:only-of-type {\n",
       "        vertical-align: middle;\n",
       "    }\n",
       "\n",
       "    .dataframe tbody tr th {\n",
       "        vertical-align: top;\n",
       "    }\n",
       "\n",
       "    .dataframe thead th {\n",
       "        text-align: right;\n",
       "    }\n",
       "</style>\n",
       "<table border=\"1\" class=\"dataframe\">\n",
       "  <thead>\n",
       "    <tr style=\"text-align: right;\">\n",
       "      <th></th>\n",
       "      <th>location</th>\n",
       "      <th>place</th>\n",
       "      <th>state</th>\n",
       "      <th>location_rating</th>\n",
       "      <th>age</th>\n",
       "      <th>season</th>\n",
       "      <th>affordable</th>\n",
       "      <th>types_of_travel</th>\n",
       "      <th>religion</th>\n",
       "      <th>item_id</th>\n",
       "      <th>user_id</th>\n",
       "      <th>user_rating</th>\n",
       "      <th>timestamp</th>\n",
       "    </tr>\n",
       "  </thead>\n",
       "  <tbody>\n",
       "    <tr>\n",
       "      <td>20</td>\n",
       "      <td>Gir National Park</td>\n",
       "      <td>Gujarat</td>\n",
       "      <td>Gujarat</td>\n",
       "      <td>NaN</td>\n",
       "      <td>11</td>\n",
       "      <td>Winter</td>\n",
       "      <td>Yes</td>\n",
       "      <td>friends</td>\n",
       "      <td>Any</td>\n",
       "      <td>21</td>\n",
       "      <td>1</td>\n",
       "      <td>4.0</td>\n",
       "      <td>886176814</td>\n",
       "    </tr>\n",
       "    <tr>\n",
       "      <td>59</td>\n",
       "      <td>Ghatshila</td>\n",
       "      <td>singhbhum</td>\n",
       "      <td>Jharkhand</td>\n",
       "      <td>NaN</td>\n",
       "      <td>All ages</td>\n",
       "      <td>autumn,winter,spring</td>\n",
       "      <td>yes</td>\n",
       "      <td>Any</td>\n",
       "      <td>NaN</td>\n",
       "      <td>60</td>\n",
       "      <td>2</td>\n",
       "      <td>NaN</td>\n",
       "      <td>881103977</td>\n",
       "    </tr>\n",
       "    <tr>\n",
       "      <td>189</td>\n",
       "      <td>mount saramati</td>\n",
       "      <td>burma</td>\n",
       "      <td>nagaland</td>\n",
       "      <td>NaN</td>\n",
       "      <td>&gt;20</td>\n",
       "      <td>spring</td>\n",
       "      <td>yes</td>\n",
       "      <td>solo</td>\n",
       "      <td>any</td>\n",
       "      <td>190</td>\n",
       "      <td>6</td>\n",
       "      <td>5.0</td>\n",
       "      <td>884128554</td>\n",
       "    </tr>\n",
       "    <tr>\n",
       "      <td>196</td>\n",
       "      <td>kyllang rock</td>\n",
       "      <td>khasi hills</td>\n",
       "      <td>meghalaya</td>\n",
       "      <td>NaN</td>\n",
       "      <td>&gt;20</td>\n",
       "      <td>any</td>\n",
       "      <td>yes</td>\n",
       "      <td>solo</td>\n",
       "      <td>any</td>\n",
       "      <td>197</td>\n",
       "      <td>7</td>\n",
       "      <td>3.0</td>\n",
       "      <td>876857977</td>\n",
       "    </tr>\n",
       "  </tbody>\n",
       "</table>\n",
       "</div>"
      ],
      "text/plain": [
       "              location         place      state location_rating       age  \\\n",
       "20   Gir National Park       Gujarat    Gujarat             NaN        11   \n",
       "59           Ghatshila     singhbhum  Jharkhand             NaN  All ages   \n",
       "189     mount saramati         burma   nagaland             NaN       >20   \n",
       "196      kyllang rock   khasi hills   meghalaya             NaN       >20   \n",
       "\n",
       "                   season affordable types_of_travel religion  item_id  \\\n",
       "20                 Winter        Yes         friends      Any       21   \n",
       "59   autumn,winter,spring        yes             Any      NaN       60   \n",
       "189                spring        yes            solo      any      190   \n",
       "196                   any        yes            solo      any      197   \n",
       "\n",
       "     user_id  user_rating  timestamp  \n",
       "20         1          4.0  886176814  \n",
       "59         2          NaN  881103977  \n",
       "189        6          5.0  884128554  \n",
       "196        7          3.0  876857977  "
      ]
     },
     "execution_count": 17,
     "metadata": {},
     "output_type": "execute_result"
    }
   ],
   "source": [
    "df[df['location_rating'].isnull()]"
   ]
  },
  {
   "cell_type": "code",
   "execution_count": 18,
   "metadata": {},
   "outputs": [],
   "source": [
    "df['location_rating'].fillna('0',inplace=True)"
   ]
  },
  {
   "cell_type": "code",
   "execution_count": 19,
   "metadata": {},
   "outputs": [
    {
     "data": {
      "text/plain": [
       "0"
      ]
     },
     "execution_count": 19,
     "metadata": {},
     "output_type": "execute_result"
    }
   ],
   "source": [
    "df['location_rating'].isnull().sum()"
   ]
  },
  {
   "cell_type": "code",
   "execution_count": 20,
   "metadata": {},
   "outputs": [
    {
     "data": {
      "text/plain": [
       "location            object\n",
       "place               object\n",
       "state               object\n",
       "location_rating     object\n",
       "age                 object\n",
       "season              object\n",
       "affordable          object\n",
       "types_of_travel     object\n",
       "religion            object\n",
       "item_id              int64\n",
       "user_id              int64\n",
       "user_rating        float64\n",
       "timestamp            int64\n",
       "dtype: object"
      ]
     },
     "execution_count": 20,
     "metadata": {},
     "output_type": "execute_result"
    }
   ],
   "source": [
    "df.dtypes"
   ]
  },
  {
   "cell_type": "code",
   "execution_count": 21,
   "metadata": {},
   "outputs": [
    {
     "data": {
      "text/plain": [
       "dtype('O')"
      ]
     },
     "execution_count": 21,
     "metadata": {},
     "output_type": "execute_result"
    }
   ],
   "source": [
    "df['location_rating'].dtypes"
   ]
  },
  {
   "cell_type": "code",
   "execution_count": 22,
   "metadata": {},
   "outputs": [],
   "source": [
    "df['location_rating']=df['location_rating'].astype(float)"
   ]
  },
  {
   "cell_type": "code",
   "execution_count": 23,
   "metadata": {
    "scrolled": true
   },
   "outputs": [
    {
     "data": {
      "text/plain": [
       "location            object\n",
       "place               object\n",
       "state               object\n",
       "location_rating    float64\n",
       "age                 object\n",
       "season              object\n",
       "affordable          object\n",
       "types_of_travel     object\n",
       "religion            object\n",
       "item_id              int64\n",
       "user_id              int64\n",
       "user_rating        float64\n",
       "timestamp            int64\n",
       "dtype: object"
      ]
     },
     "execution_count": 23,
     "metadata": {},
     "output_type": "execute_result"
    }
   ],
   "source": [
    "df.dtypes"
   ]
  },
  {
   "cell_type": "code",
   "execution_count": 24,
   "metadata": {},
   "outputs": [
    {
     "data": {
      "text/plain": [
       "129"
      ]
     },
     "execution_count": 24,
     "metadata": {},
     "output_type": "execute_result"
    }
   ],
   "source": [
    "df['user_rating'].isnull().sum()"
   ]
  },
  {
   "cell_type": "code",
   "execution_count": 25,
   "metadata": {},
   "outputs": [
    {
     "data": {
      "text/html": [
       "<div>\n",
       "<style scoped>\n",
       "    .dataframe tbody tr th:only-of-type {\n",
       "        vertical-align: middle;\n",
       "    }\n",
       "\n",
       "    .dataframe tbody tr th {\n",
       "        vertical-align: top;\n",
       "    }\n",
       "\n",
       "    .dataframe thead th {\n",
       "        text-align: right;\n",
       "    }\n",
       "</style>\n",
       "<table border=\"1\" class=\"dataframe\">\n",
       "  <thead>\n",
       "    <tr style=\"text-align: right;\">\n",
       "      <th></th>\n",
       "      <th>location</th>\n",
       "      <th>place</th>\n",
       "      <th>state</th>\n",
       "      <th>location_rating</th>\n",
       "      <th>age</th>\n",
       "      <th>season</th>\n",
       "      <th>affordable</th>\n",
       "      <th>types_of_travel</th>\n",
       "      <th>religion</th>\n",
       "      <th>item_id</th>\n",
       "      <th>user_id</th>\n",
       "      <th>user_rating</th>\n",
       "      <th>timestamp</th>\n",
       "    </tr>\n",
       "  </thead>\n",
       "  <tbody>\n",
       "    <tr>\n",
       "      <td>0</td>\n",
       "      <td>Bhoramdeo Temple</td>\n",
       "      <td>Chaura village, Kawardha town</td>\n",
       "      <td>chhattisgarh</td>\n",
       "      <td>4.0</td>\n",
       "      <td>NAN</td>\n",
       "      <td>Winter</td>\n",
       "      <td>Yes</td>\n",
       "      <td>family</td>\n",
       "      <td>Hindu</td>\n",
       "      <td>1</td>\n",
       "      <td>1</td>\n",
       "      <td>NaN</td>\n",
       "      <td>881250949</td>\n",
       "    </tr>\n",
       "    <tr>\n",
       "      <td>3</td>\n",
       "      <td>Sirpur Heritage Site</td>\n",
       "      <td>bank of holy Mahanadi river</td>\n",
       "      <td>chhattisgarh</td>\n",
       "      <td>5.0</td>\n",
       "      <td>Any</td>\n",
       "      <td>Winter</td>\n",
       "      <td>Yes</td>\n",
       "      <td>family</td>\n",
       "      <td>Hindu</td>\n",
       "      <td>4</td>\n",
       "      <td>1</td>\n",
       "      <td>NaN</td>\n",
       "      <td>880606923</td>\n",
       "    </tr>\n",
       "    <tr>\n",
       "      <td>5</td>\n",
       "      <td>Palolem Beach</td>\n",
       "      <td>Canacona</td>\n",
       "      <td>Goa</td>\n",
       "      <td>5.0</td>\n",
       "      <td>22</td>\n",
       "      <td>Spring</td>\n",
       "      <td>Yes</td>\n",
       "      <td>friends</td>\n",
       "      <td>Any</td>\n",
       "      <td>6</td>\n",
       "      <td>1</td>\n",
       "      <td>NaN</td>\n",
       "      <td>884182806</td>\n",
       "    </tr>\n",
       "    <tr>\n",
       "      <td>6</td>\n",
       "      <td>Calangute beach</td>\n",
       "      <td>North Goaalangute beach</td>\n",
       "      <td>Goa</td>\n",
       "      <td>4.4</td>\n",
       "      <td>Any</td>\n",
       "      <td>monsoon</td>\n",
       "      <td>Yes</td>\n",
       "      <td>friends</td>\n",
       "      <td>Any</td>\n",
       "      <td>7</td>\n",
       "      <td>1</td>\n",
       "      <td>NaN</td>\n",
       "      <td>881171488</td>\n",
       "    </tr>\n",
       "    <tr>\n",
       "      <td>9</td>\n",
       "      <td>Basilica de Bom Jesus</td>\n",
       "      <td>Bainguinim</td>\n",
       "      <td>Goa</td>\n",
       "      <td>4.5</td>\n",
       "      <td>Any</td>\n",
       "      <td>summer</td>\n",
       "      <td>Yes</td>\n",
       "      <td>family</td>\n",
       "      <td>christian</td>\n",
       "      <td>10</td>\n",
       "      <td>1</td>\n",
       "      <td>NaN</td>\n",
       "      <td>883603013</td>\n",
       "    </tr>\n",
       "    <tr>\n",
       "      <td>...</td>\n",
       "      <td>...</td>\n",
       "      <td>...</td>\n",
       "      <td>...</td>\n",
       "      <td>...</td>\n",
       "      <td>...</td>\n",
       "      <td>...</td>\n",
       "      <td>...</td>\n",
       "      <td>...</td>\n",
       "      <td>...</td>\n",
       "      <td>...</td>\n",
       "      <td>...</td>\n",
       "      <td>...</td>\n",
       "      <td>...</td>\n",
       "    </tr>\n",
       "    <tr>\n",
       "      <td>326</td>\n",
       "      <td>udaipur</td>\n",
       "      <td>udaipur</td>\n",
       "      <td>rajasthan</td>\n",
       "      <td>4.0</td>\n",
       "      <td>0</td>\n",
       "      <td>monsoon</td>\n",
       "      <td>yes</td>\n",
       "      <td>all</td>\n",
       "      <td>all</td>\n",
       "      <td>327</td>\n",
       "      <td>11</td>\n",
       "      <td>NaN</td>\n",
       "      <td>890687042</td>\n",
       "    </tr>\n",
       "    <tr>\n",
       "      <td>331</td>\n",
       "      <td>pali</td>\n",
       "      <td>pali</td>\n",
       "      <td>rajasthan</td>\n",
       "      <td>4.0</td>\n",
       "      <td>0</td>\n",
       "      <td>oct-apr</td>\n",
       "      <td>yes</td>\n",
       "      <td>all</td>\n",
       "      <td>all</td>\n",
       "      <td>332</td>\n",
       "      <td>11</td>\n",
       "      <td>NaN</td>\n",
       "      <td>880245029</td>\n",
       "    </tr>\n",
       "    <tr>\n",
       "      <td>334</td>\n",
       "      <td>nathula pass</td>\n",
       "      <td>natula pass</td>\n",
       "      <td>sikkim</td>\n",
       "      <td>4.0</td>\n",
       "      <td>0</td>\n",
       "      <td>all</td>\n",
       "      <td>yes</td>\n",
       "      <td>all</td>\n",
       "      <td>all</td>\n",
       "      <td>335</td>\n",
       "      <td>11</td>\n",
       "      <td>NaN</td>\n",
       "      <td>877533771</td>\n",
       "    </tr>\n",
       "    <tr>\n",
       "      <td>339</td>\n",
       "      <td>teesta river</td>\n",
       "      <td>teesta river</td>\n",
       "      <td>sikkim</td>\n",
       "      <td>4.0</td>\n",
       "      <td>30</td>\n",
       "      <td>all</td>\n",
       "      <td>yes</td>\n",
       "      <td>friends</td>\n",
       "      <td>all</td>\n",
       "      <td>340</td>\n",
       "      <td>11</td>\n",
       "      <td>NaN</td>\n",
       "      <td>879551380</td>\n",
       "    </tr>\n",
       "    <tr>\n",
       "      <td>341</td>\n",
       "      <td>goechala</td>\n",
       "      <td>goechala</td>\n",
       "      <td>sikkim</td>\n",
       "      <td>3.5</td>\n",
       "      <td>30</td>\n",
       "      <td>all</td>\n",
       "      <td>yes</td>\n",
       "      <td>solo</td>\n",
       "      <td>all</td>\n",
       "      <td>342</td>\n",
       "      <td>11</td>\n",
       "      <td>NaN</td>\n",
       "      <td>882139746</td>\n",
       "    </tr>\n",
       "  </tbody>\n",
       "</table>\n",
       "<p>129 rows × 13 columns</p>\n",
       "</div>"
      ],
      "text/plain": [
       "                  location                          place          state  \\\n",
       "0         Bhoramdeo Temple  Chaura village, Kawardha town   chhattisgarh   \n",
       "3     Sirpur Heritage Site    bank of holy Mahanadi river   chhattisgarh   \n",
       "5            Palolem Beach                       Canacona            Goa   \n",
       "6          Calangute beach        North Goaalangute beach            Goa   \n",
       "9    Basilica de Bom Jesus                     Bainguinim            Goa   \n",
       "..                     ...                            ...            ...   \n",
       "326                udaipur                        udaipur      rajasthan   \n",
       "331                   pali                           pali      rajasthan   \n",
       "334           nathula pass                    natula pass         sikkim   \n",
       "339           teesta river                   teesta river         sikkim   \n",
       "341               goechala                       goechala         sikkim   \n",
       "\n",
       "     location_rating  age   season affordable types_of_travel   religion  \\\n",
       "0                4.0  NAN   Winter        Yes          family      Hindu   \n",
       "3                5.0  Any   Winter        Yes          family      Hindu   \n",
       "5                5.0   22   Spring        Yes         friends        Any   \n",
       "6                4.4  Any  monsoon        Yes         friends        Any   \n",
       "9                4.5  Any   summer        Yes          family  christian   \n",
       "..               ...  ...      ...        ...             ...        ...   \n",
       "326              4.0    0  monsoon        yes             all        all   \n",
       "331              4.0    0  oct-apr        yes             all        all   \n",
       "334              4.0    0      all        yes             all        all   \n",
       "339              4.0   30      all        yes         friends        all   \n",
       "341              3.5   30      all        yes            solo        all   \n",
       "\n",
       "     item_id  user_id  user_rating  timestamp  \n",
       "0          1        1          NaN  881250949  \n",
       "3          4        1          NaN  880606923  \n",
       "5          6        1          NaN  884182806  \n",
       "6          7        1          NaN  881171488  \n",
       "9         10        1          NaN  883603013  \n",
       "..       ...      ...          ...        ...  \n",
       "326      327       11          NaN  890687042  \n",
       "331      332       11          NaN  880245029  \n",
       "334      335       11          NaN  877533771  \n",
       "339      340       11          NaN  879551380  \n",
       "341      342       11          NaN  882139746  \n",
       "\n",
       "[129 rows x 13 columns]"
      ]
     },
     "execution_count": 25,
     "metadata": {},
     "output_type": "execute_result"
    }
   ],
   "source": [
    "df[df['user_rating'].isnull()]"
   ]
  },
  {
   "cell_type": "code",
   "execution_count": 26,
   "metadata": {},
   "outputs": [
    {
     "data": {
      "text/plain": [
       "array([nan,  3.,  1.,  5.,  2.,  4.])"
      ]
     },
     "execution_count": 26,
     "metadata": {},
     "output_type": "execute_result"
    }
   ],
   "source": [
    "df['user_rating'].unique()"
   ]
  },
  {
   "cell_type": "code",
   "execution_count": 27,
   "metadata": {},
   "outputs": [],
   "source": [
    "df['user_rating'].fillna(0,inplace=True)"
   ]
  },
  {
   "cell_type": "code",
   "execution_count": 28,
   "metadata": {},
   "outputs": [
    {
     "data": {
      "text/plain": [
       "array([0., 3., 1., 5., 2., 4.])"
      ]
     },
     "execution_count": 28,
     "metadata": {},
     "output_type": "execute_result"
    }
   ],
   "source": [
    "df['user_rating'].unique()"
   ]
  },
  {
   "cell_type": "code",
   "execution_count": 29,
   "metadata": {},
   "outputs": [
    {
     "data": {
      "text/plain": [
       "4.14122807017544"
      ]
     },
     "execution_count": 29,
     "metadata": {},
     "output_type": "execute_result"
    }
   ],
   "source": [
    "mean_val=df['location_rating'].mean()\n",
    "mean_val"
   ]
  },
  {
   "cell_type": "code",
   "execution_count": 30,
   "metadata": {},
   "outputs": [
    {
     "data": {
      "text/plain": [
       "4.1"
      ]
     },
     "execution_count": 30,
     "metadata": {},
     "output_type": "execute_result"
    }
   ],
   "source": [
    "mean_val=round(mean_val,1)\n",
    "mean_val"
   ]
  },
  {
   "cell_type": "code",
   "execution_count": 31,
   "metadata": {},
   "outputs": [],
   "source": [
    "df['location_rating'].replace(to_replace=0,value=mean_val,inplace=True)\n"
   ]
  },
  {
   "cell_type": "code",
   "execution_count": 32,
   "metadata": {},
   "outputs": [
    {
     "data": {
      "text/plain": [
       "array([4. , 4.6, 5. , 3.9, 4.4, 4.2, 4.3, 4.5, 3.5, 4.8, 4.1, 4.7, 3.6,\n",
       "       4.9, 2.6, 3.4, 3.1, 3.8, 3.7, 3. ])"
      ]
     },
     "execution_count": 32,
     "metadata": {},
     "output_type": "execute_result"
    }
   ],
   "source": [
    "df['location_rating'].unique()"
   ]
  },
  {
   "cell_type": "code",
   "execution_count": 33,
   "metadata": {},
   "outputs": [
    {
     "data": {
      "text/plain": [
       "location            object\n",
       "place               object\n",
       "state               object\n",
       "location_rating    float64\n",
       "age                 object\n",
       "season              object\n",
       "affordable          object\n",
       "types_of_travel     object\n",
       "religion            object\n",
       "item_id              int64\n",
       "user_id              int64\n",
       "user_rating        float64\n",
       "timestamp            int64\n",
       "dtype: object"
      ]
     },
     "execution_count": 33,
     "metadata": {},
     "output_type": "execute_result"
    }
   ],
   "source": [
    "df.dtypes"
   ]
  },
  {
   "cell_type": "code",
   "execution_count": 34,
   "metadata": {},
   "outputs": [
    {
     "data": {
      "text/plain": [
       "location            0\n",
       "place               1\n",
       "state               1\n",
       "location_rating     0\n",
       "age                 0\n",
       "season              0\n",
       "affordable          0\n",
       "types_of_travel     0\n",
       "religion           69\n",
       "item_id             0\n",
       "user_id             0\n",
       "user_rating         0\n",
       "timestamp           0\n",
       "dtype: int64"
      ]
     },
     "execution_count": 34,
     "metadata": {},
     "output_type": "execute_result"
    }
   ],
   "source": [
    "df.isnull().sum()"
   ]
  },
  {
   "cell_type": "code",
   "execution_count": 35,
   "metadata": {},
   "outputs": [
    {
     "data": {
      "text/plain": [
       "(342, 13)"
      ]
     },
     "execution_count": 35,
     "metadata": {},
     "output_type": "execute_result"
    }
   ],
   "source": [
    "df.shape"
   ]
  },
  {
   "cell_type": "code",
   "execution_count": 36,
   "metadata": {},
   "outputs": [
    {
     "data": {
      "text/plain": [
       "0"
      ]
     },
     "execution_count": 36,
     "metadata": {},
     "output_type": "execute_result"
    }
   ],
   "source": [
    "df.dropna(how='any',subset=['place','state'],inplace=True)\n",
    "df['place'].isnull().sum()"
   ]
  },
  {
   "cell_type": "code",
   "execution_count": 37,
   "metadata": {},
   "outputs": [
    {
     "data": {
      "text/plain": [
       "location            0\n",
       "place               0\n",
       "state               0\n",
       "location_rating     0\n",
       "age                 0\n",
       "season              0\n",
       "affordable          0\n",
       "types_of_travel     0\n",
       "religion           68\n",
       "item_id             0\n",
       "user_id             0\n",
       "user_rating         0\n",
       "timestamp           0\n",
       "dtype: int64"
      ]
     },
     "execution_count": 37,
     "metadata": {},
     "output_type": "execute_result"
    }
   ],
   "source": [
    "df.isnull().sum()"
   ]
  },
  {
   "cell_type": "code",
   "execution_count": 38,
   "metadata": {},
   "outputs": [
    {
     "data": {
      "text/html": [
       "<div>\n",
       "<style scoped>\n",
       "    .dataframe tbody tr th:only-of-type {\n",
       "        vertical-align: middle;\n",
       "    }\n",
       "\n",
       "    .dataframe tbody tr th {\n",
       "        vertical-align: top;\n",
       "    }\n",
       "\n",
       "    .dataframe thead th {\n",
       "        text-align: right;\n",
       "    }\n",
       "</style>\n",
       "<table border=\"1\" class=\"dataframe\">\n",
       "  <thead>\n",
       "    <tr style=\"text-align: right;\">\n",
       "      <th></th>\n",
       "      <th>location</th>\n",
       "      <th>place</th>\n",
       "      <th>state</th>\n",
       "      <th>location_rating</th>\n",
       "      <th>age</th>\n",
       "      <th>season</th>\n",
       "      <th>affordable</th>\n",
       "      <th>types_of_travel</th>\n",
       "      <th>religion</th>\n",
       "      <th>item_id</th>\n",
       "      <th>user_id</th>\n",
       "      <th>user_rating</th>\n",
       "      <th>timestamp</th>\n",
       "    </tr>\n",
       "  </thead>\n",
       "  <tbody>\n",
       "    <tr>\n",
       "      <td>34</td>\n",
       "      <td>Solang Valley</td>\n",
       "      <td>Manali</td>\n",
       "      <td>Himachal pradesh</td>\n",
       "      <td>4.0</td>\n",
       "      <td>&lt;40</td>\n",
       "      <td>summer,winter</td>\n",
       "      <td>yes</td>\n",
       "      <td>family,friends</td>\n",
       "      <td>NaN</td>\n",
       "      <td>35</td>\n",
       "      <td>2</td>\n",
       "      <td>0.0</td>\n",
       "      <td>884238860</td>\n",
       "    </tr>\n",
       "    <tr>\n",
       "      <td>36</td>\n",
       "      <td>Beas River</td>\n",
       "      <td>central Himachal pradesh</td>\n",
       "      <td>Himachal pradesh</td>\n",
       "      <td>4.5</td>\n",
       "      <td>20and above</td>\n",
       "      <td>All Seasons</td>\n",
       "      <td>yes</td>\n",
       "      <td>friends,family</td>\n",
       "      <td>NaN</td>\n",
       "      <td>37</td>\n",
       "      <td>2</td>\n",
       "      <td>1.0</td>\n",
       "      <td>878962623</td>\n",
       "    </tr>\n",
       "    <tr>\n",
       "      <td>38</td>\n",
       "      <td>Jogini Waterfall</td>\n",
       "      <td>Manali</td>\n",
       "      <td>Himachal pradesh</td>\n",
       "      <td>4.5</td>\n",
       "      <td>All ages</td>\n",
       "      <td>Summer,spring,Autumn</td>\n",
       "      <td>yes</td>\n",
       "      <td>Any</td>\n",
       "      <td>NaN</td>\n",
       "      <td>39</td>\n",
       "      <td>2</td>\n",
       "      <td>1.0</td>\n",
       "      <td>874791932</td>\n",
       "    </tr>\n",
       "    <tr>\n",
       "      <td>39</td>\n",
       "      <td>Spiti valley</td>\n",
       "      <td>Lahaul</td>\n",
       "      <td>Himachal pradesh</td>\n",
       "      <td>5.0</td>\n",
       "      <td>All ages</td>\n",
       "      <td>Summer,Autumn</td>\n",
       "      <td>yes</td>\n",
       "      <td>Any</td>\n",
       "      <td>NaN</td>\n",
       "      <td>40</td>\n",
       "      <td>2</td>\n",
       "      <td>4.0</td>\n",
       "      <td>891350932</td>\n",
       "    </tr>\n",
       "    <tr>\n",
       "      <td>41</td>\n",
       "      <td>Triund Hill</td>\n",
       "      <td>Kangra</td>\n",
       "      <td>Himachal pradesh</td>\n",
       "      <td>4.5</td>\n",
       "      <td>20 and above</td>\n",
       "      <td>Summer,Autumn</td>\n",
       "      <td>yes</td>\n",
       "      <td>friends,solo</td>\n",
       "      <td>NaN</td>\n",
       "      <td>42</td>\n",
       "      <td>2</td>\n",
       "      <td>4.0</td>\n",
       "      <td>885329322</td>\n",
       "    </tr>\n",
       "    <tr>\n",
       "      <td>...</td>\n",
       "      <td>...</td>\n",
       "      <td>...</td>\n",
       "      <td>...</td>\n",
       "      <td>...</td>\n",
       "      <td>...</td>\n",
       "      <td>...</td>\n",
       "      <td>...</td>\n",
       "      <td>...</td>\n",
       "      <td>...</td>\n",
       "      <td>...</td>\n",
       "      <td>...</td>\n",
       "      <td>...</td>\n",
       "      <td>...</td>\n",
       "    </tr>\n",
       "    <tr>\n",
       "      <td>202</td>\n",
       "      <td>Heritage Park</td>\n",
       "      <td>Agartala</td>\n",
       "      <td>Tripura</td>\n",
       "      <td>4.2</td>\n",
       "      <td>25 above</td>\n",
       "      <td>all time</td>\n",
       "      <td>yes</td>\n",
       "      <td>friend/family</td>\n",
       "      <td>NaN</td>\n",
       "      <td>203</td>\n",
       "      <td>7</td>\n",
       "      <td>0.0</td>\n",
       "      <td>878542420</td>\n",
       "    </tr>\n",
       "    <tr>\n",
       "      <td>206</td>\n",
       "      <td>Kalyan Sagar</td>\n",
       "      <td>Udaipur</td>\n",
       "      <td>Tripura</td>\n",
       "      <td>4.4</td>\n",
       "      <td>20 above</td>\n",
       "      <td>summer</td>\n",
       "      <td>yes</td>\n",
       "      <td>solo/friends</td>\n",
       "      <td>NaN</td>\n",
       "      <td>207</td>\n",
       "      <td>7</td>\n",
       "      <td>0.0</td>\n",
       "      <td>879455957</td>\n",
       "    </tr>\n",
       "    <tr>\n",
       "      <td>207</td>\n",
       "      <td>Rowa Wildlife Sanctuary</td>\n",
       "      <td>Dharmanagar</td>\n",
       "      <td>Tripura</td>\n",
       "      <td>3.5</td>\n",
       "      <td>15 above</td>\n",
       "      <td>summer</td>\n",
       "      <td>yes</td>\n",
       "      <td>solo/family/friends</td>\n",
       "      <td>NaN</td>\n",
       "      <td>208</td>\n",
       "      <td>7</td>\n",
       "      <td>3.0</td>\n",
       "      <td>875654637</td>\n",
       "    </tr>\n",
       "    <tr>\n",
       "      <td>209</td>\n",
       "      <td>Trishna Wild Life</td>\n",
       "      <td>Belonia</td>\n",
       "      <td>Tripura</td>\n",
       "      <td>3.9</td>\n",
       "      <td>15 above</td>\n",
       "      <td>Summer</td>\n",
       "      <td>yes</td>\n",
       "      <td>friends</td>\n",
       "      <td>NaN</td>\n",
       "      <td>210</td>\n",
       "      <td>7</td>\n",
       "      <td>0.0</td>\n",
       "      <td>881105481</td>\n",
       "    </tr>\n",
       "    <tr>\n",
       "      <td>210</td>\n",
       "      <td>Rajbari National Park</td>\n",
       "      <td>Belonia</td>\n",
       "      <td>Tripura</td>\n",
       "      <td>5.0</td>\n",
       "      <td>20 above</td>\n",
       "      <td>all time</td>\n",
       "      <td>yes</td>\n",
       "      <td>friends</td>\n",
       "      <td>NaN</td>\n",
       "      <td>211</td>\n",
       "      <td>7</td>\n",
       "      <td>5.0</td>\n",
       "      <td>888549622</td>\n",
       "    </tr>\n",
       "  </tbody>\n",
       "</table>\n",
       "<p>68 rows × 13 columns</p>\n",
       "</div>"
      ],
      "text/plain": [
       "                     location                     place             state  \\\n",
       "34              Solang Valley                    Manali  Himachal pradesh   \n",
       "36                 Beas River  central Himachal pradesh  Himachal pradesh   \n",
       "38           Jogini Waterfall                    Manali  Himachal pradesh   \n",
       "39               Spiti valley                    Lahaul  Himachal pradesh   \n",
       "41                Triund Hill                    Kangra  Himachal pradesh   \n",
       "..                        ...                       ...               ...   \n",
       "202             Heritage Park                  Agartala           Tripura   \n",
       "206              Kalyan Sagar                   Udaipur           Tripura   \n",
       "207  Rowa Wildlife Sanctuary                Dharmanagar           Tripura   \n",
       "209         Trishna Wild Life                   Belonia           Tripura   \n",
       "210     Rajbari National Park                   Belonia           Tripura   \n",
       "\n",
       "     location_rating           age                season affordable  \\\n",
       "34               4.0           <40         summer,winter        yes   \n",
       "36               4.5   20and above           All Seasons        yes   \n",
       "38               4.5      All ages  Summer,spring,Autumn        yes   \n",
       "39               5.0      All ages         Summer,Autumn        yes   \n",
       "41               4.5  20 and above         Summer,Autumn        yes   \n",
       "..               ...           ...                   ...        ...   \n",
       "202              4.2      25 above             all time         yes   \n",
       "206              4.4      20 above                summer        yes   \n",
       "207              3.5      15 above               summer         yes   \n",
       "209              3.9      15 above               Summer         yes   \n",
       "210              5.0      20 above             all time         yes   \n",
       "\n",
       "          types_of_travel religion  item_id  user_id  user_rating  timestamp  \n",
       "34         family,friends      NaN       35        2          0.0  884238860  \n",
       "36         friends,family      NaN       37        2          1.0  878962623  \n",
       "38                    Any      NaN       39        2          1.0  874791932  \n",
       "39                    Any      NaN       40        2          4.0  891350932  \n",
       "41           friends,solo      NaN       42        2          4.0  885329322  \n",
       "..                    ...      ...      ...      ...          ...        ...  \n",
       "202         friend/family      NaN      203        7          0.0  878542420  \n",
       "206          solo/friends      NaN      207        7          0.0  879455957  \n",
       "207  solo/family/friends       NaN      208        7          3.0  875654637  \n",
       "209              friends       NaN      210        7          0.0  881105481  \n",
       "210              friends       NaN      211        7          5.0  888549622  \n",
       "\n",
       "[68 rows x 13 columns]"
      ]
     },
     "execution_count": 38,
     "metadata": {},
     "output_type": "execute_result"
    }
   ],
   "source": [
    "df[df['religion'].isnull()]"
   ]
  },
  {
   "cell_type": "code",
   "execution_count": 39,
   "metadata": {},
   "outputs": [
    {
     "data": {
      "text/plain": [
       "0"
      ]
     },
     "execution_count": 39,
     "metadata": {},
     "output_type": "execute_result"
    }
   ],
   "source": [
    "df['religion'].fillna(value='any',inplace=True)\n",
    "df['religion'].isnull().sum()"
   ]
  },
  {
   "cell_type": "code",
   "execution_count": 40,
   "metadata": {},
   "outputs": [
    {
     "data": {
      "text/plain": [
       "location            object\n",
       "place               object\n",
       "state               object\n",
       "location_rating    float64\n",
       "age                 object\n",
       "season              object\n",
       "affordable          object\n",
       "types_of_travel     object\n",
       "religion            object\n",
       "item_id              int64\n",
       "user_id              int64\n",
       "user_rating        float64\n",
       "timestamp            int64\n",
       "dtype: object"
      ]
     },
     "execution_count": 40,
     "metadata": {},
     "output_type": "execute_result"
    }
   ],
   "source": [
    "df.dtypes"
   ]
  },
  {
   "cell_type": "code",
   "execution_count": 41,
   "metadata": {},
   "outputs": [
    {
     "data": {
      "text/plain": [
       "array(['NAN', '20', '25', 'Any', '22', '35', '18', '24', '15', '11', '30',\n",
       "       '10', '<40', 'All ages', '20and above', '20 and above',\n",
       "       '20 and Above', '25-40', '20-60', '35 above', '30 above',\n",
       "       '25 above', '20 above', '20 above ', '15 above', '30 -55', '30-55',\n",
       "       '30-45', 'any', '27', '23', '13', '21', '26', '19', '28', '16',\n",
       "       '40', '32', '45', '>15', '>20', '>10', 'above 25', 'above 15',\n",
       "       'above 45', 'above 30', 'above 40', 'above 12', 'above 7',\n",
       "       'above 20', 'above 10', 'any ', '0'], dtype=object)"
      ]
     },
     "execution_count": 41,
     "metadata": {},
     "output_type": "execute_result"
    }
   ],
   "source": [
    "df['age'].unique()"
   ]
  },
  {
   "cell_type": "code",
   "execution_count": 42,
   "metadata": {},
   "outputs": [
    {
     "data": {
      "text/plain": [
       "array(['any', '20', '25', '22', '35', '18', '24', '15', '11', '30', '10',\n",
       "       '<40', '20and above', '20 and above', '20 and Above', '25-40',\n",
       "       '20-60', '35 above', '30 above', '25 above', '20 above',\n",
       "       '20 above ', '15 above', '30 -55', '30-55', '30-45', '27', '23',\n",
       "       '13', '21', '26', '19', '28', '16', '40', '32', '45', '>15', '>20',\n",
       "       '>10', 'above 25', 'above 15', 'above 45', 'above 30', 'above 40',\n",
       "       'above 12', 'above 7', 'above 20', 'above 10', 'any ', '0'],\n",
       "      dtype=object)"
      ]
     },
     "execution_count": 42,
     "metadata": {},
     "output_type": "execute_result"
    }
   ],
   "source": [
    "df['age'].replace(to_replace=['NAN','Any','All ages'],value='any',inplace=True)\n",
    "df['age'].unique()"
   ]
  },
  {
   "cell_type": "code",
   "execution_count": 43,
   "metadata": {},
   "outputs": [
    {
     "data": {
      "text/plain": [
       "array(['Hindu', 'Any', 'christian', 'Musilm', 'chritian', 'any', 'Hindhu',\n",
       "       'sikhs,Hindhu', 'hindhu', 'All', 'jain', 'hindhu,jain',\n",
       "       'islam,all', 'Religious ', 'buddhism ', 'hindu', 'religious ',\n",
       "       'muslim', 'Hindus', 'NAN', 'HIndu', 'Buddists',\n",
       "       'Hindu,Buddhists,Muslims', 'Buddhists', 'sikhs', 'buddhists,sikhs',\n",
       "       'Hindus,Jains,Buddhists', 'jains',\n",
       "       'Hindus,Muslims,Buddhists,Jains', 'all', 'hindu,sikh'],\n",
       "      dtype=object)"
      ]
     },
     "execution_count": 43,
     "metadata": {},
     "output_type": "execute_result"
    }
   ],
   "source": [
    "df['religion'].unique()"
   ]
  },
  {
   "cell_type": "code",
   "execution_count": 44,
   "metadata": {},
   "outputs": [
    {
     "data": {
      "text/plain": [
       "(340, 13)"
      ]
     },
     "execution_count": 44,
     "metadata": {},
     "output_type": "execute_result"
    }
   ],
   "source": [
    "df.shape"
   ]
  },
  {
   "cell_type": "code",
   "execution_count": 45,
   "metadata": {},
   "outputs": [
    {
     "data": {
      "text/plain": [
       "array(['Winter', 'Year', 'monsoon', 'Spring', 'summer', 'winter',\n",
       "       'Autumn', 'Any', 'Summer', 'NAN', 'Rainy', 'summer,winter',\n",
       "       'All Seasons', 'Summer,spring,Autumn', 'Summer,Autumn',\n",
       "       'summer,spring,winter', 'Summer,spring',\n",
       "       'summer,spring,Autumn,Winter', 'summer,spring',\n",
       "       'summer,monsoon,autumn', 'summer,monsoon', 'autumn,winter,spring',\n",
       "       'monsoon,autumn,winter,spring', 'autumn,winte,spring',\n",
       "       'monsoon,autumn,spring', 'autumn,winter,spring,summer',\n",
       "       'monsoon,autumn,winter', 'autumn,winter,summer,spring',\n",
       "       'Feb-April', 'Aug-Nov', 'all time', 'Oct-March ', 'Dec-Feb',\n",
       "       'Nov-Feb', 'Dec', 'Feb', 'oct-March', 'Sep-March', 'oct-march',\n",
       "       'oct-june', 'july-march', 'sep-march', 'sep-jan', 'sep-feb',\n",
       "       'oct-feb', 'Oct-April', 'oct-may', 'oct-april', 'any', 'spring',\n",
       "       'all time ', 'All time', 'summer ', 'Summer ',\n",
       "       'sep to dec,Feb to march', 'dec to feb', 'oct to march',\n",
       "       'Sep to may', 'sep to march', 'sep to dec', 'oct to jan',\n",
       "       'oct to dec', 'april to june', 'sep to oct', 'March to june',\n",
       "       'dec to july', 'oct to feb', 'april to oct', 'March to july',\n",
       "       'jan to may', 'oct to april', 'june to nov', 'oct to may',\n",
       "       'nov to april', 'oct to nov', 'oct,Feb', 'aug to oct,feb to april',\n",
       "       'juneto july,oct,nov', 'june to sep', 'all', 'oct-mar', 'sep-mar',\n",
       "       'dec-jun', 'oct-jun', 'nov-feb', 'oct-apr', 'sep-apr', 'jan-feb',\n",
       "       'aug-nov', 'dec-may'], dtype=object)"
      ]
     },
     "execution_count": 45,
     "metadata": {},
     "output_type": "execute_result"
    }
   ],
   "source": [
    "df['season'].unique()"
   ]
  },
  {
   "cell_type": "code",
   "execution_count": 46,
   "metadata": {},
   "outputs": [
    {
     "data": {
      "text/plain": [
       "location            object\n",
       "place               object\n",
       "state               object\n",
       "location_rating    float64\n",
       "age                 object\n",
       "season              object\n",
       "affordable          object\n",
       "types_of_travel     object\n",
       "religion            object\n",
       "item_id              int64\n",
       "user_id              int64\n",
       "user_rating        float64\n",
       "timestamp            int64\n",
       "dtype: object"
      ]
     },
     "execution_count": 46,
     "metadata": {},
     "output_type": "execute_result"
    }
   ],
   "source": [
    "df.dtypes"
   ]
  },
  {
   "cell_type": "code",
   "execution_count": 47,
   "metadata": {},
   "outputs": [
    {
     "data": {
      "text/plain": [
       "(340, 13)"
      ]
     },
     "execution_count": 47,
     "metadata": {},
     "output_type": "execute_result"
    }
   ],
   "source": [
    "df.shape"
   ]
  },
  {
   "cell_type": "code",
   "execution_count": 48,
   "metadata": {},
   "outputs": [
    {
     "data": {
      "text/plain": [
       "dtype('int32')"
      ]
     },
     "execution_count": 48,
     "metadata": {},
     "output_type": "execute_result"
    }
   ],
   "source": [
    "df['item_id']=df['item_id'].astype(int)\n",
    "df['item_id'].dtype"
   ]
  },
  {
   "cell_type": "code",
   "execution_count": 49,
   "metadata": {},
   "outputs": [
    {
     "data": {
      "text/plain": [
       "array(['winter', 'year', 'monsoon', 'spring', 'summer', 'autumn', 'any',\n",
       "       'nan', 'rainy', 'summer,winter', 'all seasons',\n",
       "       'summer,spring,autumn', 'summer,autumn', 'summer,spring,winter',\n",
       "       'summer,spring', 'summer,spring,autumn,winter',\n",
       "       'summer,monsoon,autumn', 'summer,monsoon', 'autumn,winter,spring',\n",
       "       'monsoon,autumn,winter,spring', 'autumn,winte,spring',\n",
       "       'monsoon,autumn,spring', 'autumn,winter,spring,summer',\n",
       "       'monsoon,autumn,winter', 'autumn,winter,summer,spring',\n",
       "       'feb-april', 'aug-nov', 'all time', 'oct-march ', 'dec-feb',\n",
       "       'nov-feb', 'dec', 'feb', 'oct-march', 'sep-march', 'oct-june',\n",
       "       'july-march', 'sep-jan', 'sep-feb', 'oct-feb', 'oct-april',\n",
       "       'oct-may', 'all time ', 'summer ', 'sep to dec,feb to march',\n",
       "       'dec to feb', 'oct to march', 'sep to may', 'sep to march',\n",
       "       'sep to dec', 'oct to jan', 'oct to dec', 'april to june',\n",
       "       'sep to oct', 'march to june', 'dec to july', 'oct to feb',\n",
       "       'april to oct', 'march to july', 'jan to may', 'oct to april',\n",
       "       'june to nov', 'oct to may', 'nov to april', 'oct to nov',\n",
       "       'oct,feb', 'aug to oct,feb to april', 'juneto july,oct,nov',\n",
       "       'june to sep', 'all', 'oct-mar', 'sep-mar', 'dec-jun', 'oct-jun',\n",
       "       'oct-apr', 'sep-apr', 'jan-feb', 'dec-may'], dtype=object)"
      ]
     },
     "execution_count": 49,
     "metadata": {},
     "output_type": "execute_result"
    }
   ],
   "source": [
    "df['season']=df['season'].apply(lambda x: x.lower())\n",
    "df['season'].unique()"
   ]
  },
  {
   "cell_type": "code",
   "execution_count": 50,
   "metadata": {},
   "outputs": [],
   "source": [
    "df['season'].replace(to_replace=['year','all seasons','any','all time ','all','nan','all time'],value='summer,spring,winter,rainy,autumn',inplace=True)"
   ]
  },
  {
   "cell_type": "code",
   "execution_count": 51,
   "metadata": {},
   "outputs": [
    {
     "data": {
      "text/plain": [
       "array(['winter', 'summer,spring,winter,rainy,autumn', 'monsoon', 'spring',\n",
       "       'summer', 'autumn', 'rainy', 'summer,winter',\n",
       "       'summer,spring,autumn', 'summer,autumn', 'summer,spring,winter',\n",
       "       'summer,spring', 'summer,spring,autumn,winter',\n",
       "       'summer,monsoon,autumn', 'summer,monsoon', 'autumn,winter,spring',\n",
       "       'monsoon,autumn,winter,spring', 'autumn,winte,spring',\n",
       "       'monsoon,autumn,spring', 'autumn,winter,spring,summer',\n",
       "       'monsoon,autumn,winter', 'autumn,winter,summer,spring',\n",
       "       'feb-april', 'aug-nov', 'oct-march ', 'dec-feb', 'nov-feb', 'dec',\n",
       "       'feb', 'oct-march', 'sep-march', 'oct-june', 'july-march',\n",
       "       'sep-jan', 'sep-feb', 'oct-feb', 'oct-april', 'oct-may', 'summer ',\n",
       "       'sep to dec,feb to march', 'dec to feb', 'oct to march',\n",
       "       'sep to may', 'sep to march', 'sep to dec', 'oct to jan',\n",
       "       'oct to dec', 'april to june', 'sep to oct', 'march to june',\n",
       "       'dec to july', 'oct to feb', 'april to oct', 'march to july',\n",
       "       'jan to may', 'oct to april', 'june to nov', 'oct to may',\n",
       "       'nov to april', 'oct to nov', 'oct,feb', 'aug to oct,feb to april',\n",
       "       'juneto july,oct,nov', 'june to sep', 'oct-mar', 'sep-mar',\n",
       "       'dec-jun', 'oct-jun', 'oct-apr', 'sep-apr', 'jan-feb', 'dec-may'],\n",
       "      dtype=object)"
      ]
     },
     "execution_count": 51,
     "metadata": {},
     "output_type": "execute_result"
    }
   ],
   "source": [
    "df['season'].unique()"
   ]
  },
  {
   "cell_type": "code",
   "execution_count": 52,
   "metadata": {},
   "outputs": [
    {
     "data": {
      "text/plain": [
       "array(['winter', 'summer,spring,winter,rainy,autumn', 'monsoon', 'spring',\n",
       "       'summer', 'autumn', 'rainy', 'summer,winter',\n",
       "       'summer,spring,autumn', 'summer,autumn', 'summer,spring,winter',\n",
       "       'summer,spring', 'summer,spring,autumn,winter',\n",
       "       'summer,monsoon,autumn', 'summer,monsoon', 'autumn,winter,spring',\n",
       "       'monsoon,autumn,winter,spring', 'autumn,winte,spring',\n",
       "       'monsoon,autumn,spring', 'autumn,winter,spring,summer',\n",
       "       'monsoon,autumn,winter', 'autumn,winter,summer,spring',\n",
       "       'feb-april', 'aug-nov', 'oct-march ', 'nov-feb', 'feb',\n",
       "       'oct-march', 'sep-march', 'oct-june', 'july-march', 'sep-jan',\n",
       "       'sep-feb', 'oct-feb', 'oct-april', 'oct-may', 'summer ',\n",
       "       'sep to dec,feb to march', 'oct to march', 'sep to may',\n",
       "       'sep to march', 'sep to dec', 'oct to jan', 'oct to dec',\n",
       "       'april to june', 'sep to oct', 'march to june', 'oct to feb',\n",
       "       'april to oct', 'march to july', 'jan to may', 'oct to april',\n",
       "       'june to nov', 'oct to may', 'nov to april', 'oct to nov',\n",
       "       'oct,feb', 'aug to oct,feb to april', 'juneto july,oct,nov',\n",
       "       'june to sep', 'oct-mar', 'sep-mar', 'oct-jun', 'oct-apr',\n",
       "       'sep-apr', 'jan-feb'], dtype=object)"
      ]
     },
     "execution_count": 52,
     "metadata": {},
     "output_type": "execute_result"
    }
   ],
   "source": [
    "df['season'].replace(to_replace=[x  for x in df['season'] if x.startswith('dec') ],value='winter',inplace=True)\n",
    "df['season'].unique()"
   ]
  },
  {
   "cell_type": "code",
   "execution_count": 53,
   "metadata": {},
   "outputs": [
    {
     "data": {
      "text/plain": [
       "array(['winter', 'summer,spring,winter,rainy,autumn', 'monsoon', 'spring',\n",
       "       'summer', 'autumn', 'rainy', 'summer,winter',\n",
       "       'summer,spring,autumn', 'summer,autumn', 'summer,spring,winter',\n",
       "       'summer,spring', 'summer,spring,autumn,winter',\n",
       "       'summer,monsoon,autumn', 'summer,monsoon', 'autumn,winter,spring',\n",
       "       'monsoon,autumn,winter,spring', 'autumn,winte,spring',\n",
       "       'monsoon,autumn,spring', 'autumn,winter,spring,summer',\n",
       "       'monsoon,autumn,winter', 'autumn,winter,summer,spring',\n",
       "       'feb-april', 'aug-nov', 'feb', 'july-march', 'summer ',\n",
       "       'april to june', 'march to june', 'april to oct', 'march to july',\n",
       "       'jan to may', 'june to nov', 'aug to oct,feb to april',\n",
       "       'juneto july,oct,nov', 'june to sep', 'jan-feb'], dtype=object)"
      ]
     },
     "execution_count": 53,
     "metadata": {},
     "output_type": "execute_result"
    }
   ],
   "source": [
    "df['season'].replace(to_replace=[x for x in df['season'] if x.startswith('sep') or x.startswith('oct') or x.startswith('nov')],value='autumn',inplace=True)\n",
    "df['season'].unique()"
   ]
  },
  {
   "cell_type": "code",
   "execution_count": 54,
   "metadata": {},
   "outputs": [
    {
     "data": {
      "text/plain": [
       "array(['winter', 'summer,spring,winter,rainy,autumn', 'monsoon', 'spring',\n",
       "       'summer', 'autumn', 'rainy', 'summer,winter',\n",
       "       'summer,spring,autumn', 'summer,autumn', 'summer,spring,winter',\n",
       "       'summer,spring', 'summer,spring,autumn,winter',\n",
       "       'summer,monsoon,autumn', 'summer,monsoon', 'autumn,winter,spring',\n",
       "       'monsoon,autumn,winter,spring', 'autumn,winte,spring',\n",
       "       'monsoon,autumn,spring', 'autumn,winter,spring,summer',\n",
       "       'monsoon,autumn,winter', 'autumn,winter,summer,spring',\n",
       "       'feb-april', 'feb', 'summer ', 'april to june', 'march to june',\n",
       "       'april to oct', 'march to july', 'jan to may', 'jan-feb'],\n",
       "      dtype=object)"
      ]
     },
     "execution_count": 54,
     "metadata": {},
     "output_type": "execute_result"
    }
   ],
   "source": [
    "df['season'].replace(to_replace=[x for x in df['season'] if x.startswith('jun') or x.startswith('jul') or x.startswith('aug')],value='monsoon',inplace=True)\n",
    "df['season'].unique()"
   ]
  },
  {
   "cell_type": "code",
   "execution_count": 55,
   "metadata": {},
   "outputs": [
    {
     "data": {
      "text/plain": [
       "array(['winter', 'summer,spring,winter,rainy,autumn', 'monsoon', 'spring',\n",
       "       'summer', 'autumn', 'rainy', 'summer,winter',\n",
       "       'summer,spring,autumn', 'summer,autumn', 'summer,spring,winter',\n",
       "       'summer,spring', 'summer,spring,autumn,winter',\n",
       "       'summer,monsoon,autumn', 'summer,monsoon', 'autumn,winter,spring',\n",
       "       'monsoon,autumn,winter,spring', 'autumn,winte,spring',\n",
       "       'monsoon,autumn,spring', 'autumn,winter,spring,summer',\n",
       "       'monsoon,autumn,winter', 'autumn,winter,summer,spring',\n",
       "       'feb-april', 'feb', 'summer ', 'jan to may', 'jan-feb'],\n",
       "      dtype=object)"
      ]
     },
     "execution_count": 55,
     "metadata": {},
     "output_type": "execute_result"
    }
   ],
   "source": [
    "df['season'].replace(to_replace=[x for x in df['season'] if x.startswith('mar') or x.startswith('april')],value='summer',inplace=True)\n",
    "df['season'].unique()"
   ]
  },
  {
   "cell_type": "code",
   "execution_count": 56,
   "metadata": {},
   "outputs": [
    {
     "data": {
      "text/plain": [
       "array(['winter', 'summer,spring,winter,rainy,autumn', 'monsoon', 'spring',\n",
       "       'summer', 'autumn', 'rainy', 'summer,winter',\n",
       "       'summer,spring,autumn', 'summer,autumn', 'summer,spring,winter',\n",
       "       'summer,spring', 'summer,spring,autumn,winter',\n",
       "       'summer,monsoon,autumn', 'summer,monsoon', 'autumn,winter,spring',\n",
       "       'monsoon,autumn,winter,spring', 'autumn,winte,spring',\n",
       "       'monsoon,autumn,spring', 'autumn,winter,spring,summer',\n",
       "       'monsoon,autumn,winter', 'autumn,winter,summer,spring', 'summer '],\n",
       "      dtype=object)"
      ]
     },
     "execution_count": 56,
     "metadata": {},
     "output_type": "execute_result"
    }
   ],
   "source": [
    "df['season'].replace(to_replace=[x for x in df['season'] if x.startswith('feb') or x.startswith('jan')],value='spring',inplace=True)\n",
    "df['season'].unique()"
   ]
  },
  {
   "cell_type": "code",
   "execution_count": 57,
   "metadata": {},
   "outputs": [
    {
     "data": {
      "text/plain": [
       "array(['Hindu', 'Any', 'christian', 'Musilm', 'chritian', 'any', 'Hindhu',\n",
       "       'sikhs,Hindhu', 'hindhu', 'All', 'jain', 'hindhu,jain',\n",
       "       'islam,all', 'Religious ', 'buddhism ', 'hindu', 'religious ',\n",
       "       'muslim', 'Hindus', 'NAN', 'HIndu', 'Buddists',\n",
       "       'Hindu,Buddhists,Muslims', 'Buddhists', 'sikhs', 'buddhists,sikhs',\n",
       "       'Hindus,Jains,Buddhists', 'jains',\n",
       "       'Hindus,Muslims,Buddhists,Jains', 'all', 'hindu,sikh'],\n",
       "      dtype=object)"
      ]
     },
     "execution_count": 57,
     "metadata": {},
     "output_type": "execute_result"
    }
   ],
   "source": [
    "df['religion'].unique()"
   ]
  },
  {
   "cell_type": "code",
   "execution_count": 58,
   "metadata": {},
   "outputs": [],
   "source": [
    "df['religion']=df['religion'].apply(lambda x:x.lower())"
   ]
  },
  {
   "cell_type": "code",
   "execution_count": 59,
   "metadata": {},
   "outputs": [
    {
     "data": {
      "text/plain": [
       "0"
      ]
     },
     "execution_count": 59,
     "metadata": {},
     "output_type": "execute_result"
    }
   ],
   "source": [
    "df['religion'].isnull().sum()"
   ]
  },
  {
   "cell_type": "code",
   "execution_count": 60,
   "metadata": {},
   "outputs": [
    {
     "data": {
      "text/plain": [
       "array(['hindu', 'any', 'christian', 'musilm', 'chritian', 'hindhu',\n",
       "       'sikhs,hindhu', 'all', 'jain', 'hindhu,jain', 'islam,all',\n",
       "       'religious ', 'buddhism ', 'muslim', 'hindus', 'nan', 'buddists',\n",
       "       'hindu,buddhists,muslims', 'buddhists', 'sikhs', 'buddhists,sikhs',\n",
       "       'hindus,jains,buddhists', 'jains',\n",
       "       'hindus,muslims,buddhists,jains', 'hindu,sikh'], dtype=object)"
      ]
     },
     "execution_count": 60,
     "metadata": {},
     "output_type": "execute_result"
    }
   ],
   "source": [
    "df['religion'].replace(to_replace=['NAN','All','Any'],value='any',inplace=True)\n",
    "df['religion'].unique()"
   ]
  },
  {
   "cell_type": "code",
   "execution_count": 61,
   "metadata": {},
   "outputs": [
    {
     "data": {
      "text/plain": [
       "array(['hindu', 'any', 'christian', 'musilm', 'chritian', 'hindhu',\n",
       "       'sikhs,hindhu', 'all', 'jain', 'hindhu,jain', 'islam,all',\n",
       "       'religious ', 'buddhism ', 'muslim', 'hindus', 'nan', 'buddists',\n",
       "       'hindu,buddhists,muslims', 'buddhists', 'sikhs', 'buddhists,sikhs',\n",
       "       'hindus,jains,buddhists', 'jains',\n",
       "       'hindus,muslims,buddhists,jains', 'hindu,sikh'], dtype=object)"
      ]
     },
     "execution_count": 61,
     "metadata": {},
     "output_type": "execute_result"
    }
   ],
   "source": [
    "t=[x.replace('hindhus','hindu') for x in df['religion']]\n",
    "df['religion'].unique()"
   ]
  },
  {
   "cell_type": "code",
   "execution_count": 62,
   "metadata": {},
   "outputs": [
    {
     "data": {
      "text/plain": [
       "location            object\n",
       "place               object\n",
       "state               object\n",
       "location_rating    float64\n",
       "age                 object\n",
       "season              object\n",
       "affordable          object\n",
       "types_of_travel     object\n",
       "religion            object\n",
       "item_id              int32\n",
       "user_id              int64\n",
       "user_rating        float64\n",
       "timestamp            int64\n",
       "dtype: object"
      ]
     },
     "execution_count": 62,
     "metadata": {},
     "output_type": "execute_result"
    }
   ],
   "source": [
    "df.dtypes\n"
   ]
  },
  {
   "cell_type": "code",
   "execution_count": 63,
   "metadata": {},
   "outputs": [
    {
     "data": {
      "text/plain": [
       "location           0\n",
       "place              0\n",
       "state              0\n",
       "location_rating    0\n",
       "age                0\n",
       "season             0\n",
       "affordable         0\n",
       "types_of_travel    0\n",
       "religion           0\n",
       "item_id            0\n",
       "user_id            0\n",
       "user_rating        0\n",
       "timestamp          0\n",
       "dtype: int64"
      ]
     },
     "execution_count": 63,
     "metadata": {},
     "output_type": "execute_result"
    }
   ],
   "source": [
    "df.isnull().sum()"
   ]
  },
  {
   "cell_type": "code",
   "execution_count": 64,
   "metadata": {},
   "outputs": [
    {
     "data": {
      "text/plain": [
       "array(['winter', 'summer,spring,winter,rainy,autumn', 'monsoon', 'spring',\n",
       "       'summer', 'autumn', 'rainy', 'summer,winter',\n",
       "       'summer,spring,autumn', 'summer,autumn', 'summer,spring,winter',\n",
       "       'summer,spring', 'summer,spring,autumn,winter',\n",
       "       'summer,monsoon,autumn', 'summer,monsoon', 'autumn,winter,spring',\n",
       "       'monsoon,autumn,winter,spring', 'autumn,winte,spring',\n",
       "       'monsoon,autumn,spring', 'autumn,winter,spring,summer',\n",
       "       'monsoon,autumn,winter', 'autumn,winter,summer,spring', 'summer '],\n",
       "      dtype=object)"
      ]
     },
     "execution_count": 64,
     "metadata": {},
     "output_type": "execute_result"
    }
   ],
   "source": [
    "df['season'].unique()"
   ]
  },
  {
   "cell_type": "code",
   "execution_count": 65,
   "metadata": {},
   "outputs": [],
   "source": [
    "df['season'].replace(to_replace='all time',value='',inplace=True)"
   ]
  },
  {
   "cell_type": "code",
   "execution_count": 66,
   "metadata": {},
   "outputs": [
    {
     "data": {
      "text/plain": [
       "0                                 winter\n",
       "1      summer,spring,winter,rainy,autumn\n",
       "2                                monsoon\n",
       "3                                 winter\n",
       "4      summer,spring,winter,rainy,autumn\n",
       "                     ...                \n",
       "337                               winter\n",
       "338                               winter\n",
       "339    summer,spring,winter,rainy,autumn\n",
       "340    summer,spring,winter,rainy,autumn\n",
       "341    summer,spring,winter,rainy,autumn\n",
       "Name: season, Length: 340, dtype: object"
      ]
     },
     "execution_count": 66,
     "metadata": {},
     "output_type": "execute_result"
    }
   ],
   "source": [
    "df['season'].apply(lambda x: x.strip())"
   ]
  },
  {
   "cell_type": "code",
   "execution_count": 67,
   "metadata": {},
   "outputs": [
    {
     "data": {
      "text/plain": [
       "array(['winter', 'summer,spring,winter,rainy,autumn', 'monsoon', 'spring',\n",
       "       'summer', 'autumn', 'rainy', 'summer,winter',\n",
       "       'summer,spring,autumn', 'summer,autumn', 'summer,spring,winter',\n",
       "       'summer,spring', 'summer,spring,autumn,winter',\n",
       "       'summer,monsoon,autumn', 'summer,monsoon', 'autumn,winter,spring',\n",
       "       'monsoon,autumn,winter,spring', 'autumn,winte,spring',\n",
       "       'monsoon,autumn,spring', 'autumn,winter,spring,summer',\n",
       "       'monsoon,autumn,winter', 'autumn,winter,summer,spring', 'summer '],\n",
       "      dtype=object)"
      ]
     },
     "execution_count": 67,
     "metadata": {},
     "output_type": "execute_result"
    }
   ],
   "source": [
    "df['season'].unique()"
   ]
  },
  {
   "cell_type": "code",
   "execution_count": 68,
   "metadata": {},
   "outputs": [
    {
     "data": {
      "text/plain": [
       "array(['family', 'friends', 'Solo', 'Any', 'family,friends',\n",
       "       'friends,family', 'friends,solo', 'any', 'Family', 'friends/Solo',\n",
       "       'Family ', 'Family/Friends', 'solo/family/friends ',\n",
       "       'family/friends ', 'Family/friends ', 'all', 'solo',\n",
       "       'solo,friends', 'friend/family', 'Friends/Family', 'family ',\n",
       "       'solo/friends', 'friends ', 'solo/family/friends', 'NAN',\n",
       "       'family/Friends', 'solo/Family/Friends', 'family/friends',\n",
       "       'friends/solo', 'friends/family', 'Friends/families',\n",
       "       'Friends/Families', 'Friends'], dtype=object)"
      ]
     },
     "execution_count": 68,
     "metadata": {},
     "output_type": "execute_result"
    }
   ],
   "source": [
    "df['types_of_travel'].unique()"
   ]
  },
  {
   "cell_type": "code",
   "execution_count": 69,
   "metadata": {},
   "outputs": [],
   "source": [
    "def func(z,t,u):\n",
    "    r=[]\n",
    "    for x in z:\n",
    "        if t in x:\n",
    "            y=x.replace(t,u)\n",
    "            r.append(y)\n",
    "        else:\n",
    "            r.append(x)\n",
    "    return r        "
   ]
  },
  {
   "cell_type": "code",
   "execution_count": 70,
   "metadata": {},
   "outputs": [
    {
     "data": {
      "text/plain": [
       "array(['family', 'friends', 'Solo', 'Any', 'family,friends',\n",
       "       'friends,family', 'friends,solo', 'any', 'Family', 'friends,Solo',\n",
       "       'Family ', 'Family,Friends', 'solo,family,friends ',\n",
       "       'family,friends ', 'Family,friends ', 'all', 'solo',\n",
       "       'solo,friends', 'friend,family', 'Friends,Family', 'family ',\n",
       "       'friends ', 'solo,family,friends', 'NAN', 'family,Friends',\n",
       "       'solo,Family,Friends', 'Friends,families', 'Friends,Families',\n",
       "       'Friends'], dtype=object)"
      ]
     },
     "execution_count": 70,
     "metadata": {},
     "output_type": "execute_result"
    }
   ],
   "source": [
    "df['types_of_travel']=func(df['types_of_travel'],'/',\",\")\n",
    "df['types_of_travel'].unique()"
   ]
  },
  {
   "cell_type": "code",
   "execution_count": 71,
   "metadata": {},
   "outputs": [
    {
     "data": {
      "text/plain": [
       "array(['family', 'friends', 'Solo', 'friends,family,solo',\n",
       "       'family,friends', 'friends,family', 'friends,solo', 'Family',\n",
       "       'friends,Solo', 'Family ', 'Family,Friends',\n",
       "       'solo,family,friends ', 'family,friends ', 'Family,friends ',\n",
       "       'solo', 'solo,friends', 'friend,family', 'Friends,Family',\n",
       "       'family ', 'friends ', 'solo,family,friends', 'family,Friends',\n",
       "       'solo,Family,Friends', 'Friends,families', 'Friends,Families',\n",
       "       'Friends'], dtype=object)"
      ]
     },
     "execution_count": 71,
     "metadata": {},
     "output_type": "execute_result"
    }
   ],
   "source": [
    "df['types_of_travel'].replace(to_replace=['any','NAN','Any','all'],value='friends,family,solo',inplace=True)\n",
    "df['types_of_travel'].unique()"
   ]
  },
  {
   "cell_type": "code",
   "execution_count": 72,
   "metadata": {},
   "outputs": [
    {
     "data": {
      "text/plain": [
       "0                   family\n",
       "1                  friends\n",
       "2                  friends\n",
       "3                   family\n",
       "4                     solo\n",
       "              ...         \n",
       "337    friends,family,solo\n",
       "338                friends\n",
       "339                friends\n",
       "340    friends,family,solo\n",
       "341                   solo\n",
       "Name: types_of_travel, Length: 340, dtype: object"
      ]
     },
     "execution_count": 72,
     "metadata": {},
     "output_type": "execute_result"
    }
   ],
   "source": [
    "df['types_of_travel'].apply(lambda x:x.lower())"
   ]
  },
  {
   "cell_type": "code",
   "execution_count": 73,
   "metadata": {},
   "outputs": [
    {
     "data": {
      "text/plain": [
       "array(['family', 'friends', 'Solo', 'friends,family,solo',\n",
       "       'family,friends', 'friends,family', 'friends,solo', 'Family',\n",
       "       'friends,Solo', 'Family ', 'Family,Friends',\n",
       "       'solo,family,friends ', 'family,friends ', 'Family,friends ',\n",
       "       'solo', 'solo,friends', 'friend,family', 'Friends,Family',\n",
       "       'family ', 'friends ', 'solo,family,friends', 'family,Friends',\n",
       "       'solo,Family,Friends', 'Friends,families', 'Friends,Families',\n",
       "       'Friends'], dtype=object)"
      ]
     },
     "execution_count": 73,
     "metadata": {},
     "output_type": "execute_result"
    }
   ],
   "source": [
    "df['types_of_travel'].unique()"
   ]
  },
  {
   "cell_type": "code",
   "execution_count": 74,
   "metadata": {},
   "outputs": [
    {
     "data": {
      "text/plain": [
       "array(['winter', 'summer,spring,winter,rainy,autumn', 'monsoon', 'spring',\n",
       "       'summer', 'autumn', 'rainy', 'summer,winter',\n",
       "       'summer,spring,autumn', 'summer,autumn', 'summer,spring,winter',\n",
       "       'summer,spring', 'summer,spring,autumn,winter',\n",
       "       'summer,monsoon,autumn', 'summer,monsoon', 'autumn,winter,spring',\n",
       "       'monsoon,autumn,winter,spring', 'autumn,winte,spring',\n",
       "       'monsoon,autumn,spring', 'autumn,winter,spring,summer',\n",
       "       'monsoon,autumn,winter', 'autumn,winter,summer,spring', 'summer '],\n",
       "      dtype=object)"
      ]
     },
     "execution_count": 74,
     "metadata": {},
     "output_type": "execute_result"
    }
   ],
   "source": [
    "df['season'].apply(lambda x:x.strip())\n",
    "df['season'].unique()"
   ]
  },
  {
   "cell_type": "code",
   "execution_count": 75,
   "metadata": {},
   "outputs": [
    {
     "data": {
      "text/plain": [
       "dtype('O')"
      ]
     },
     "execution_count": 75,
     "metadata": {},
     "output_type": "execute_result"
    }
   ],
   "source": [
    "df['season'].dtype"
   ]
  },
  {
   "cell_type": "code",
   "execution_count": 76,
   "metadata": {},
   "outputs": [],
   "source": [
    "df['types_of_travel']=df['types_of_travel'].apply(lambda x : x.lower())"
   ]
  },
  {
   "cell_type": "code",
   "execution_count": 77,
   "metadata": {},
   "outputs": [
    {
     "data": {
      "text/plain": [
       "array(['family', 'friends', 'solo', 'friends,family,solo',\n",
       "       'family,friends', 'friends,family', 'friends,solo', 'family ',\n",
       "       'solo,family,friends ', 'family,friends ', 'solo,friends',\n",
       "       'friend,family', 'friends ', 'solo,family,friends',\n",
       "       'friends,families'], dtype=object)"
      ]
     },
     "execution_count": 77,
     "metadata": {},
     "output_type": "execute_result"
    }
   ],
   "source": [
    "df['types_of_travel'].unique()"
   ]
  },
  {
   "cell_type": "code",
   "execution_count": 78,
   "metadata": {},
   "outputs": [
    {
     "data": {
      "text/plain": [
       "array(['family', 'friends', 'solo', 'friends,family,solo',\n",
       "       'family,friends', 'friends,family', 'friends,solo', 'family ',\n",
       "       'solo,family,friends ', 'family,friends ', 'solo,friends',\n",
       "       'friend,family', 'friends ', 'solo,family,friends'], dtype=object)"
      ]
     },
     "execution_count": 78,
     "metadata": {},
     "output_type": "execute_result"
    }
   ],
   "source": [
    "df['types_of_travel']=func(df['types_of_travel'],'families','family')\n",
    "df['types_of_travel'].unique()"
   ]
  },
  {
   "cell_type": "code",
   "execution_count": 79,
   "metadata": {},
   "outputs": [
    {
     "data": {
      "text/plain": [
       "array(['hindu', 'any', 'christian', 'musilm', 'chritian', 'hindhu',\n",
       "       'sikhs,hindhu', 'jain', 'hindhu,jain', 'islam,all', 'religious ',\n",
       "       'buddhism ', 'muslim', 'hindus', 'buddists',\n",
       "       'hindu,buddhists,muslims', 'buddhists', 'sikhs', 'buddhists,sikhs',\n",
       "       'hindus,jains,buddhists', 'jains',\n",
       "       'hindus,muslims,buddhists,jains', 'hindu,sikh'], dtype=object)"
      ]
     },
     "execution_count": 79,
     "metadata": {},
     "output_type": "execute_result"
    }
   ],
   "source": [
    "df['religion'].replace(to_replace=['all','religious','nan'],value='any',inplace=True)\n",
    "df['religion'].unique()"
   ]
  },
  {
   "cell_type": "code",
   "execution_count": 80,
   "metadata": {
    "scrolled": true
   },
   "outputs": [
    {
     "data": {
      "text/plain": [
       "array(['hindu', 'any', 'christian', 'musilm', 'chritian', 'hindhu',\n",
       "       'sikhs,hindhu', 'jain', 'hindhu,jain', 'islam,any', 'religious ',\n",
       "       'buddhism ', 'muslim', 'hindus', 'buddists',\n",
       "       'hindu,buddhists,muslims', 'buddhists', 'sikhs', 'buddhists,sikhs',\n",
       "       'hindus,jains,buddhists', 'jains',\n",
       "       'hindus,muslims,buddhists,jains', 'hindu,sikh'], dtype=object)"
      ]
     },
     "execution_count": 80,
     "metadata": {},
     "output_type": "execute_result"
    }
   ],
   "source": [
    "df['religion']=func(df['religion'],'all','any')\n",
    "df['religion'].unique()"
   ]
  },
  {
   "cell_type": "code",
   "execution_count": 81,
   "metadata": {},
   "outputs": [
    {
     "data": {
      "text/plain": [
       "array(['hindu', 'any', 'christian', 'musilm', 'chritian', 'hindus',\n",
       "       'sikhs,hindus', 'jain', 'hindus,jain', 'islam,any', 'religious ',\n",
       "       'buddhism ', 'muslim', 'buddists', 'hindu,buddhists,muslims',\n",
       "       'buddhists', 'sikhs', 'buddhists,sikhs', 'hindus,jains,buddhists',\n",
       "       'jains', 'hindus,muslims,buddhists,jains', 'hindu,sikh'],\n",
       "      dtype=object)"
      ]
     },
     "execution_count": 81,
     "metadata": {},
     "output_type": "execute_result"
    }
   ],
   "source": [
    "df['religion']=func(df['religion'],'hindhu','hindus')\n",
    "df['religion'].unique()"
   ]
  },
  {
   "cell_type": "code",
   "execution_count": 82,
   "metadata": {},
   "outputs": [
    {
     "data": {
      "text/plain": [
       "array(['any', '20', '25', '22', '35', '18', '24', '15', '11', '30', '10',\n",
       "       '<40', '20and above', '20 and above', '20 and Above', '25-40',\n",
       "       '20-60', '35 above', '30 above', '25 above', '20 above',\n",
       "       '20 above ', '15 above', '30 -55', '30-55', '30-45', '27', '23',\n",
       "       '13', '21', '26', '19', '28', '16', '40', '32', '45', '>15', '>20',\n",
       "       '>10', 'above 25', 'above 15', 'above 45', 'above 30', 'above 40',\n",
       "       'above 12', 'above 7', 'above 20', 'above 10', 'any ', '0'],\n",
       "      dtype=object)"
      ]
     },
     "execution_count": 82,
     "metadata": {},
     "output_type": "execute_result"
    }
   ],
   "source": [
    "df['age'].unique()"
   ]
  },
  {
   "cell_type": "code",
   "execution_count": 83,
   "metadata": {},
   "outputs": [
    {
     "data": {
      "text/plain": [
       "0      any\n",
       "1       20\n",
       "2       25\n",
       "3      any\n",
       "4      any\n",
       "      ... \n",
       "337      0\n",
       "338     30\n",
       "339     30\n",
       "340     30\n",
       "341     30\n",
       "Name: age, Length: 340, dtype: object"
      ]
     },
     "execution_count": 83,
     "metadata": {},
     "output_type": "execute_result"
    }
   ],
   "source": [
    "df['age'].apply(lambda x: x.strip())"
   ]
  },
  {
   "cell_type": "code",
   "execution_count": 84,
   "metadata": {},
   "outputs": [
    {
     "data": {
      "text/plain": [
       "array(['any', '20', '25', '22', '35', '18', '24', '15', '11', '30', '10',\n",
       "       '<40', '20and above', '20 and above', '20 and Above', '25-40',\n",
       "       '20-60', '35 above', '30 above', '25 above', '20 above',\n",
       "       '20 above ', '15 above', '30 -55', '30-55', '30-45', '27', '23',\n",
       "       '13', '21', '26', '19', '28', '16', '40', '32', '45', '>15', '>20',\n",
       "       '>10', 'above 25', 'above 15', 'above 45', 'above 30', 'above 40',\n",
       "       'above 12', 'above 7', 'above 20', 'above 10', 'any ', '0'],\n",
       "      dtype=object)"
      ]
     },
     "execution_count": 84,
     "metadata": {},
     "output_type": "execute_result"
    }
   ],
   "source": [
    "df['age'].unique()"
   ]
  },
  {
   "cell_type": "code",
   "execution_count": 85,
   "metadata": {},
   "outputs": [
    {
     "data": {
      "text/plain": [
       "array(['any', '20', '25', '22', '35', '18', '24', '15', '11', '30', '10',\n",
       "       '<40', '20and ', '20 and ', '20 and Above', '25-40', '20-60',\n",
       "       '35 ', '30 ', '25 ', '20 ', '20  ', '15 ', '30 -55', '30-55',\n",
       "       '30-45', '27', '23', '13', '21', '26', '19', '28', '16', '40',\n",
       "       '32', '45', '>15', '>20', '>10', ' 25', ' 15', ' 45', ' 30', ' 40',\n",
       "       ' 12', ' 7', ' 20', ' 10', 'any ', '0'], dtype=object)"
      ]
     },
     "execution_count": 85,
     "metadata": {},
     "output_type": "execute_result"
    }
   ],
   "source": [
    "df['age']=func(df['age'],'above','')\n",
    "df['age'].unique()"
   ]
  },
  {
   "cell_type": "code",
   "execution_count": 86,
   "metadata": {},
   "outputs": [
    {
     "data": {
      "text/plain": [
       "array(['any', '20', '25', '22', '35', '18', '24', '15', '11', '30', '10',\n",
       "       '<40', '20and ', '20 and ', '20 and Above', '25-40', '20-60',\n",
       "       '35 ', '30 ', '25 ', '20 ', '20  ', '15 ', '30 -55', '30-55',\n",
       "       '30-45', '27', '23', '13', '21', '26', '19', '28', '16', '40',\n",
       "       '32', '45', ' 25', ' 15', ' 45', ' 30', ' 40', ' 12', ' 7', ' 20',\n",
       "       ' 10', 'any ', '0'], dtype=object)"
      ]
     },
     "execution_count": 86,
     "metadata": {},
     "output_type": "execute_result"
    }
   ],
   "source": [
    "df['age']=func(df['age'],'>','')\n",
    "df['age'].unique()"
   ]
  },
  {
   "cell_type": "code",
   "execution_count": 87,
   "metadata": {},
   "outputs": [
    {
     "data": {
      "text/plain": [
       "array(['any', '20', '25', '22', '35', '18', '24', '15', '11', '30', '10',\n",
       "       '40', '20and ', '20 and ', '20 and Above', '25-40', '20-60', '35 ',\n",
       "       '30 ', '25 ', '20 ', '20  ', '15 ', '30 -55', '30-55', '30-45',\n",
       "       '27', '23', '13', '21', '26', '19', '28', '16', '32', '45', ' 25',\n",
       "       ' 15', ' 45', ' 30', ' 40', ' 12', ' 7', ' 20', ' 10', 'any ', '0'],\n",
       "      dtype=object)"
      ]
     },
     "execution_count": 87,
     "metadata": {},
     "output_type": "execute_result"
    }
   ],
   "source": [
    "df['age']=func(df['age'],'<','')\n",
    "df['age'].unique()"
   ]
  },
  {
   "cell_type": "code",
   "execution_count": 88,
   "metadata": {},
   "outputs": [
    {
     "data": {
      "text/plain": [
       "array(['any', '20', '25', '22', '35', '18', '24', '15', '11', '30', '10',\n",
       "       '40', '20and ', '20 and ', '20 and Above', '2540', '2060', '35 ',\n",
       "       '30 ', '25 ', '20 ', '20  ', '15 ', '30 55', '3055', '3045', '27',\n",
       "       '23', '13', '21', '26', '19', '28', '16', '32', '45', ' 25', ' 15',\n",
       "       ' 45', ' 30', ' 40', ' 12', ' 7', ' 20', ' 10', 'any ', '0'],\n",
       "      dtype=object)"
      ]
     },
     "execution_count": 88,
     "metadata": {},
     "output_type": "execute_result"
    }
   ],
   "source": [
    "df['age']=func(df['age'],'-','')\n",
    "df['age'].unique()"
   ]
  },
  {
   "cell_type": "code",
   "execution_count": 89,
   "metadata": {},
   "outputs": [
    {
     "data": {
      "text/plain": [
       "array(['any', '20', '25', '22', '35', '18', '24', '15', '11', '30', '10',\n",
       "       '40', '20and', '20andAbove', '2540', '2060', '3055', '3045', '27',\n",
       "       '23', '13', '21', '26', '19', '28', '16', '32', '45', '12', '7',\n",
       "       '0'], dtype=object)"
      ]
     },
     "execution_count": 89,
     "metadata": {},
     "output_type": "execute_result"
    }
   ],
   "source": [
    "df['age']=func(df['age'],' ','')\n",
    "df['age'].unique()"
   ]
  },
  {
   "cell_type": "code",
   "execution_count": 90,
   "metadata": {},
   "outputs": [
    {
     "data": {
      "text/plain": [
       "array(['0', '20', '25', '22', '35', '18', '24', '15', '11', '30', '10',\n",
       "       '40', '20and', '20andAbove', '2540', '2060', '3055', '3045', '27',\n",
       "       '23', '13', '21', '26', '19', '28', '16', '32', '45', '12', '7'],\n",
       "      dtype=object)"
      ]
     },
     "execution_count": 90,
     "metadata": {},
     "output_type": "execute_result"
    }
   ],
   "source": [
    "df['age'].replace(to_replace='any',value='0',inplace=True)\n",
    "df['age'].unique()"
   ]
  },
  {
   "cell_type": "code",
   "execution_count": 91,
   "metadata": {},
   "outputs": [],
   "source": [
    "def func1(t):\n",
    "    lis=[]\n",
    "    for i in t:\n",
    "        i=i[:2]\n",
    "        lis.append(i)\n",
    "    return lis    \n",
    "df['age']=func1(df['age'])"
   ]
  },
  {
   "cell_type": "code",
   "execution_count": 92,
   "metadata": {},
   "outputs": [
    {
     "data": {
      "text/plain": [
       "array(['0', '20', '25', '22', '35', '18', '24', '15', '11', '30', '10',\n",
       "       '40', '27', '23', '13', '21', '26', '19', '28', '16', '32', '45',\n",
       "       '12', '7'], dtype=object)"
      ]
     },
     "execution_count": 92,
     "metadata": {},
     "output_type": "execute_result"
    }
   ],
   "source": [
    "df['age'].unique()"
   ]
  },
  {
   "cell_type": "code",
   "execution_count": 93,
   "metadata": {},
   "outputs": [
    {
     "data": {
      "text/plain": [
       "dtype('int32')"
      ]
     },
     "execution_count": 93,
     "metadata": {},
     "output_type": "execute_result"
    }
   ],
   "source": [
    "df['age']=df['age'].astype(int)\n",
    "df['age'].dtype"
   ]
  },
  {
   "cell_type": "code",
   "execution_count": 94,
   "metadata": {},
   "outputs": [
    {
     "data": {
      "text/plain": [
       "array([ 0, 20, 25, 22, 35, 18, 24, 15, 11, 30, 10, 40, 27, 23, 13, 21, 26,\n",
       "       19, 28, 16, 32, 45, 12,  7], dtype=int64)"
      ]
     },
     "execution_count": 94,
     "metadata": {},
     "output_type": "execute_result"
    }
   ],
   "source": [
    "df['age'].unique()"
   ]
  },
  {
   "cell_type": "code",
   "execution_count": 95,
   "metadata": {},
   "outputs": [
    {
     "data": {
      "text/plain": [
       "location            object\n",
       "place               object\n",
       "state               object\n",
       "location_rating    float64\n",
       "age                  int32\n",
       "season              object\n",
       "affordable          object\n",
       "types_of_travel     object\n",
       "religion            object\n",
       "item_id              int32\n",
       "user_id              int64\n",
       "user_rating        float64\n",
       "timestamp            int64\n",
       "dtype: object"
      ]
     },
     "execution_count": 95,
     "metadata": {},
     "output_type": "execute_result"
    }
   ],
   "source": [
    "df.dtypes"
   ]
  },
  {
   "cell_type": "code",
   "execution_count": 96,
   "metadata": {
    "scrolled": true
   },
   "outputs": [
    {
     "data": {
      "text/html": [
       "<div>\n",
       "<style scoped>\n",
       "    .dataframe tbody tr th:only-of-type {\n",
       "        vertical-align: middle;\n",
       "    }\n",
       "\n",
       "    .dataframe tbody tr th {\n",
       "        vertical-align: top;\n",
       "    }\n",
       "\n",
       "    .dataframe thead th {\n",
       "        text-align: right;\n",
       "    }\n",
       "</style>\n",
       "<table border=\"1\" class=\"dataframe\">\n",
       "  <thead>\n",
       "    <tr style=\"text-align: right;\">\n",
       "      <th></th>\n",
       "      <th>location</th>\n",
       "      <th>place</th>\n",
       "      <th>state</th>\n",
       "      <th>location_rating</th>\n",
       "      <th>age</th>\n",
       "      <th>season</th>\n",
       "      <th>affordable</th>\n",
       "      <th>types_of_travel</th>\n",
       "      <th>religion</th>\n",
       "      <th>item_id</th>\n",
       "      <th>user_id</th>\n",
       "      <th>user_rating</th>\n",
       "      <th>timestamp</th>\n",
       "    </tr>\n",
       "  </thead>\n",
       "  <tbody>\n",
       "    <tr>\n",
       "      <td>0</td>\n",
       "      <td>Bhoramdeo Temple</td>\n",
       "      <td>Chaura village, Kawardha town</td>\n",
       "      <td>chhattisgarh</td>\n",
       "      <td>4.0</td>\n",
       "      <td>0</td>\n",
       "      <td>winter</td>\n",
       "      <td>Yes</td>\n",
       "      <td>family</td>\n",
       "      <td>hindu</td>\n",
       "      <td>1</td>\n",
       "      <td>1</td>\n",
       "      <td>0.0</td>\n",
       "      <td>881250949</td>\n",
       "    </tr>\n",
       "    <tr>\n",
       "      <td>1</td>\n",
       "      <td>maitri bagh</td>\n",
       "      <td>Near to Maroda, Bhilai</td>\n",
       "      <td>chhattisgarh</td>\n",
       "      <td>4.0</td>\n",
       "      <td>20</td>\n",
       "      <td>summer,spring,winter,rainy,autumn</td>\n",
       "      <td>Yes</td>\n",
       "      <td>friends</td>\n",
       "      <td>any</td>\n",
       "      <td>2</td>\n",
       "      <td>1</td>\n",
       "      <td>3.0</td>\n",
       "      <td>891717742</td>\n",
       "    </tr>\n",
       "    <tr>\n",
       "      <td>2</td>\n",
       "      <td>Tirathgarh Falls</td>\n",
       "      <td>Bastar district</td>\n",
       "      <td>chhattisgarh</td>\n",
       "      <td>4.6</td>\n",
       "      <td>25</td>\n",
       "      <td>monsoon</td>\n",
       "      <td>Yes</td>\n",
       "      <td>friends</td>\n",
       "      <td>any</td>\n",
       "      <td>3</td>\n",
       "      <td>1</td>\n",
       "      <td>1.0</td>\n",
       "      <td>878887116</td>\n",
       "    </tr>\n",
       "    <tr>\n",
       "      <td>3</td>\n",
       "      <td>Sirpur Heritage Site</td>\n",
       "      <td>bank of holy Mahanadi river</td>\n",
       "      <td>chhattisgarh</td>\n",
       "      <td>5.0</td>\n",
       "      <td>0</td>\n",
       "      <td>winter</td>\n",
       "      <td>Yes</td>\n",
       "      <td>family</td>\n",
       "      <td>hindu</td>\n",
       "      <td>4</td>\n",
       "      <td>1</td>\n",
       "      <td>0.0</td>\n",
       "      <td>880606923</td>\n",
       "    </tr>\n",
       "    <tr>\n",
       "      <td>4</td>\n",
       "      <td>Rajeev Smriti Van</td>\n",
       "      <td>Raipur</td>\n",
       "      <td>chhattisgarh</td>\n",
       "      <td>3.9</td>\n",
       "      <td>0</td>\n",
       "      <td>summer,spring,winter,rainy,autumn</td>\n",
       "      <td>Yes</td>\n",
       "      <td>solo</td>\n",
       "      <td>any</td>\n",
       "      <td>5</td>\n",
       "      <td>1</td>\n",
       "      <td>1.0</td>\n",
       "      <td>886397596</td>\n",
       "    </tr>\n",
       "  </tbody>\n",
       "</table>\n",
       "</div>"
      ],
      "text/plain": [
       "               location                          place          state  \\\n",
       "0      Bhoramdeo Temple  Chaura village, Kawardha town   chhattisgarh   \n",
       "1           maitri bagh         Near to Maroda, Bhilai   chhattisgarh   \n",
       "2      Tirathgarh Falls                Bastar district   chhattisgarh   \n",
       "3  Sirpur Heritage Site    bank of holy Mahanadi river   chhattisgarh   \n",
       "4     Rajeev Smriti Van                         Raipur   chhattisgarh   \n",
       "\n",
       "   location_rating  age                             season affordable  \\\n",
       "0              4.0    0                             winter        Yes   \n",
       "1              4.0   20  summer,spring,winter,rainy,autumn        Yes   \n",
       "2              4.6   25                            monsoon        Yes   \n",
       "3              5.0    0                             winter        Yes   \n",
       "4              3.9    0  summer,spring,winter,rainy,autumn        Yes   \n",
       "\n",
       "  types_of_travel religion  item_id  user_id  user_rating  timestamp  \n",
       "0          family    hindu        1        1          0.0  881250949  \n",
       "1         friends      any        2        1          3.0  891717742  \n",
       "2         friends      any        3        1          1.0  878887116  \n",
       "3          family    hindu        4        1          0.0  880606923  \n",
       "4            solo      any        5        1          1.0  886397596  "
      ]
     },
     "execution_count": 96,
     "metadata": {},
     "output_type": "execute_result"
    }
   ],
   "source": [
    "df.head() "
   ]
  },
  {
   "cell_type": "code",
   "execution_count": 97,
   "metadata": {},
   "outputs": [],
   "source": [
    "df.to_csv('clean_travel_data.csv')"
   ]
  },
  {
   "cell_type": "code",
   "execution_count": 98,
   "metadata": {},
   "outputs": [
    {
     "data": {
      "text/plain": [
       "array(['winter', 'summer,spring,winter,rainy,autumn', 'monsoon', 'spring',\n",
       "       'summer', 'autumn', 'summer,winter', 'summer,spring,autumn',\n",
       "       'summer,autumn', 'summer,spring,winter', 'summer,spring',\n",
       "       'summer,spring,autumn,winter', 'summer,monsoon,autumn',\n",
       "       'summer,monsoon', 'autumn,winter,spring',\n",
       "       'monsoon,autumn,winter,spring', 'autumn,winte,spring',\n",
       "       'monsoon,autumn,spring', 'autumn,winter,spring,summer',\n",
       "       'monsoon,autumn,winter', 'autumn,winter,summer,spring'],\n",
       "      dtype=object)"
      ]
     },
     "execution_count": 98,
     "metadata": {},
     "output_type": "execute_result"
    }
   ],
   "source": [
    "df['season']=df['season'].apply(lambda x: x.strip())\n",
    "df['season'].replace(to_replace='rainy',value='monsoon',inplace=True)\n",
    "df['season'].unique()"
   ]
  },
  {
   "cell_type": "code",
   "execution_count": 99,
   "metadata": {},
   "outputs": [],
   "source": [
    "def comma(x):\n",
    "    lis=[]\n",
    "    for i in x:\n",
    "        if ',' in i:\n",
    "            i='any'\n",
    "        lis.append(i)    \n",
    "    return lis     \n",
    "           "
   ]
  },
  {
   "cell_type": "code",
   "execution_count": 100,
   "metadata": {},
   "outputs": [
    {
     "data": {
      "text/html": [
       "<div>\n",
       "<style scoped>\n",
       "    .dataframe tbody tr th:only-of-type {\n",
       "        vertical-align: middle;\n",
       "    }\n",
       "\n",
       "    .dataframe tbody tr th {\n",
       "        vertical-align: top;\n",
       "    }\n",
       "\n",
       "    .dataframe thead th {\n",
       "        text-align: right;\n",
       "    }\n",
       "</style>\n",
       "<table border=\"1\" class=\"dataframe\">\n",
       "  <thead>\n",
       "    <tr style=\"text-align: right;\">\n",
       "      <th></th>\n",
       "      <th>location</th>\n",
       "      <th>place</th>\n",
       "      <th>state</th>\n",
       "      <th>location_rating</th>\n",
       "      <th>age</th>\n",
       "      <th>season</th>\n",
       "      <th>affordable</th>\n",
       "      <th>types_of_travel</th>\n",
       "      <th>religion</th>\n",
       "      <th>item_id</th>\n",
       "      <th>user_id</th>\n",
       "      <th>user_rating</th>\n",
       "      <th>timestamp</th>\n",
       "    </tr>\n",
       "  </thead>\n",
       "  <tbody>\n",
       "    <tr>\n",
       "      <td>0</td>\n",
       "      <td>Bhoramdeo Temple</td>\n",
       "      <td>Chaura village, Kawardha town</td>\n",
       "      <td>chhattisgarh</td>\n",
       "      <td>4.0</td>\n",
       "      <td>0</td>\n",
       "      <td>winter</td>\n",
       "      <td>Yes</td>\n",
       "      <td>family</td>\n",
       "      <td>hindu</td>\n",
       "      <td>1</td>\n",
       "      <td>1</td>\n",
       "      <td>0.0</td>\n",
       "      <td>881250949</td>\n",
       "    </tr>\n",
       "    <tr>\n",
       "      <td>1</td>\n",
       "      <td>maitri bagh</td>\n",
       "      <td>Near to Maroda, Bhilai</td>\n",
       "      <td>chhattisgarh</td>\n",
       "      <td>4.0</td>\n",
       "      <td>20</td>\n",
       "      <td>any</td>\n",
       "      <td>Yes</td>\n",
       "      <td>friends</td>\n",
       "      <td>any</td>\n",
       "      <td>2</td>\n",
       "      <td>1</td>\n",
       "      <td>3.0</td>\n",
       "      <td>891717742</td>\n",
       "    </tr>\n",
       "    <tr>\n",
       "      <td>2</td>\n",
       "      <td>Tirathgarh Falls</td>\n",
       "      <td>Bastar district</td>\n",
       "      <td>chhattisgarh</td>\n",
       "      <td>4.6</td>\n",
       "      <td>25</td>\n",
       "      <td>monsoon</td>\n",
       "      <td>Yes</td>\n",
       "      <td>friends</td>\n",
       "      <td>any</td>\n",
       "      <td>3</td>\n",
       "      <td>1</td>\n",
       "      <td>1.0</td>\n",
       "      <td>878887116</td>\n",
       "    </tr>\n",
       "    <tr>\n",
       "      <td>3</td>\n",
       "      <td>Sirpur Heritage Site</td>\n",
       "      <td>bank of holy Mahanadi river</td>\n",
       "      <td>chhattisgarh</td>\n",
       "      <td>5.0</td>\n",
       "      <td>0</td>\n",
       "      <td>winter</td>\n",
       "      <td>Yes</td>\n",
       "      <td>family</td>\n",
       "      <td>hindu</td>\n",
       "      <td>4</td>\n",
       "      <td>1</td>\n",
       "      <td>0.0</td>\n",
       "      <td>880606923</td>\n",
       "    </tr>\n",
       "    <tr>\n",
       "      <td>4</td>\n",
       "      <td>Rajeev Smriti Van</td>\n",
       "      <td>Raipur</td>\n",
       "      <td>chhattisgarh</td>\n",
       "      <td>3.9</td>\n",
       "      <td>0</td>\n",
       "      <td>any</td>\n",
       "      <td>Yes</td>\n",
       "      <td>solo</td>\n",
       "      <td>any</td>\n",
       "      <td>5</td>\n",
       "      <td>1</td>\n",
       "      <td>1.0</td>\n",
       "      <td>886397596</td>\n",
       "    </tr>\n",
       "  </tbody>\n",
       "</table>\n",
       "</div>"
      ],
      "text/plain": [
       "               location                          place          state  \\\n",
       "0      Bhoramdeo Temple  Chaura village, Kawardha town   chhattisgarh   \n",
       "1           maitri bagh         Near to Maroda, Bhilai   chhattisgarh   \n",
       "2      Tirathgarh Falls                Bastar district   chhattisgarh   \n",
       "3  Sirpur Heritage Site    bank of holy Mahanadi river   chhattisgarh   \n",
       "4     Rajeev Smriti Van                         Raipur   chhattisgarh   \n",
       "\n",
       "   location_rating  age   season affordable types_of_travel religion  item_id  \\\n",
       "0              4.0    0   winter        Yes          family    hindu        1   \n",
       "1              4.0   20      any        Yes         friends      any        2   \n",
       "2              4.6   25  monsoon        Yes         friends      any        3   \n",
       "3              5.0    0   winter        Yes          family    hindu        4   \n",
       "4              3.9    0      any        Yes            solo      any        5   \n",
       "\n",
       "   user_id  user_rating  timestamp  \n",
       "0        1          0.0  881250949  \n",
       "1        1          3.0  891717742  \n",
       "2        1          1.0  878887116  \n",
       "3        1          0.0  880606923  \n",
       "4        1          1.0  886397596  "
      ]
     },
     "execution_count": 100,
     "metadata": {},
     "output_type": "execute_result"
    }
   ],
   "source": [
    "df['season']=comma(df['season'])\n",
    "df.head()"
   ]
  },
  {
   "cell_type": "code",
   "execution_count": 101,
   "metadata": {},
   "outputs": [
    {
     "data": {
      "text/plain": [
       "array(['winter', 'any', 'monsoon', 'spring', 'summer', 'autumn'],\n",
       "      dtype=object)"
      ]
     },
     "execution_count": 101,
     "metadata": {},
     "output_type": "execute_result"
    }
   ],
   "source": [
    "df['season'].unique()"
   ]
  },
  {
   "cell_type": "code",
   "execution_count": 102,
   "metadata": {},
   "outputs": [],
   "source": [
    "df['types_of_travel']=comma(df['types_of_travel'])"
   ]
  },
  {
   "cell_type": "code",
   "execution_count": 103,
   "metadata": {},
   "outputs": [
    {
     "data": {
      "text/html": [
       "<div>\n",
       "<style scoped>\n",
       "    .dataframe tbody tr th:only-of-type {\n",
       "        vertical-align: middle;\n",
       "    }\n",
       "\n",
       "    .dataframe tbody tr th {\n",
       "        vertical-align: top;\n",
       "    }\n",
       "\n",
       "    .dataframe thead th {\n",
       "        text-align: right;\n",
       "    }\n",
       "</style>\n",
       "<table border=\"1\" class=\"dataframe\">\n",
       "  <thead>\n",
       "    <tr style=\"text-align: right;\">\n",
       "      <th></th>\n",
       "      <th>location</th>\n",
       "      <th>place</th>\n",
       "      <th>state</th>\n",
       "      <th>location_rating</th>\n",
       "      <th>age</th>\n",
       "      <th>season</th>\n",
       "      <th>affordable</th>\n",
       "      <th>types_of_travel</th>\n",
       "      <th>religion</th>\n",
       "      <th>item_id</th>\n",
       "      <th>user_id</th>\n",
       "      <th>user_rating</th>\n",
       "      <th>timestamp</th>\n",
       "    </tr>\n",
       "  </thead>\n",
       "  <tbody>\n",
       "    <tr>\n",
       "      <td>0</td>\n",
       "      <td>Bhoramdeo Temple</td>\n",
       "      <td>Chaura village, Kawardha town</td>\n",
       "      <td>chhattisgarh</td>\n",
       "      <td>4.0</td>\n",
       "      <td>0</td>\n",
       "      <td>winter</td>\n",
       "      <td>Yes</td>\n",
       "      <td>family</td>\n",
       "      <td>hindu</td>\n",
       "      <td>1</td>\n",
       "      <td>1</td>\n",
       "      <td>0.0</td>\n",
       "      <td>881250949</td>\n",
       "    </tr>\n",
       "    <tr>\n",
       "      <td>1</td>\n",
       "      <td>maitri bagh</td>\n",
       "      <td>Near to Maroda, Bhilai</td>\n",
       "      <td>chhattisgarh</td>\n",
       "      <td>4.0</td>\n",
       "      <td>20</td>\n",
       "      <td>any</td>\n",
       "      <td>Yes</td>\n",
       "      <td>friends</td>\n",
       "      <td>any</td>\n",
       "      <td>2</td>\n",
       "      <td>1</td>\n",
       "      <td>3.0</td>\n",
       "      <td>891717742</td>\n",
       "    </tr>\n",
       "    <tr>\n",
       "      <td>2</td>\n",
       "      <td>Tirathgarh Falls</td>\n",
       "      <td>Bastar district</td>\n",
       "      <td>chhattisgarh</td>\n",
       "      <td>4.6</td>\n",
       "      <td>25</td>\n",
       "      <td>monsoon</td>\n",
       "      <td>Yes</td>\n",
       "      <td>friends</td>\n",
       "      <td>any</td>\n",
       "      <td>3</td>\n",
       "      <td>1</td>\n",
       "      <td>1.0</td>\n",
       "      <td>878887116</td>\n",
       "    </tr>\n",
       "    <tr>\n",
       "      <td>3</td>\n",
       "      <td>Sirpur Heritage Site</td>\n",
       "      <td>bank of holy Mahanadi river</td>\n",
       "      <td>chhattisgarh</td>\n",
       "      <td>5.0</td>\n",
       "      <td>0</td>\n",
       "      <td>winter</td>\n",
       "      <td>Yes</td>\n",
       "      <td>family</td>\n",
       "      <td>hindu</td>\n",
       "      <td>4</td>\n",
       "      <td>1</td>\n",
       "      <td>0.0</td>\n",
       "      <td>880606923</td>\n",
       "    </tr>\n",
       "    <tr>\n",
       "      <td>4</td>\n",
       "      <td>Rajeev Smriti Van</td>\n",
       "      <td>Raipur</td>\n",
       "      <td>chhattisgarh</td>\n",
       "      <td>3.9</td>\n",
       "      <td>0</td>\n",
       "      <td>any</td>\n",
       "      <td>Yes</td>\n",
       "      <td>solo</td>\n",
       "      <td>any</td>\n",
       "      <td>5</td>\n",
       "      <td>1</td>\n",
       "      <td>1.0</td>\n",
       "      <td>886397596</td>\n",
       "    </tr>\n",
       "  </tbody>\n",
       "</table>\n",
       "</div>"
      ],
      "text/plain": [
       "               location                          place          state  \\\n",
       "0      Bhoramdeo Temple  Chaura village, Kawardha town   chhattisgarh   \n",
       "1           maitri bagh         Near to Maroda, Bhilai   chhattisgarh   \n",
       "2      Tirathgarh Falls                Bastar district   chhattisgarh   \n",
       "3  Sirpur Heritage Site    bank of holy Mahanadi river   chhattisgarh   \n",
       "4     Rajeev Smriti Van                         Raipur   chhattisgarh   \n",
       "\n",
       "   location_rating  age   season affordable types_of_travel religion  item_id  \\\n",
       "0              4.0    0   winter        Yes          family    hindu        1   \n",
       "1              4.0   20      any        Yes         friends      any        2   \n",
       "2              4.6   25  monsoon        Yes         friends      any        3   \n",
       "3              5.0    0   winter        Yes          family    hindu        4   \n",
       "4              3.9    0      any        Yes            solo      any        5   \n",
       "\n",
       "   user_id  user_rating  timestamp  \n",
       "0        1          0.0  881250949  \n",
       "1        1          3.0  891717742  \n",
       "2        1          1.0  878887116  \n",
       "3        1          0.0  880606923  \n",
       "4        1          1.0  886397596  "
      ]
     },
     "execution_count": 103,
     "metadata": {},
     "output_type": "execute_result"
    }
   ],
   "source": [
    "df.head()"
   ]
  },
  {
   "cell_type": "code",
   "execution_count": 104,
   "metadata": {},
   "outputs": [],
   "source": [
    "df['types_of_travel']=df['types_of_travel'].apply(lambda x: x.strip())"
   ]
  },
  {
   "cell_type": "code",
   "execution_count": 105,
   "metadata": {
    "scrolled": true
   },
   "outputs": [
    {
     "data": {
      "text/html": [
       "<div>\n",
       "<style scoped>\n",
       "    .dataframe tbody tr th:only-of-type {\n",
       "        vertical-align: middle;\n",
       "    }\n",
       "\n",
       "    .dataframe tbody tr th {\n",
       "        vertical-align: top;\n",
       "    }\n",
       "\n",
       "    .dataframe thead th {\n",
       "        text-align: right;\n",
       "    }\n",
       "</style>\n",
       "<table border=\"1\" class=\"dataframe\">\n",
       "  <thead>\n",
       "    <tr style=\"text-align: right;\">\n",
       "      <th></th>\n",
       "      <th>travel_type_any</th>\n",
       "      <th>travel_type_family</th>\n",
       "      <th>travel_type_friends</th>\n",
       "      <th>travel_type_solo</th>\n",
       "    </tr>\n",
       "  </thead>\n",
       "  <tbody>\n",
       "    <tr>\n",
       "      <td>0</td>\n",
       "      <td>0</td>\n",
       "      <td>1</td>\n",
       "      <td>0</td>\n",
       "      <td>0</td>\n",
       "    </tr>\n",
       "    <tr>\n",
       "      <td>1</td>\n",
       "      <td>0</td>\n",
       "      <td>0</td>\n",
       "      <td>1</td>\n",
       "      <td>0</td>\n",
       "    </tr>\n",
       "    <tr>\n",
       "      <td>2</td>\n",
       "      <td>0</td>\n",
       "      <td>0</td>\n",
       "      <td>1</td>\n",
       "      <td>0</td>\n",
       "    </tr>\n",
       "    <tr>\n",
       "      <td>3</td>\n",
       "      <td>0</td>\n",
       "      <td>1</td>\n",
       "      <td>0</td>\n",
       "      <td>0</td>\n",
       "    </tr>\n",
       "    <tr>\n",
       "      <td>4</td>\n",
       "      <td>0</td>\n",
       "      <td>0</td>\n",
       "      <td>0</td>\n",
       "      <td>1</td>\n",
       "    </tr>\n",
       "  </tbody>\n",
       "</table>\n",
       "</div>"
      ],
      "text/plain": [
       "   travel_type_any  travel_type_family  travel_type_friends  travel_type_solo\n",
       "0                0                   1                    0                 0\n",
       "1                0                   0                    1                 0\n",
       "2                0                   0                    1                 0\n",
       "3                0                   1                    0                 0\n",
       "4                0                   0                    0                 1"
      ]
     },
     "execution_count": 105,
     "metadata": {},
     "output_type": "execute_result"
    }
   ],
   "source": [
    "travel_types=pd.get_dummies(df['types_of_travel'],prefix='travel_type')\n",
    "travel_types.head()"
   ]
  },
  {
   "cell_type": "code",
   "execution_count": 106,
   "metadata": {},
   "outputs": [
    {
     "data": {
      "text/html": [
       "<div>\n",
       "<style scoped>\n",
       "    .dataframe tbody tr th:only-of-type {\n",
       "        vertical-align: middle;\n",
       "    }\n",
       "\n",
       "    .dataframe tbody tr th {\n",
       "        vertical-align: top;\n",
       "    }\n",
       "\n",
       "    .dataframe thead th {\n",
       "        text-align: right;\n",
       "    }\n",
       "</style>\n",
       "<table border=\"1\" class=\"dataframe\">\n",
       "  <thead>\n",
       "    <tr style=\"text-align: right;\">\n",
       "      <th></th>\n",
       "      <th>location</th>\n",
       "      <th>place</th>\n",
       "      <th>state</th>\n",
       "      <th>location_rating</th>\n",
       "      <th>age</th>\n",
       "      <th>season</th>\n",
       "      <th>affordable</th>\n",
       "      <th>types_of_travel</th>\n",
       "      <th>religion</th>\n",
       "      <th>item_id</th>\n",
       "      <th>user_id</th>\n",
       "      <th>user_rating</th>\n",
       "      <th>timestamp</th>\n",
       "      <th>travel_type_any</th>\n",
       "      <th>travel_type_family</th>\n",
       "      <th>travel_type_friends</th>\n",
       "      <th>travel_type_solo</th>\n",
       "    </tr>\n",
       "  </thead>\n",
       "  <tbody>\n",
       "    <tr>\n",
       "      <td>0</td>\n",
       "      <td>Bhoramdeo Temple</td>\n",
       "      <td>Chaura village, Kawardha town</td>\n",
       "      <td>chhattisgarh</td>\n",
       "      <td>4.0</td>\n",
       "      <td>0</td>\n",
       "      <td>winter</td>\n",
       "      <td>Yes</td>\n",
       "      <td>family</td>\n",
       "      <td>hindu</td>\n",
       "      <td>1</td>\n",
       "      <td>1</td>\n",
       "      <td>0.0</td>\n",
       "      <td>881250949</td>\n",
       "      <td>0</td>\n",
       "      <td>1</td>\n",
       "      <td>0</td>\n",
       "      <td>0</td>\n",
       "    </tr>\n",
       "    <tr>\n",
       "      <td>1</td>\n",
       "      <td>maitri bagh</td>\n",
       "      <td>Near to Maroda, Bhilai</td>\n",
       "      <td>chhattisgarh</td>\n",
       "      <td>4.0</td>\n",
       "      <td>20</td>\n",
       "      <td>any</td>\n",
       "      <td>Yes</td>\n",
       "      <td>friends</td>\n",
       "      <td>any</td>\n",
       "      <td>2</td>\n",
       "      <td>1</td>\n",
       "      <td>3.0</td>\n",
       "      <td>891717742</td>\n",
       "      <td>0</td>\n",
       "      <td>0</td>\n",
       "      <td>1</td>\n",
       "      <td>0</td>\n",
       "    </tr>\n",
       "    <tr>\n",
       "      <td>2</td>\n",
       "      <td>Tirathgarh Falls</td>\n",
       "      <td>Bastar district</td>\n",
       "      <td>chhattisgarh</td>\n",
       "      <td>4.6</td>\n",
       "      <td>25</td>\n",
       "      <td>monsoon</td>\n",
       "      <td>Yes</td>\n",
       "      <td>friends</td>\n",
       "      <td>any</td>\n",
       "      <td>3</td>\n",
       "      <td>1</td>\n",
       "      <td>1.0</td>\n",
       "      <td>878887116</td>\n",
       "      <td>0</td>\n",
       "      <td>0</td>\n",
       "      <td>1</td>\n",
       "      <td>0</td>\n",
       "    </tr>\n",
       "    <tr>\n",
       "      <td>3</td>\n",
       "      <td>Sirpur Heritage Site</td>\n",
       "      <td>bank of holy Mahanadi river</td>\n",
       "      <td>chhattisgarh</td>\n",
       "      <td>5.0</td>\n",
       "      <td>0</td>\n",
       "      <td>winter</td>\n",
       "      <td>Yes</td>\n",
       "      <td>family</td>\n",
       "      <td>hindu</td>\n",
       "      <td>4</td>\n",
       "      <td>1</td>\n",
       "      <td>0.0</td>\n",
       "      <td>880606923</td>\n",
       "      <td>0</td>\n",
       "      <td>1</td>\n",
       "      <td>0</td>\n",
       "      <td>0</td>\n",
       "    </tr>\n",
       "    <tr>\n",
       "      <td>4</td>\n",
       "      <td>Rajeev Smriti Van</td>\n",
       "      <td>Raipur</td>\n",
       "      <td>chhattisgarh</td>\n",
       "      <td>3.9</td>\n",
       "      <td>0</td>\n",
       "      <td>any</td>\n",
       "      <td>Yes</td>\n",
       "      <td>solo</td>\n",
       "      <td>any</td>\n",
       "      <td>5</td>\n",
       "      <td>1</td>\n",
       "      <td>1.0</td>\n",
       "      <td>886397596</td>\n",
       "      <td>0</td>\n",
       "      <td>0</td>\n",
       "      <td>0</td>\n",
       "      <td>1</td>\n",
       "    </tr>\n",
       "  </tbody>\n",
       "</table>\n",
       "</div>"
      ],
      "text/plain": [
       "               location                          place          state  \\\n",
       "0      Bhoramdeo Temple  Chaura village, Kawardha town   chhattisgarh   \n",
       "1           maitri bagh         Near to Maroda, Bhilai   chhattisgarh   \n",
       "2      Tirathgarh Falls                Bastar district   chhattisgarh   \n",
       "3  Sirpur Heritage Site    bank of holy Mahanadi river   chhattisgarh   \n",
       "4     Rajeev Smriti Van                         Raipur   chhattisgarh   \n",
       "\n",
       "   location_rating  age   season affordable types_of_travel religion  item_id  \\\n",
       "0              4.0    0   winter        Yes          family    hindu        1   \n",
       "1              4.0   20      any        Yes         friends      any        2   \n",
       "2              4.6   25  monsoon        Yes         friends      any        3   \n",
       "3              5.0    0   winter        Yes          family    hindu        4   \n",
       "4              3.9    0      any        Yes            solo      any        5   \n",
       "\n",
       "   user_id  user_rating  timestamp  travel_type_any  travel_type_family  \\\n",
       "0        1          0.0  881250949                0                   1   \n",
       "1        1          3.0  891717742                0                   0   \n",
       "2        1          1.0  878887116                0                   0   \n",
       "3        1          0.0  880606923                0                   1   \n",
       "4        1          1.0  886397596                0                   0   \n",
       "\n",
       "   travel_type_friends  travel_type_solo  \n",
       "0                    0                 0  \n",
       "1                    1                 0  \n",
       "2                    1                 0  \n",
       "3                    0                 0  \n",
       "4                    0                 1  "
      ]
     },
     "execution_count": 106,
     "metadata": {},
     "output_type": "execute_result"
    }
   ],
   "source": [
    "df=pd.concat([df,travel_types],axis=1)\n",
    "df.head()"
   ]
  },
  {
   "cell_type": "code",
   "execution_count": 107,
   "metadata": {},
   "outputs": [
    {
     "data": {
      "text/html": [
       "<div>\n",
       "<style scoped>\n",
       "    .dataframe tbody tr th:only-of-type {\n",
       "        vertical-align: middle;\n",
       "    }\n",
       "\n",
       "    .dataframe tbody tr th {\n",
       "        vertical-align: top;\n",
       "    }\n",
       "\n",
       "    .dataframe thead th {\n",
       "        text-align: right;\n",
       "    }\n",
       "</style>\n",
       "<table border=\"1\" class=\"dataframe\">\n",
       "  <thead>\n",
       "    <tr style=\"text-align: right;\">\n",
       "      <th></th>\n",
       "      <th>location</th>\n",
       "      <th>place</th>\n",
       "      <th>state</th>\n",
       "      <th>location_rating</th>\n",
       "      <th>age</th>\n",
       "      <th>season</th>\n",
       "      <th>affordable</th>\n",
       "      <th>types_of_travel</th>\n",
       "      <th>religion</th>\n",
       "      <th>item_id</th>\n",
       "      <th>user_id</th>\n",
       "      <th>user_rating</th>\n",
       "      <th>timestamp</th>\n",
       "      <th>travel_type_any</th>\n",
       "      <th>travel_type_family</th>\n",
       "      <th>travel_type_friends</th>\n",
       "      <th>travel_type_solo</th>\n",
       "    </tr>\n",
       "  </thead>\n",
       "  <tbody>\n",
       "    <tr>\n",
       "      <td>0</td>\n",
       "      <td>Bhoramdeo Temple</td>\n",
       "      <td>Chaura village, Kawardha town</td>\n",
       "      <td>chhattisgarh</td>\n",
       "      <td>4.0</td>\n",
       "      <td>0</td>\n",
       "      <td>winter</td>\n",
       "      <td>Yes</td>\n",
       "      <td>family</td>\n",
       "      <td>hindu</td>\n",
       "      <td>1</td>\n",
       "      <td>1</td>\n",
       "      <td>0.0</td>\n",
       "      <td>881250949</td>\n",
       "      <td>0</td>\n",
       "      <td>1</td>\n",
       "      <td>0</td>\n",
       "      <td>0</td>\n",
       "    </tr>\n",
       "    <tr>\n",
       "      <td>1</td>\n",
       "      <td>maitri bagh</td>\n",
       "      <td>Near to Maroda, Bhilai</td>\n",
       "      <td>chhattisgarh</td>\n",
       "      <td>4.0</td>\n",
       "      <td>20</td>\n",
       "      <td>any</td>\n",
       "      <td>Yes</td>\n",
       "      <td>friends</td>\n",
       "      <td>any</td>\n",
       "      <td>2</td>\n",
       "      <td>1</td>\n",
       "      <td>3.0</td>\n",
       "      <td>891717742</td>\n",
       "      <td>0</td>\n",
       "      <td>0</td>\n",
       "      <td>1</td>\n",
       "      <td>0</td>\n",
       "    </tr>\n",
       "    <tr>\n",
       "      <td>2</td>\n",
       "      <td>Tirathgarh Falls</td>\n",
       "      <td>Bastar district</td>\n",
       "      <td>chhattisgarh</td>\n",
       "      <td>4.6</td>\n",
       "      <td>25</td>\n",
       "      <td>rainy</td>\n",
       "      <td>Yes</td>\n",
       "      <td>friends</td>\n",
       "      <td>any</td>\n",
       "      <td>3</td>\n",
       "      <td>1</td>\n",
       "      <td>1.0</td>\n",
       "      <td>878887116</td>\n",
       "      <td>0</td>\n",
       "      <td>0</td>\n",
       "      <td>1</td>\n",
       "      <td>0</td>\n",
       "    </tr>\n",
       "    <tr>\n",
       "      <td>3</td>\n",
       "      <td>Sirpur Heritage Site</td>\n",
       "      <td>bank of holy Mahanadi river</td>\n",
       "      <td>chhattisgarh</td>\n",
       "      <td>5.0</td>\n",
       "      <td>0</td>\n",
       "      <td>winter</td>\n",
       "      <td>Yes</td>\n",
       "      <td>family</td>\n",
       "      <td>hindu</td>\n",
       "      <td>4</td>\n",
       "      <td>1</td>\n",
       "      <td>0.0</td>\n",
       "      <td>880606923</td>\n",
       "      <td>0</td>\n",
       "      <td>1</td>\n",
       "      <td>0</td>\n",
       "      <td>0</td>\n",
       "    </tr>\n",
       "    <tr>\n",
       "      <td>4</td>\n",
       "      <td>Rajeev Smriti Van</td>\n",
       "      <td>Raipur</td>\n",
       "      <td>chhattisgarh</td>\n",
       "      <td>3.9</td>\n",
       "      <td>0</td>\n",
       "      <td>any</td>\n",
       "      <td>Yes</td>\n",
       "      <td>solo</td>\n",
       "      <td>any</td>\n",
       "      <td>5</td>\n",
       "      <td>1</td>\n",
       "      <td>1.0</td>\n",
       "      <td>886397596</td>\n",
       "      <td>0</td>\n",
       "      <td>0</td>\n",
       "      <td>0</td>\n",
       "      <td>1</td>\n",
       "    </tr>\n",
       "  </tbody>\n",
       "</table>\n",
       "</div>"
      ],
      "text/plain": [
       "               location                          place          state  \\\n",
       "0      Bhoramdeo Temple  Chaura village, Kawardha town   chhattisgarh   \n",
       "1           maitri bagh         Near to Maroda, Bhilai   chhattisgarh   \n",
       "2      Tirathgarh Falls                Bastar district   chhattisgarh   \n",
       "3  Sirpur Heritage Site    bank of holy Mahanadi river   chhattisgarh   \n",
       "4     Rajeev Smriti Van                         Raipur   chhattisgarh   \n",
       "\n",
       "   location_rating  age  season affordable types_of_travel religion  item_id  \\\n",
       "0              4.0    0  winter        Yes          family    hindu        1   \n",
       "1              4.0   20     any        Yes         friends      any        2   \n",
       "2              4.6   25   rainy        Yes         friends      any        3   \n",
       "3              5.0    0  winter        Yes          family    hindu        4   \n",
       "4              3.9    0     any        Yes            solo      any        5   \n",
       "\n",
       "   user_id  user_rating  timestamp  travel_type_any  travel_type_family  \\\n",
       "0        1          0.0  881250949                0                   1   \n",
       "1        1          3.0  891717742                0                   0   \n",
       "2        1          1.0  878887116                0                   0   \n",
       "3        1          0.0  880606923                0                   1   \n",
       "4        1          1.0  886397596                0                   0   \n",
       "\n",
       "   travel_type_friends  travel_type_solo  \n",
       "0                    0                 0  \n",
       "1                    1                 0  \n",
       "2                    1                 0  \n",
       "3                    0                 0  \n",
       "4                    0                 1  "
      ]
     },
     "execution_count": 107,
     "metadata": {},
     "output_type": "execute_result"
    }
   ],
   "source": [
    "df['season'].apply(lambda x: x.strip())\n",
    "df['season'].replace(to_replace='monsoon',value='rainy',inplace=True)\n",
    "df.head()\n"
   ]
  },
  {
   "cell_type": "code",
   "execution_count": 108,
   "metadata": {},
   "outputs": [
    {
     "data": {
      "text/html": [
       "<div>\n",
       "<style scoped>\n",
       "    .dataframe tbody tr th:only-of-type {\n",
       "        vertical-align: middle;\n",
       "    }\n",
       "\n",
       "    .dataframe tbody tr th {\n",
       "        vertical-align: top;\n",
       "    }\n",
       "\n",
       "    .dataframe thead th {\n",
       "        text-align: right;\n",
       "    }\n",
       "</style>\n",
       "<table border=\"1\" class=\"dataframe\">\n",
       "  <thead>\n",
       "    <tr style=\"text-align: right;\">\n",
       "      <th></th>\n",
       "      <th>location</th>\n",
       "      <th>place</th>\n",
       "      <th>state</th>\n",
       "      <th>location_rating</th>\n",
       "      <th>age</th>\n",
       "      <th>season</th>\n",
       "      <th>affordable</th>\n",
       "      <th>types_of_travel</th>\n",
       "      <th>religion</th>\n",
       "      <th>item_id</th>\n",
       "      <th>user_id</th>\n",
       "      <th>user_rating</th>\n",
       "      <th>timestamp</th>\n",
       "      <th>travel_type_any</th>\n",
       "      <th>travel_type_family</th>\n",
       "      <th>travel_type_friends</th>\n",
       "      <th>travel_type_solo</th>\n",
       "    </tr>\n",
       "  </thead>\n",
       "  <tbody>\n",
       "    <tr>\n",
       "      <td>0</td>\n",
       "      <td>Bhoramdeo Temple</td>\n",
       "      <td>Chaura village, Kawardha town</td>\n",
       "      <td>chhattisgarh</td>\n",
       "      <td>4.0</td>\n",
       "      <td>0</td>\n",
       "      <td>winter</td>\n",
       "      <td>Yes</td>\n",
       "      <td>family</td>\n",
       "      <td>hindu</td>\n",
       "      <td>1</td>\n",
       "      <td>1</td>\n",
       "      <td>0.0</td>\n",
       "      <td>881250949</td>\n",
       "      <td>0</td>\n",
       "      <td>1</td>\n",
       "      <td>0</td>\n",
       "      <td>0</td>\n",
       "    </tr>\n",
       "    <tr>\n",
       "      <td>1</td>\n",
       "      <td>maitri bagh</td>\n",
       "      <td>Near to Maroda, Bhilai</td>\n",
       "      <td>chhattisgarh</td>\n",
       "      <td>4.0</td>\n",
       "      <td>20</td>\n",
       "      <td>any</td>\n",
       "      <td>Yes</td>\n",
       "      <td>friends</td>\n",
       "      <td>any</td>\n",
       "      <td>2</td>\n",
       "      <td>1</td>\n",
       "      <td>3.0</td>\n",
       "      <td>891717742</td>\n",
       "      <td>0</td>\n",
       "      <td>0</td>\n",
       "      <td>1</td>\n",
       "      <td>0</td>\n",
       "    </tr>\n",
       "    <tr>\n",
       "      <td>2</td>\n",
       "      <td>Tirathgarh Falls</td>\n",
       "      <td>Bastar district</td>\n",
       "      <td>chhattisgarh</td>\n",
       "      <td>4.6</td>\n",
       "      <td>25</td>\n",
       "      <td>rainy</td>\n",
       "      <td>Yes</td>\n",
       "      <td>friends</td>\n",
       "      <td>any</td>\n",
       "      <td>3</td>\n",
       "      <td>1</td>\n",
       "      <td>1.0</td>\n",
       "      <td>878887116</td>\n",
       "      <td>0</td>\n",
       "      <td>0</td>\n",
       "      <td>1</td>\n",
       "      <td>0</td>\n",
       "    </tr>\n",
       "    <tr>\n",
       "      <td>3</td>\n",
       "      <td>Sirpur Heritage Site</td>\n",
       "      <td>bank of holy Mahanadi river</td>\n",
       "      <td>chhattisgarh</td>\n",
       "      <td>5.0</td>\n",
       "      <td>0</td>\n",
       "      <td>winter</td>\n",
       "      <td>Yes</td>\n",
       "      <td>family</td>\n",
       "      <td>hindu</td>\n",
       "      <td>4</td>\n",
       "      <td>1</td>\n",
       "      <td>0.0</td>\n",
       "      <td>880606923</td>\n",
       "      <td>0</td>\n",
       "      <td>1</td>\n",
       "      <td>0</td>\n",
       "      <td>0</td>\n",
       "    </tr>\n",
       "    <tr>\n",
       "      <td>4</td>\n",
       "      <td>Rajeev Smriti Van</td>\n",
       "      <td>Raipur</td>\n",
       "      <td>chhattisgarh</td>\n",
       "      <td>3.9</td>\n",
       "      <td>0</td>\n",
       "      <td>any</td>\n",
       "      <td>Yes</td>\n",
       "      <td>solo</td>\n",
       "      <td>any</td>\n",
       "      <td>5</td>\n",
       "      <td>1</td>\n",
       "      <td>1.0</td>\n",
       "      <td>886397596</td>\n",
       "      <td>0</td>\n",
       "      <td>0</td>\n",
       "      <td>0</td>\n",
       "      <td>1</td>\n",
       "    </tr>\n",
       "    <tr>\n",
       "      <td>...</td>\n",
       "      <td>...</td>\n",
       "      <td>...</td>\n",
       "      <td>...</td>\n",
       "      <td>...</td>\n",
       "      <td>...</td>\n",
       "      <td>...</td>\n",
       "      <td>...</td>\n",
       "      <td>...</td>\n",
       "      <td>...</td>\n",
       "      <td>...</td>\n",
       "      <td>...</td>\n",
       "      <td>...</td>\n",
       "      <td>...</td>\n",
       "      <td>...</td>\n",
       "      <td>...</td>\n",
       "      <td>...</td>\n",
       "      <td>...</td>\n",
       "    </tr>\n",
       "    <tr>\n",
       "      <td>337</td>\n",
       "      <td>pelling</td>\n",
       "      <td>pelling</td>\n",
       "      <td>sikkim</td>\n",
       "      <td>4.5</td>\n",
       "      <td>0</td>\n",
       "      <td>winter</td>\n",
       "      <td>yes</td>\n",
       "      <td>any</td>\n",
       "      <td>hindu,sikh</td>\n",
       "      <td>338</td>\n",
       "      <td>11</td>\n",
       "      <td>3.0</td>\n",
       "      <td>886434402</td>\n",
       "      <td>1</td>\n",
       "      <td>0</td>\n",
       "      <td>0</td>\n",
       "      <td>0</td>\n",
       "    </tr>\n",
       "    <tr>\n",
       "      <td>338</td>\n",
       "      <td>zuluk</td>\n",
       "      <td>zuluk</td>\n",
       "      <td>sikkkim</td>\n",
       "      <td>3.5</td>\n",
       "      <td>30</td>\n",
       "      <td>winter</td>\n",
       "      <td>yes</td>\n",
       "      <td>friends</td>\n",
       "      <td>hindu</td>\n",
       "      <td>339</td>\n",
       "      <td>11</td>\n",
       "      <td>5.0</td>\n",
       "      <td>879876734</td>\n",
       "      <td>0</td>\n",
       "      <td>0</td>\n",
       "      <td>1</td>\n",
       "      <td>0</td>\n",
       "    </tr>\n",
       "    <tr>\n",
       "      <td>339</td>\n",
       "      <td>teesta river</td>\n",
       "      <td>teesta river</td>\n",
       "      <td>sikkim</td>\n",
       "      <td>4.0</td>\n",
       "      <td>30</td>\n",
       "      <td>any</td>\n",
       "      <td>yes</td>\n",
       "      <td>friends</td>\n",
       "      <td>any</td>\n",
       "      <td>340</td>\n",
       "      <td>11</td>\n",
       "      <td>0.0</td>\n",
       "      <td>879551380</td>\n",
       "      <td>0</td>\n",
       "      <td>0</td>\n",
       "      <td>1</td>\n",
       "      <td>0</td>\n",
       "    </tr>\n",
       "    <tr>\n",
       "      <td>340</td>\n",
       "      <td>gurudongmar lake</td>\n",
       "      <td>gurudongmar lake</td>\n",
       "      <td>sikkim</td>\n",
       "      <td>4.0</td>\n",
       "      <td>30</td>\n",
       "      <td>any</td>\n",
       "      <td>yes</td>\n",
       "      <td>any</td>\n",
       "      <td>any</td>\n",
       "      <td>341</td>\n",
       "      <td>11</td>\n",
       "      <td>5.0</td>\n",
       "      <td>884714402</td>\n",
       "      <td>1</td>\n",
       "      <td>0</td>\n",
       "      <td>0</td>\n",
       "      <td>0</td>\n",
       "    </tr>\n",
       "    <tr>\n",
       "      <td>341</td>\n",
       "      <td>goechala</td>\n",
       "      <td>goechala</td>\n",
       "      <td>sikkim</td>\n",
       "      <td>3.5</td>\n",
       "      <td>30</td>\n",
       "      <td>any</td>\n",
       "      <td>yes</td>\n",
       "      <td>solo</td>\n",
       "      <td>any</td>\n",
       "      <td>342</td>\n",
       "      <td>11</td>\n",
       "      <td>0.0</td>\n",
       "      <td>882139746</td>\n",
       "      <td>0</td>\n",
       "      <td>0</td>\n",
       "      <td>0</td>\n",
       "      <td>1</td>\n",
       "    </tr>\n",
       "  </tbody>\n",
       "</table>\n",
       "<p>340 rows × 17 columns</p>\n",
       "</div>"
      ],
      "text/plain": [
       "                 location                          place          state  \\\n",
       "0        Bhoramdeo Temple  Chaura village, Kawardha town   chhattisgarh   \n",
       "1             maitri bagh         Near to Maroda, Bhilai   chhattisgarh   \n",
       "2        Tirathgarh Falls                Bastar district   chhattisgarh   \n",
       "3    Sirpur Heritage Site    bank of holy Mahanadi river   chhattisgarh   \n",
       "4       Rajeev Smriti Van                         Raipur   chhattisgarh   \n",
       "..                    ...                            ...            ...   \n",
       "337               pelling                        pelling         sikkim   \n",
       "338                 zuluk                          zuluk        sikkkim   \n",
       "339          teesta river                   teesta river         sikkim   \n",
       "340      gurudongmar lake               gurudongmar lake         sikkim   \n",
       "341              goechala                       goechala         sikkim   \n",
       "\n",
       "     location_rating  age  season affordable types_of_travel    religion  \\\n",
       "0                4.0    0  winter        Yes          family       hindu   \n",
       "1                4.0   20     any        Yes         friends         any   \n",
       "2                4.6   25   rainy        Yes         friends         any   \n",
       "3                5.0    0  winter        Yes          family       hindu   \n",
       "4                3.9    0     any        Yes            solo         any   \n",
       "..               ...  ...     ...        ...             ...         ...   \n",
       "337              4.5    0  winter        yes             any  hindu,sikh   \n",
       "338              3.5   30  winter        yes         friends       hindu   \n",
       "339              4.0   30     any        yes         friends         any   \n",
       "340              4.0   30     any        yes             any         any   \n",
       "341              3.5   30     any        yes            solo         any   \n",
       "\n",
       "     item_id  user_id  user_rating  timestamp  travel_type_any  \\\n",
       "0          1        1          0.0  881250949                0   \n",
       "1          2        1          3.0  891717742                0   \n",
       "2          3        1          1.0  878887116                0   \n",
       "3          4        1          0.0  880606923                0   \n",
       "4          5        1          1.0  886397596                0   \n",
       "..       ...      ...          ...        ...              ...   \n",
       "337      338       11          3.0  886434402                1   \n",
       "338      339       11          5.0  879876734                0   \n",
       "339      340       11          0.0  879551380                0   \n",
       "340      341       11          5.0  884714402                1   \n",
       "341      342       11          0.0  882139746                0   \n",
       "\n",
       "     travel_type_family  travel_type_friends  travel_type_solo  \n",
       "0                     1                    0                 0  \n",
       "1                     0                    1                 0  \n",
       "2                     0                    1                 0  \n",
       "3                     1                    0                 0  \n",
       "4                     0                    0                 1  \n",
       "..                  ...                  ...               ...  \n",
       "337                   0                    0                 0  \n",
       "338                   0                    1                 0  \n",
       "339                   0                    1                 0  \n",
       "340                   0                    0                 0  \n",
       "341                   0                    0                 1  \n",
       "\n",
       "[340 rows x 17 columns]"
      ]
     },
     "execution_count": 108,
     "metadata": {},
     "output_type": "execute_result"
    }
   ],
   "source": [
    "df"
   ]
  },
  {
   "cell_type": "code",
   "execution_count": 109,
   "metadata": {},
   "outputs": [
    {
     "data": {
      "text/plain": [
       "array(['hindu', 'any', 'christian', 'musilm', 'chritian', 'hindus',\n",
       "       'jain', 'religious ', 'buddhism ', 'muslim', 'buddists',\n",
       "       'buddhists', 'sikhs', 'jains'], dtype=object)"
      ]
     },
     "execution_count": 109,
     "metadata": {},
     "output_type": "execute_result"
    }
   ],
   "source": [
    "df['religion']=comma(df['religion'])\n",
    "df['religion'].unique()"
   ]
  },
  {
   "cell_type": "code",
   "execution_count": 110,
   "metadata": {},
   "outputs": [
    {
     "data": {
      "text/plain": [
       "array(['hindu', 'any', 'christian', 'muslim', 'chritian', 'hindus',\n",
       "       'jain', 'religious ', 'buddhism ', 'buddists', 'buddhists',\n",
       "       'sikhs', 'jains'], dtype=object)"
      ]
     },
     "execution_count": 110,
     "metadata": {},
     "output_type": "execute_result"
    }
   ],
   "source": [
    "df['religion'].replace(to_replace=[x for x in df['religion'] if x.startswith('m')] , value='muslim',inplace=True)\n",
    "df['religion'].unique()"
   ]
  },
  {
   "cell_type": "code",
   "execution_count": 111,
   "metadata": {},
   "outputs": [],
   "source": [
    "def repl(y):\n",
    "    lis=[]\n",
    "    for x in y:\n",
    "        if x.startswith('m') :\n",
    "            x='muslim'\n",
    "        elif x.startswith('b'):\n",
    "            x='buddist'\n",
    "        elif x.startswith('h'):\n",
    "            x='hindus'\n",
    "        elif x.startswith('r'):\n",
    "            x='any'\n",
    "        elif x.startswith('j'):\n",
    "            x='jain'\n",
    "        elif x.startswith('c'):\n",
    "            x='christian'\n",
    "        lis.append(x)  \n",
    "    return lis    "
   ]
  },
  {
   "cell_type": "code",
   "execution_count": 112,
   "metadata": {},
   "outputs": [
    {
     "data": {
      "text/plain": [
       "0      hindu\n",
       "1        any\n",
       "2        any\n",
       "3      hindu\n",
       "4        any\n",
       "       ...  \n",
       "337      any\n",
       "338    hindu\n",
       "339      any\n",
       "340      any\n",
       "341      any\n",
       "Name: religion, Length: 340, dtype: object"
      ]
     },
     "execution_count": 112,
     "metadata": {},
     "output_type": "execute_result"
    }
   ],
   "source": [
    "df['religion']"
   ]
  },
  {
   "cell_type": "code",
   "execution_count": 113,
   "metadata": {},
   "outputs": [
    {
     "data": {
      "text/html": [
       "<div>\n",
       "<style scoped>\n",
       "    .dataframe tbody tr th:only-of-type {\n",
       "        vertical-align: middle;\n",
       "    }\n",
       "\n",
       "    .dataframe tbody tr th {\n",
       "        vertical-align: top;\n",
       "    }\n",
       "\n",
       "    .dataframe thead th {\n",
       "        text-align: right;\n",
       "    }\n",
       "</style>\n",
       "<table border=\"1\" class=\"dataframe\">\n",
       "  <thead>\n",
       "    <tr style=\"text-align: right;\">\n",
       "      <th></th>\n",
       "      <th>religion_any</th>\n",
       "      <th>religion_buddhism</th>\n",
       "      <th>religion_buddhists</th>\n",
       "      <th>religion_buddists</th>\n",
       "      <th>religion_christian</th>\n",
       "      <th>religion_chritian</th>\n",
       "      <th>religion_hindu</th>\n",
       "      <th>religion_hindus</th>\n",
       "      <th>religion_jain</th>\n",
       "      <th>religion_jains</th>\n",
       "      <th>religion_muslim</th>\n",
       "      <th>religion_religious</th>\n",
       "      <th>religion_sikhs</th>\n",
       "    </tr>\n",
       "  </thead>\n",
       "  <tbody>\n",
       "    <tr>\n",
       "      <td>0</td>\n",
       "      <td>0</td>\n",
       "      <td>0</td>\n",
       "      <td>0</td>\n",
       "      <td>0</td>\n",
       "      <td>0</td>\n",
       "      <td>0</td>\n",
       "      <td>1</td>\n",
       "      <td>0</td>\n",
       "      <td>0</td>\n",
       "      <td>0</td>\n",
       "      <td>0</td>\n",
       "      <td>0</td>\n",
       "      <td>0</td>\n",
       "    </tr>\n",
       "    <tr>\n",
       "      <td>1</td>\n",
       "      <td>1</td>\n",
       "      <td>0</td>\n",
       "      <td>0</td>\n",
       "      <td>0</td>\n",
       "      <td>0</td>\n",
       "      <td>0</td>\n",
       "      <td>0</td>\n",
       "      <td>0</td>\n",
       "      <td>0</td>\n",
       "      <td>0</td>\n",
       "      <td>0</td>\n",
       "      <td>0</td>\n",
       "      <td>0</td>\n",
       "    </tr>\n",
       "    <tr>\n",
       "      <td>2</td>\n",
       "      <td>1</td>\n",
       "      <td>0</td>\n",
       "      <td>0</td>\n",
       "      <td>0</td>\n",
       "      <td>0</td>\n",
       "      <td>0</td>\n",
       "      <td>0</td>\n",
       "      <td>0</td>\n",
       "      <td>0</td>\n",
       "      <td>0</td>\n",
       "      <td>0</td>\n",
       "      <td>0</td>\n",
       "      <td>0</td>\n",
       "    </tr>\n",
       "    <tr>\n",
       "      <td>3</td>\n",
       "      <td>0</td>\n",
       "      <td>0</td>\n",
       "      <td>0</td>\n",
       "      <td>0</td>\n",
       "      <td>0</td>\n",
       "      <td>0</td>\n",
       "      <td>1</td>\n",
       "      <td>0</td>\n",
       "      <td>0</td>\n",
       "      <td>0</td>\n",
       "      <td>0</td>\n",
       "      <td>0</td>\n",
       "      <td>0</td>\n",
       "    </tr>\n",
       "    <tr>\n",
       "      <td>4</td>\n",
       "      <td>1</td>\n",
       "      <td>0</td>\n",
       "      <td>0</td>\n",
       "      <td>0</td>\n",
       "      <td>0</td>\n",
       "      <td>0</td>\n",
       "      <td>0</td>\n",
       "      <td>0</td>\n",
       "      <td>0</td>\n",
       "      <td>0</td>\n",
       "      <td>0</td>\n",
       "      <td>0</td>\n",
       "      <td>0</td>\n",
       "    </tr>\n",
       "  </tbody>\n",
       "</table>\n",
       "</div>"
      ],
      "text/plain": [
       "   religion_any  religion_buddhism   religion_buddhists  religion_buddists  \\\n",
       "0             0                   0                   0                  0   \n",
       "1             1                   0                   0                  0   \n",
       "2             1                   0                   0                  0   \n",
       "3             0                   0                   0                  0   \n",
       "4             1                   0                   0                  0   \n",
       "\n",
       "   religion_christian  religion_chritian  religion_hindu  religion_hindus  \\\n",
       "0                   0                  0               1                0   \n",
       "1                   0                  0               0                0   \n",
       "2                   0                  0               0                0   \n",
       "3                   0                  0               1                0   \n",
       "4                   0                  0               0                0   \n",
       "\n",
       "   religion_jain  religion_jains  religion_muslim  religion_religious   \\\n",
       "0              0               0                0                    0   \n",
       "1              0               0                0                    0   \n",
       "2              0               0                0                    0   \n",
       "3              0               0                0                    0   \n",
       "4              0               0                0                    0   \n",
       "\n",
       "   religion_sikhs  \n",
       "0               0  \n",
       "1               0  \n",
       "2               0  \n",
       "3               0  \n",
       "4               0  "
      ]
     },
     "execution_count": 113,
     "metadata": {},
     "output_type": "execute_result"
    }
   ],
   "source": [
    "religion=pd.get_dummies(df['religion'],prefix='religion')\n",
    "religion.head()"
   ]
  },
  {
   "cell_type": "code",
   "execution_count": 114,
   "metadata": {},
   "outputs": [],
   "source": [
    "df['religion']=repl(df['religion'])"
   ]
  },
  {
   "cell_type": "code",
   "execution_count": 115,
   "metadata": {},
   "outputs": [
    {
     "data": {
      "text/plain": [
       "array(['hindus', 'any', 'christian', 'muslim', 'jain', 'buddist', 'sikhs'],\n",
       "      dtype=object)"
      ]
     },
     "execution_count": 115,
     "metadata": {},
     "output_type": "execute_result"
    }
   ],
   "source": [
    "df['religion'].unique()"
   ]
  },
  {
   "cell_type": "code",
   "execution_count": 116,
   "metadata": {},
   "outputs": [
    {
     "data": {
      "text/html": [
       "<div>\n",
       "<style scoped>\n",
       "    .dataframe tbody tr th:only-of-type {\n",
       "        vertical-align: middle;\n",
       "    }\n",
       "\n",
       "    .dataframe tbody tr th {\n",
       "        vertical-align: top;\n",
       "    }\n",
       "\n",
       "    .dataframe thead th {\n",
       "        text-align: right;\n",
       "    }\n",
       "</style>\n",
       "<table border=\"1\" class=\"dataframe\">\n",
       "  <thead>\n",
       "    <tr style=\"text-align: right;\">\n",
       "      <th></th>\n",
       "      <th>religion_any</th>\n",
       "      <th>religion_buddist</th>\n",
       "      <th>religion_christian</th>\n",
       "      <th>religion_hindus</th>\n",
       "      <th>religion_jain</th>\n",
       "      <th>religion_muslim</th>\n",
       "      <th>religion_sikhs</th>\n",
       "    </tr>\n",
       "  </thead>\n",
       "  <tbody>\n",
       "    <tr>\n",
       "      <td>0</td>\n",
       "      <td>0</td>\n",
       "      <td>0</td>\n",
       "      <td>0</td>\n",
       "      <td>1</td>\n",
       "      <td>0</td>\n",
       "      <td>0</td>\n",
       "      <td>0</td>\n",
       "    </tr>\n",
       "    <tr>\n",
       "      <td>1</td>\n",
       "      <td>1</td>\n",
       "      <td>0</td>\n",
       "      <td>0</td>\n",
       "      <td>0</td>\n",
       "      <td>0</td>\n",
       "      <td>0</td>\n",
       "      <td>0</td>\n",
       "    </tr>\n",
       "    <tr>\n",
       "      <td>2</td>\n",
       "      <td>1</td>\n",
       "      <td>0</td>\n",
       "      <td>0</td>\n",
       "      <td>0</td>\n",
       "      <td>0</td>\n",
       "      <td>0</td>\n",
       "      <td>0</td>\n",
       "    </tr>\n",
       "    <tr>\n",
       "      <td>3</td>\n",
       "      <td>0</td>\n",
       "      <td>0</td>\n",
       "      <td>0</td>\n",
       "      <td>1</td>\n",
       "      <td>0</td>\n",
       "      <td>0</td>\n",
       "      <td>0</td>\n",
       "    </tr>\n",
       "    <tr>\n",
       "      <td>4</td>\n",
       "      <td>1</td>\n",
       "      <td>0</td>\n",
       "      <td>0</td>\n",
       "      <td>0</td>\n",
       "      <td>0</td>\n",
       "      <td>0</td>\n",
       "      <td>0</td>\n",
       "    </tr>\n",
       "  </tbody>\n",
       "</table>\n",
       "</div>"
      ],
      "text/plain": [
       "   religion_any  religion_buddist  religion_christian  religion_hindus  \\\n",
       "0             0                 0                   0                1   \n",
       "1             1                 0                   0                0   \n",
       "2             1                 0                   0                0   \n",
       "3             0                 0                   0                1   \n",
       "4             1                 0                   0                0   \n",
       "\n",
       "   religion_jain  religion_muslim  religion_sikhs  \n",
       "0              0                0               0  \n",
       "1              0                0               0  \n",
       "2              0                0               0  \n",
       "3              0                0               0  \n",
       "4              0                0               0  "
      ]
     },
     "execution_count": 116,
     "metadata": {},
     "output_type": "execute_result"
    }
   ],
   "source": [
    "religion=pd.get_dummies(df['religion'],prefix='religion')\n",
    "religion.head()"
   ]
  },
  {
   "cell_type": "code",
   "execution_count": 117,
   "metadata": {
    "scrolled": true
   },
   "outputs": [
    {
     "data": {
      "text/html": [
       "<div>\n",
       "<style scoped>\n",
       "    .dataframe tbody tr th:only-of-type {\n",
       "        vertical-align: middle;\n",
       "    }\n",
       "\n",
       "    .dataframe tbody tr th {\n",
       "        vertical-align: top;\n",
       "    }\n",
       "\n",
       "    .dataframe thead th {\n",
       "        text-align: right;\n",
       "    }\n",
       "</style>\n",
       "<table border=\"1\" class=\"dataframe\">\n",
       "  <thead>\n",
       "    <tr style=\"text-align: right;\">\n",
       "      <th></th>\n",
       "      <th>location</th>\n",
       "      <th>place</th>\n",
       "      <th>state</th>\n",
       "      <th>location_rating</th>\n",
       "      <th>age</th>\n",
       "      <th>season</th>\n",
       "      <th>affordable</th>\n",
       "      <th>types_of_travel</th>\n",
       "      <th>religion</th>\n",
       "      <th>item_id</th>\n",
       "      <th>...</th>\n",
       "      <th>travel_type_family</th>\n",
       "      <th>travel_type_friends</th>\n",
       "      <th>travel_type_solo</th>\n",
       "      <th>religion_any</th>\n",
       "      <th>religion_buddist</th>\n",
       "      <th>religion_christian</th>\n",
       "      <th>religion_hindus</th>\n",
       "      <th>religion_jain</th>\n",
       "      <th>religion_muslim</th>\n",
       "      <th>religion_sikhs</th>\n",
       "    </tr>\n",
       "  </thead>\n",
       "  <tbody>\n",
       "    <tr>\n",
       "      <td>0</td>\n",
       "      <td>Bhoramdeo Temple</td>\n",
       "      <td>Chaura village, Kawardha town</td>\n",
       "      <td>chhattisgarh</td>\n",
       "      <td>4.0</td>\n",
       "      <td>0</td>\n",
       "      <td>winter</td>\n",
       "      <td>Yes</td>\n",
       "      <td>family</td>\n",
       "      <td>hindus</td>\n",
       "      <td>1</td>\n",
       "      <td>...</td>\n",
       "      <td>1</td>\n",
       "      <td>0</td>\n",
       "      <td>0</td>\n",
       "      <td>0</td>\n",
       "      <td>0</td>\n",
       "      <td>0</td>\n",
       "      <td>1</td>\n",
       "      <td>0</td>\n",
       "      <td>0</td>\n",
       "      <td>0</td>\n",
       "    </tr>\n",
       "    <tr>\n",
       "      <td>1</td>\n",
       "      <td>maitri bagh</td>\n",
       "      <td>Near to Maroda, Bhilai</td>\n",
       "      <td>chhattisgarh</td>\n",
       "      <td>4.0</td>\n",
       "      <td>20</td>\n",
       "      <td>any</td>\n",
       "      <td>Yes</td>\n",
       "      <td>friends</td>\n",
       "      <td>any</td>\n",
       "      <td>2</td>\n",
       "      <td>...</td>\n",
       "      <td>0</td>\n",
       "      <td>1</td>\n",
       "      <td>0</td>\n",
       "      <td>1</td>\n",
       "      <td>0</td>\n",
       "      <td>0</td>\n",
       "      <td>0</td>\n",
       "      <td>0</td>\n",
       "      <td>0</td>\n",
       "      <td>0</td>\n",
       "    </tr>\n",
       "    <tr>\n",
       "      <td>2</td>\n",
       "      <td>Tirathgarh Falls</td>\n",
       "      <td>Bastar district</td>\n",
       "      <td>chhattisgarh</td>\n",
       "      <td>4.6</td>\n",
       "      <td>25</td>\n",
       "      <td>rainy</td>\n",
       "      <td>Yes</td>\n",
       "      <td>friends</td>\n",
       "      <td>any</td>\n",
       "      <td>3</td>\n",
       "      <td>...</td>\n",
       "      <td>0</td>\n",
       "      <td>1</td>\n",
       "      <td>0</td>\n",
       "      <td>1</td>\n",
       "      <td>0</td>\n",
       "      <td>0</td>\n",
       "      <td>0</td>\n",
       "      <td>0</td>\n",
       "      <td>0</td>\n",
       "      <td>0</td>\n",
       "    </tr>\n",
       "    <tr>\n",
       "      <td>3</td>\n",
       "      <td>Sirpur Heritage Site</td>\n",
       "      <td>bank of holy Mahanadi river</td>\n",
       "      <td>chhattisgarh</td>\n",
       "      <td>5.0</td>\n",
       "      <td>0</td>\n",
       "      <td>winter</td>\n",
       "      <td>Yes</td>\n",
       "      <td>family</td>\n",
       "      <td>hindus</td>\n",
       "      <td>4</td>\n",
       "      <td>...</td>\n",
       "      <td>1</td>\n",
       "      <td>0</td>\n",
       "      <td>0</td>\n",
       "      <td>0</td>\n",
       "      <td>0</td>\n",
       "      <td>0</td>\n",
       "      <td>1</td>\n",
       "      <td>0</td>\n",
       "      <td>0</td>\n",
       "      <td>0</td>\n",
       "    </tr>\n",
       "    <tr>\n",
       "      <td>4</td>\n",
       "      <td>Rajeev Smriti Van</td>\n",
       "      <td>Raipur</td>\n",
       "      <td>chhattisgarh</td>\n",
       "      <td>3.9</td>\n",
       "      <td>0</td>\n",
       "      <td>any</td>\n",
       "      <td>Yes</td>\n",
       "      <td>solo</td>\n",
       "      <td>any</td>\n",
       "      <td>5</td>\n",
       "      <td>...</td>\n",
       "      <td>0</td>\n",
       "      <td>0</td>\n",
       "      <td>1</td>\n",
       "      <td>1</td>\n",
       "      <td>0</td>\n",
       "      <td>0</td>\n",
       "      <td>0</td>\n",
       "      <td>0</td>\n",
       "      <td>0</td>\n",
       "      <td>0</td>\n",
       "    </tr>\n",
       "    <tr>\n",
       "      <td>...</td>\n",
       "      <td>...</td>\n",
       "      <td>...</td>\n",
       "      <td>...</td>\n",
       "      <td>...</td>\n",
       "      <td>...</td>\n",
       "      <td>...</td>\n",
       "      <td>...</td>\n",
       "      <td>...</td>\n",
       "      <td>...</td>\n",
       "      <td>...</td>\n",
       "      <td>...</td>\n",
       "      <td>...</td>\n",
       "      <td>...</td>\n",
       "      <td>...</td>\n",
       "      <td>...</td>\n",
       "      <td>...</td>\n",
       "      <td>...</td>\n",
       "      <td>...</td>\n",
       "      <td>...</td>\n",
       "      <td>...</td>\n",
       "      <td>...</td>\n",
       "    </tr>\n",
       "    <tr>\n",
       "      <td>337</td>\n",
       "      <td>pelling</td>\n",
       "      <td>pelling</td>\n",
       "      <td>sikkim</td>\n",
       "      <td>4.5</td>\n",
       "      <td>0</td>\n",
       "      <td>winter</td>\n",
       "      <td>yes</td>\n",
       "      <td>any</td>\n",
       "      <td>any</td>\n",
       "      <td>338</td>\n",
       "      <td>...</td>\n",
       "      <td>0</td>\n",
       "      <td>0</td>\n",
       "      <td>0</td>\n",
       "      <td>1</td>\n",
       "      <td>0</td>\n",
       "      <td>0</td>\n",
       "      <td>0</td>\n",
       "      <td>0</td>\n",
       "      <td>0</td>\n",
       "      <td>0</td>\n",
       "    </tr>\n",
       "    <tr>\n",
       "      <td>338</td>\n",
       "      <td>zuluk</td>\n",
       "      <td>zuluk</td>\n",
       "      <td>sikkkim</td>\n",
       "      <td>3.5</td>\n",
       "      <td>30</td>\n",
       "      <td>winter</td>\n",
       "      <td>yes</td>\n",
       "      <td>friends</td>\n",
       "      <td>hindus</td>\n",
       "      <td>339</td>\n",
       "      <td>...</td>\n",
       "      <td>0</td>\n",
       "      <td>1</td>\n",
       "      <td>0</td>\n",
       "      <td>0</td>\n",
       "      <td>0</td>\n",
       "      <td>0</td>\n",
       "      <td>1</td>\n",
       "      <td>0</td>\n",
       "      <td>0</td>\n",
       "      <td>0</td>\n",
       "    </tr>\n",
       "    <tr>\n",
       "      <td>339</td>\n",
       "      <td>teesta river</td>\n",
       "      <td>teesta river</td>\n",
       "      <td>sikkim</td>\n",
       "      <td>4.0</td>\n",
       "      <td>30</td>\n",
       "      <td>any</td>\n",
       "      <td>yes</td>\n",
       "      <td>friends</td>\n",
       "      <td>any</td>\n",
       "      <td>340</td>\n",
       "      <td>...</td>\n",
       "      <td>0</td>\n",
       "      <td>1</td>\n",
       "      <td>0</td>\n",
       "      <td>1</td>\n",
       "      <td>0</td>\n",
       "      <td>0</td>\n",
       "      <td>0</td>\n",
       "      <td>0</td>\n",
       "      <td>0</td>\n",
       "      <td>0</td>\n",
       "    </tr>\n",
       "    <tr>\n",
       "      <td>340</td>\n",
       "      <td>gurudongmar lake</td>\n",
       "      <td>gurudongmar lake</td>\n",
       "      <td>sikkim</td>\n",
       "      <td>4.0</td>\n",
       "      <td>30</td>\n",
       "      <td>any</td>\n",
       "      <td>yes</td>\n",
       "      <td>any</td>\n",
       "      <td>any</td>\n",
       "      <td>341</td>\n",
       "      <td>...</td>\n",
       "      <td>0</td>\n",
       "      <td>0</td>\n",
       "      <td>0</td>\n",
       "      <td>1</td>\n",
       "      <td>0</td>\n",
       "      <td>0</td>\n",
       "      <td>0</td>\n",
       "      <td>0</td>\n",
       "      <td>0</td>\n",
       "      <td>0</td>\n",
       "    </tr>\n",
       "    <tr>\n",
       "      <td>341</td>\n",
       "      <td>goechala</td>\n",
       "      <td>goechala</td>\n",
       "      <td>sikkim</td>\n",
       "      <td>3.5</td>\n",
       "      <td>30</td>\n",
       "      <td>any</td>\n",
       "      <td>yes</td>\n",
       "      <td>solo</td>\n",
       "      <td>any</td>\n",
       "      <td>342</td>\n",
       "      <td>...</td>\n",
       "      <td>0</td>\n",
       "      <td>0</td>\n",
       "      <td>1</td>\n",
       "      <td>1</td>\n",
       "      <td>0</td>\n",
       "      <td>0</td>\n",
       "      <td>0</td>\n",
       "      <td>0</td>\n",
       "      <td>0</td>\n",
       "      <td>0</td>\n",
       "    </tr>\n",
       "  </tbody>\n",
       "</table>\n",
       "<p>340 rows × 24 columns</p>\n",
       "</div>"
      ],
      "text/plain": [
       "                 location                          place          state  \\\n",
       "0        Bhoramdeo Temple  Chaura village, Kawardha town   chhattisgarh   \n",
       "1             maitri bagh         Near to Maroda, Bhilai   chhattisgarh   \n",
       "2        Tirathgarh Falls                Bastar district   chhattisgarh   \n",
       "3    Sirpur Heritage Site    bank of holy Mahanadi river   chhattisgarh   \n",
       "4       Rajeev Smriti Van                         Raipur   chhattisgarh   \n",
       "..                    ...                            ...            ...   \n",
       "337               pelling                        pelling         sikkim   \n",
       "338                 zuluk                          zuluk        sikkkim   \n",
       "339          teesta river                   teesta river         sikkim   \n",
       "340      gurudongmar lake               gurudongmar lake         sikkim   \n",
       "341              goechala                       goechala         sikkim   \n",
       "\n",
       "     location_rating  age  season affordable types_of_travel religion  \\\n",
       "0                4.0    0  winter        Yes          family   hindus   \n",
       "1                4.0   20     any        Yes         friends      any   \n",
       "2                4.6   25   rainy        Yes         friends      any   \n",
       "3                5.0    0  winter        Yes          family   hindus   \n",
       "4                3.9    0     any        Yes            solo      any   \n",
       "..               ...  ...     ...        ...             ...      ...   \n",
       "337              4.5    0  winter        yes             any      any   \n",
       "338              3.5   30  winter        yes         friends   hindus   \n",
       "339              4.0   30     any        yes         friends      any   \n",
       "340              4.0   30     any        yes             any      any   \n",
       "341              3.5   30     any        yes            solo      any   \n",
       "\n",
       "     item_id  ...  travel_type_family  travel_type_friends  travel_type_solo  \\\n",
       "0          1  ...                   1                    0                 0   \n",
       "1          2  ...                   0                    1                 0   \n",
       "2          3  ...                   0                    1                 0   \n",
       "3          4  ...                   1                    0                 0   \n",
       "4          5  ...                   0                    0                 1   \n",
       "..       ...  ...                 ...                  ...               ...   \n",
       "337      338  ...                   0                    0                 0   \n",
       "338      339  ...                   0                    1                 0   \n",
       "339      340  ...                   0                    1                 0   \n",
       "340      341  ...                   0                    0                 0   \n",
       "341      342  ...                   0                    0                 1   \n",
       "\n",
       "     religion_any  religion_buddist  religion_christian  religion_hindus  \\\n",
       "0               0                 0                   0                1   \n",
       "1               1                 0                   0                0   \n",
       "2               1                 0                   0                0   \n",
       "3               0                 0                   0                1   \n",
       "4               1                 0                   0                0   \n",
       "..            ...               ...                 ...              ...   \n",
       "337             1                 0                   0                0   \n",
       "338             0                 0                   0                1   \n",
       "339             1                 0                   0                0   \n",
       "340             1                 0                   0                0   \n",
       "341             1                 0                   0                0   \n",
       "\n",
       "     religion_jain  religion_muslim  religion_sikhs  \n",
       "0                0                0               0  \n",
       "1                0                0               0  \n",
       "2                0                0               0  \n",
       "3                0                0               0  \n",
       "4                0                0               0  \n",
       "..             ...              ...             ...  \n",
       "337              0                0               0  \n",
       "338              0                0               0  \n",
       "339              0                0               0  \n",
       "340              0                0               0  \n",
       "341              0                0               0  \n",
       "\n",
       "[340 rows x 24 columns]"
      ]
     },
     "execution_count": 117,
     "metadata": {},
     "output_type": "execute_result"
    }
   ],
   "source": [
    "df=pd.concat([df,religion],axis=1)\n",
    "df.head()\n",
    "df\n"
   ]
  },
  {
   "cell_type": "code",
   "execution_count": 118,
   "metadata": {},
   "outputs": [],
   "source": [
    "df['season']=df['season'].apply(lambda x: x.strip())"
   ]
  },
  {
   "cell_type": "code",
   "execution_count": 119,
   "metadata": {
    "scrolled": true
   },
   "outputs": [
    {
     "data": {
      "text/html": [
       "<div>\n",
       "<style scoped>\n",
       "    .dataframe tbody tr th:only-of-type {\n",
       "        vertical-align: middle;\n",
       "    }\n",
       "\n",
       "    .dataframe tbody tr th {\n",
       "        vertical-align: top;\n",
       "    }\n",
       "\n",
       "    .dataframe thead th {\n",
       "        text-align: right;\n",
       "    }\n",
       "</style>\n",
       "<table border=\"1\" class=\"dataframe\">\n",
       "  <thead>\n",
       "    <tr style=\"text-align: right;\">\n",
       "      <th></th>\n",
       "      <th>season_any</th>\n",
       "      <th>season_autumn</th>\n",
       "      <th>season_rainy</th>\n",
       "      <th>season_spring</th>\n",
       "      <th>season_summer</th>\n",
       "      <th>season_winter</th>\n",
       "    </tr>\n",
       "  </thead>\n",
       "  <tbody>\n",
       "    <tr>\n",
       "      <td>0</td>\n",
       "      <td>0</td>\n",
       "      <td>0</td>\n",
       "      <td>0</td>\n",
       "      <td>0</td>\n",
       "      <td>0</td>\n",
       "      <td>1</td>\n",
       "    </tr>\n",
       "    <tr>\n",
       "      <td>1</td>\n",
       "      <td>1</td>\n",
       "      <td>0</td>\n",
       "      <td>0</td>\n",
       "      <td>0</td>\n",
       "      <td>0</td>\n",
       "      <td>0</td>\n",
       "    </tr>\n",
       "    <tr>\n",
       "      <td>2</td>\n",
       "      <td>0</td>\n",
       "      <td>0</td>\n",
       "      <td>1</td>\n",
       "      <td>0</td>\n",
       "      <td>0</td>\n",
       "      <td>0</td>\n",
       "    </tr>\n",
       "    <tr>\n",
       "      <td>3</td>\n",
       "      <td>0</td>\n",
       "      <td>0</td>\n",
       "      <td>0</td>\n",
       "      <td>0</td>\n",
       "      <td>0</td>\n",
       "      <td>1</td>\n",
       "    </tr>\n",
       "    <tr>\n",
       "      <td>4</td>\n",
       "      <td>1</td>\n",
       "      <td>0</td>\n",
       "      <td>0</td>\n",
       "      <td>0</td>\n",
       "      <td>0</td>\n",
       "      <td>0</td>\n",
       "    </tr>\n",
       "  </tbody>\n",
       "</table>\n",
       "</div>"
      ],
      "text/plain": [
       "   season_any  season_autumn  season_rainy  season_spring  season_summer  \\\n",
       "0           0              0             0              0              0   \n",
       "1           1              0             0              0              0   \n",
       "2           0              0             1              0              0   \n",
       "3           0              0             0              0              0   \n",
       "4           1              0             0              0              0   \n",
       "\n",
       "   season_winter  \n",
       "0              1  \n",
       "1              0  \n",
       "2              0  \n",
       "3              1  \n",
       "4              0  "
      ]
     },
     "execution_count": 119,
     "metadata": {},
     "output_type": "execute_result"
    }
   ],
   "source": [
    "season=pd.get_dummies(df['season'],prefix='season')\n",
    "season.head()"
   ]
  },
  {
   "cell_type": "code",
   "execution_count": 120,
   "metadata": {
    "scrolled": true
   },
   "outputs": [
    {
     "data": {
      "text/html": [
       "<div>\n",
       "<style scoped>\n",
       "    .dataframe tbody tr th:only-of-type {\n",
       "        vertical-align: middle;\n",
       "    }\n",
       "\n",
       "    .dataframe tbody tr th {\n",
       "        vertical-align: top;\n",
       "    }\n",
       "\n",
       "    .dataframe thead th {\n",
       "        text-align: right;\n",
       "    }\n",
       "</style>\n",
       "<table border=\"1\" class=\"dataframe\">\n",
       "  <thead>\n",
       "    <tr style=\"text-align: right;\">\n",
       "      <th></th>\n",
       "      <th>location</th>\n",
       "      <th>place</th>\n",
       "      <th>state</th>\n",
       "      <th>location_rating</th>\n",
       "      <th>age</th>\n",
       "      <th>season</th>\n",
       "      <th>affordable</th>\n",
       "      <th>types_of_travel</th>\n",
       "      <th>religion</th>\n",
       "      <th>item_id</th>\n",
       "      <th>...</th>\n",
       "      <th>religion_hindus</th>\n",
       "      <th>religion_jain</th>\n",
       "      <th>religion_muslim</th>\n",
       "      <th>religion_sikhs</th>\n",
       "      <th>season_any</th>\n",
       "      <th>season_autumn</th>\n",
       "      <th>season_rainy</th>\n",
       "      <th>season_spring</th>\n",
       "      <th>season_summer</th>\n",
       "      <th>season_winter</th>\n",
       "    </tr>\n",
       "  </thead>\n",
       "  <tbody>\n",
       "    <tr>\n",
       "      <td>0</td>\n",
       "      <td>Bhoramdeo Temple</td>\n",
       "      <td>Chaura village, Kawardha town</td>\n",
       "      <td>chhattisgarh</td>\n",
       "      <td>4.0</td>\n",
       "      <td>0</td>\n",
       "      <td>winter</td>\n",
       "      <td>Yes</td>\n",
       "      <td>family</td>\n",
       "      <td>hindus</td>\n",
       "      <td>1</td>\n",
       "      <td>...</td>\n",
       "      <td>1</td>\n",
       "      <td>0</td>\n",
       "      <td>0</td>\n",
       "      <td>0</td>\n",
       "      <td>0</td>\n",
       "      <td>0</td>\n",
       "      <td>0</td>\n",
       "      <td>0</td>\n",
       "      <td>0</td>\n",
       "      <td>1</td>\n",
       "    </tr>\n",
       "    <tr>\n",
       "      <td>1</td>\n",
       "      <td>maitri bagh</td>\n",
       "      <td>Near to Maroda, Bhilai</td>\n",
       "      <td>chhattisgarh</td>\n",
       "      <td>4.0</td>\n",
       "      <td>20</td>\n",
       "      <td>any</td>\n",
       "      <td>Yes</td>\n",
       "      <td>friends</td>\n",
       "      <td>any</td>\n",
       "      <td>2</td>\n",
       "      <td>...</td>\n",
       "      <td>0</td>\n",
       "      <td>0</td>\n",
       "      <td>0</td>\n",
       "      <td>0</td>\n",
       "      <td>1</td>\n",
       "      <td>0</td>\n",
       "      <td>0</td>\n",
       "      <td>0</td>\n",
       "      <td>0</td>\n",
       "      <td>0</td>\n",
       "    </tr>\n",
       "    <tr>\n",
       "      <td>2</td>\n",
       "      <td>Tirathgarh Falls</td>\n",
       "      <td>Bastar district</td>\n",
       "      <td>chhattisgarh</td>\n",
       "      <td>4.6</td>\n",
       "      <td>25</td>\n",
       "      <td>rainy</td>\n",
       "      <td>Yes</td>\n",
       "      <td>friends</td>\n",
       "      <td>any</td>\n",
       "      <td>3</td>\n",
       "      <td>...</td>\n",
       "      <td>0</td>\n",
       "      <td>0</td>\n",
       "      <td>0</td>\n",
       "      <td>0</td>\n",
       "      <td>0</td>\n",
       "      <td>0</td>\n",
       "      <td>1</td>\n",
       "      <td>0</td>\n",
       "      <td>0</td>\n",
       "      <td>0</td>\n",
       "    </tr>\n",
       "    <tr>\n",
       "      <td>3</td>\n",
       "      <td>Sirpur Heritage Site</td>\n",
       "      <td>bank of holy Mahanadi river</td>\n",
       "      <td>chhattisgarh</td>\n",
       "      <td>5.0</td>\n",
       "      <td>0</td>\n",
       "      <td>winter</td>\n",
       "      <td>Yes</td>\n",
       "      <td>family</td>\n",
       "      <td>hindus</td>\n",
       "      <td>4</td>\n",
       "      <td>...</td>\n",
       "      <td>1</td>\n",
       "      <td>0</td>\n",
       "      <td>0</td>\n",
       "      <td>0</td>\n",
       "      <td>0</td>\n",
       "      <td>0</td>\n",
       "      <td>0</td>\n",
       "      <td>0</td>\n",
       "      <td>0</td>\n",
       "      <td>1</td>\n",
       "    </tr>\n",
       "    <tr>\n",
       "      <td>4</td>\n",
       "      <td>Rajeev Smriti Van</td>\n",
       "      <td>Raipur</td>\n",
       "      <td>chhattisgarh</td>\n",
       "      <td>3.9</td>\n",
       "      <td>0</td>\n",
       "      <td>any</td>\n",
       "      <td>Yes</td>\n",
       "      <td>solo</td>\n",
       "      <td>any</td>\n",
       "      <td>5</td>\n",
       "      <td>...</td>\n",
       "      <td>0</td>\n",
       "      <td>0</td>\n",
       "      <td>0</td>\n",
       "      <td>0</td>\n",
       "      <td>1</td>\n",
       "      <td>0</td>\n",
       "      <td>0</td>\n",
       "      <td>0</td>\n",
       "      <td>0</td>\n",
       "      <td>0</td>\n",
       "    </tr>\n",
       "  </tbody>\n",
       "</table>\n",
       "<p>5 rows × 30 columns</p>\n",
       "</div>"
      ],
      "text/plain": [
       "               location                          place          state  \\\n",
       "0      Bhoramdeo Temple  Chaura village, Kawardha town   chhattisgarh   \n",
       "1           maitri bagh         Near to Maroda, Bhilai   chhattisgarh   \n",
       "2      Tirathgarh Falls                Bastar district   chhattisgarh   \n",
       "3  Sirpur Heritage Site    bank of holy Mahanadi river   chhattisgarh   \n",
       "4     Rajeev Smriti Van                         Raipur   chhattisgarh   \n",
       "\n",
       "   location_rating  age  season affordable types_of_travel religion  item_id  \\\n",
       "0              4.0    0  winter        Yes          family   hindus        1   \n",
       "1              4.0   20     any        Yes         friends      any        2   \n",
       "2              4.6   25   rainy        Yes         friends      any        3   \n",
       "3              5.0    0  winter        Yes          family   hindus        4   \n",
       "4              3.9    0     any        Yes            solo      any        5   \n",
       "\n",
       "   ...  religion_hindus  religion_jain  religion_muslim  religion_sikhs  \\\n",
       "0  ...                1              0                0               0   \n",
       "1  ...                0              0                0               0   \n",
       "2  ...                0              0                0               0   \n",
       "3  ...                1              0                0               0   \n",
       "4  ...                0              0                0               0   \n",
       "\n",
       "   season_any  season_autumn  season_rainy  season_spring  season_summer  \\\n",
       "0           0              0             0              0              0   \n",
       "1           1              0             0              0              0   \n",
       "2           0              0             1              0              0   \n",
       "3           0              0             0              0              0   \n",
       "4           1              0             0              0              0   \n",
       "\n",
       "   season_winter  \n",
       "0              1  \n",
       "1              0  \n",
       "2              0  \n",
       "3              1  \n",
       "4              0  \n",
       "\n",
       "[5 rows x 30 columns]"
      ]
     },
     "execution_count": 120,
     "metadata": {},
     "output_type": "execute_result"
    }
   ],
   "source": [
    "df=pd.concat([df,season],axis=1)\n",
    "df.head()"
   ]
  },
  {
   "cell_type": "code",
   "execution_count": 121,
   "metadata": {},
   "outputs": [
    {
     "data": {
      "text/plain": [
       "Index(['location', 'place', 'state', 'location_rating', 'age', 'season',\n",
       "       'affordable', 'types_of_travel', 'religion', 'item_id', 'user_id',\n",
       "       'user_rating', 'timestamp', 'travel_type_any', 'travel_type_family',\n",
       "       'travel_type_friends', 'travel_type_solo', 'religion_any',\n",
       "       'religion_buddist', 'religion_christian', 'religion_hindus',\n",
       "       'religion_jain', 'religion_muslim', 'religion_sikhs', 'season_any',\n",
       "       'season_autumn', 'season_rainy', 'season_spring', 'season_summer',\n",
       "       'season_winter'],\n",
       "      dtype='object')"
      ]
     },
     "execution_count": 121,
     "metadata": {},
     "output_type": "execute_result"
    }
   ],
   "source": [
    "df.columns"
   ]
  },
  {
   "cell_type": "code",
   "execution_count": 122,
   "metadata": {},
   "outputs": [
    {
     "data": {
      "text/plain": [
       "location                object\n",
       "place                   object\n",
       "state                   object\n",
       "location_rating        float64\n",
       "age                      int32\n",
       "season                  object\n",
       "affordable              object\n",
       "types_of_travel         object\n",
       "religion                object\n",
       "item_id                  int32\n",
       "user_id                  int64\n",
       "user_rating            float64\n",
       "timestamp                int64\n",
       "travel_type_any          uint8\n",
       "travel_type_family       uint8\n",
       "travel_type_friends      uint8\n",
       "travel_type_solo         uint8\n",
       "religion_any             uint8\n",
       "religion_buddist         uint8\n",
       "religion_christian       uint8\n",
       "religion_hindus          uint8\n",
       "religion_jain            uint8\n",
       "religion_muslim          uint8\n",
       "religion_sikhs           uint8\n",
       "season_any               uint8\n",
       "season_autumn            uint8\n",
       "season_rainy             uint8\n",
       "season_spring            uint8\n",
       "season_summer            uint8\n",
       "season_winter            uint8\n",
       "dtype: object"
      ]
     },
     "execution_count": 122,
     "metadata": {},
     "output_type": "execute_result"
    }
   ],
   "source": [
    "df.dtypes"
   ]
  },
  {
   "cell_type": "code",
   "execution_count": 123,
   "metadata": {},
   "outputs": [
    {
     "data": {
      "text/html": [
       "<div>\n",
       "<style scoped>\n",
       "    .dataframe tbody tr th:only-of-type {\n",
       "        vertical-align: middle;\n",
       "    }\n",
       "\n",
       "    .dataframe tbody tr th {\n",
       "        vertical-align: top;\n",
       "    }\n",
       "\n",
       "    .dataframe thead th {\n",
       "        text-align: right;\n",
       "    }\n",
       "</style>\n",
       "<table border=\"1\" class=\"dataframe\">\n",
       "  <thead>\n",
       "    <tr style=\"text-align: right;\">\n",
       "      <th></th>\n",
       "      <th>location</th>\n",
       "      <th>place</th>\n",
       "      <th>state</th>\n",
       "      <th>location_rating</th>\n",
       "      <th>age</th>\n",
       "      <th>season</th>\n",
       "      <th>affordable</th>\n",
       "      <th>types_of_travel</th>\n",
       "      <th>religion</th>\n",
       "      <th>item_id</th>\n",
       "      <th>...</th>\n",
       "      <th>religion_hindus</th>\n",
       "      <th>religion_jain</th>\n",
       "      <th>religion_muslim</th>\n",
       "      <th>religion_sikhs</th>\n",
       "      <th>season_any</th>\n",
       "      <th>season_autumn</th>\n",
       "      <th>season_rainy</th>\n",
       "      <th>season_spring</th>\n",
       "      <th>season_summer</th>\n",
       "      <th>season_winter</th>\n",
       "    </tr>\n",
       "  </thead>\n",
       "  <tbody>\n",
       "    <tr>\n",
       "      <td>0</td>\n",
       "      <td>Bhoramdeo Temple</td>\n",
       "      <td>Chaura village, Kawardha town</td>\n",
       "      <td>chhattisgarh</td>\n",
       "      <td>4.0</td>\n",
       "      <td>0</td>\n",
       "      <td>winter</td>\n",
       "      <td>Yes</td>\n",
       "      <td>family</td>\n",
       "      <td>hindus</td>\n",
       "      <td>1</td>\n",
       "      <td>...</td>\n",
       "      <td>1</td>\n",
       "      <td>0</td>\n",
       "      <td>0</td>\n",
       "      <td>0</td>\n",
       "      <td>0</td>\n",
       "      <td>0</td>\n",
       "      <td>0</td>\n",
       "      <td>0</td>\n",
       "      <td>0</td>\n",
       "      <td>1</td>\n",
       "    </tr>\n",
       "    <tr>\n",
       "      <td>1</td>\n",
       "      <td>maitri bagh</td>\n",
       "      <td>Near to Maroda, Bhilai</td>\n",
       "      <td>chhattisgarh</td>\n",
       "      <td>4.0</td>\n",
       "      <td>20</td>\n",
       "      <td>any</td>\n",
       "      <td>Yes</td>\n",
       "      <td>friends</td>\n",
       "      <td>any</td>\n",
       "      <td>2</td>\n",
       "      <td>...</td>\n",
       "      <td>0</td>\n",
       "      <td>0</td>\n",
       "      <td>0</td>\n",
       "      <td>0</td>\n",
       "      <td>1</td>\n",
       "      <td>0</td>\n",
       "      <td>0</td>\n",
       "      <td>0</td>\n",
       "      <td>0</td>\n",
       "      <td>0</td>\n",
       "    </tr>\n",
       "    <tr>\n",
       "      <td>2</td>\n",
       "      <td>Tirathgarh Falls</td>\n",
       "      <td>Bastar district</td>\n",
       "      <td>chhattisgarh</td>\n",
       "      <td>4.6</td>\n",
       "      <td>25</td>\n",
       "      <td>rainy</td>\n",
       "      <td>Yes</td>\n",
       "      <td>friends</td>\n",
       "      <td>any</td>\n",
       "      <td>3</td>\n",
       "      <td>...</td>\n",
       "      <td>0</td>\n",
       "      <td>0</td>\n",
       "      <td>0</td>\n",
       "      <td>0</td>\n",
       "      <td>0</td>\n",
       "      <td>0</td>\n",
       "      <td>1</td>\n",
       "      <td>0</td>\n",
       "      <td>0</td>\n",
       "      <td>0</td>\n",
       "    </tr>\n",
       "    <tr>\n",
       "      <td>3</td>\n",
       "      <td>Sirpur Heritage Site</td>\n",
       "      <td>bank of holy Mahanadi river</td>\n",
       "      <td>chhattisgarh</td>\n",
       "      <td>5.0</td>\n",
       "      <td>0</td>\n",
       "      <td>winter</td>\n",
       "      <td>Yes</td>\n",
       "      <td>family</td>\n",
       "      <td>hindus</td>\n",
       "      <td>4</td>\n",
       "      <td>...</td>\n",
       "      <td>1</td>\n",
       "      <td>0</td>\n",
       "      <td>0</td>\n",
       "      <td>0</td>\n",
       "      <td>0</td>\n",
       "      <td>0</td>\n",
       "      <td>0</td>\n",
       "      <td>0</td>\n",
       "      <td>0</td>\n",
       "      <td>1</td>\n",
       "    </tr>\n",
       "    <tr>\n",
       "      <td>4</td>\n",
       "      <td>Rajeev Smriti Van</td>\n",
       "      <td>Raipur</td>\n",
       "      <td>chhattisgarh</td>\n",
       "      <td>3.9</td>\n",
       "      <td>0</td>\n",
       "      <td>any</td>\n",
       "      <td>Yes</td>\n",
       "      <td>solo</td>\n",
       "      <td>any</td>\n",
       "      <td>5</td>\n",
       "      <td>...</td>\n",
       "      <td>0</td>\n",
       "      <td>0</td>\n",
       "      <td>0</td>\n",
       "      <td>0</td>\n",
       "      <td>1</td>\n",
       "      <td>0</td>\n",
       "      <td>0</td>\n",
       "      <td>0</td>\n",
       "      <td>0</td>\n",
       "      <td>0</td>\n",
       "    </tr>\n",
       "    <tr>\n",
       "      <td>...</td>\n",
       "      <td>...</td>\n",
       "      <td>...</td>\n",
       "      <td>...</td>\n",
       "      <td>...</td>\n",
       "      <td>...</td>\n",
       "      <td>...</td>\n",
       "      <td>...</td>\n",
       "      <td>...</td>\n",
       "      <td>...</td>\n",
       "      <td>...</td>\n",
       "      <td>...</td>\n",
       "      <td>...</td>\n",
       "      <td>...</td>\n",
       "      <td>...</td>\n",
       "      <td>...</td>\n",
       "      <td>...</td>\n",
       "      <td>...</td>\n",
       "      <td>...</td>\n",
       "      <td>...</td>\n",
       "      <td>...</td>\n",
       "      <td>...</td>\n",
       "    </tr>\n",
       "    <tr>\n",
       "      <td>337</td>\n",
       "      <td>pelling</td>\n",
       "      <td>pelling</td>\n",
       "      <td>sikkim</td>\n",
       "      <td>4.5</td>\n",
       "      <td>0</td>\n",
       "      <td>winter</td>\n",
       "      <td>yes</td>\n",
       "      <td>any</td>\n",
       "      <td>any</td>\n",
       "      <td>338</td>\n",
       "      <td>...</td>\n",
       "      <td>0</td>\n",
       "      <td>0</td>\n",
       "      <td>0</td>\n",
       "      <td>0</td>\n",
       "      <td>0</td>\n",
       "      <td>0</td>\n",
       "      <td>0</td>\n",
       "      <td>0</td>\n",
       "      <td>0</td>\n",
       "      <td>1</td>\n",
       "    </tr>\n",
       "    <tr>\n",
       "      <td>338</td>\n",
       "      <td>zuluk</td>\n",
       "      <td>zuluk</td>\n",
       "      <td>sikkkim</td>\n",
       "      <td>3.5</td>\n",
       "      <td>30</td>\n",
       "      <td>winter</td>\n",
       "      <td>yes</td>\n",
       "      <td>friends</td>\n",
       "      <td>hindus</td>\n",
       "      <td>339</td>\n",
       "      <td>...</td>\n",
       "      <td>1</td>\n",
       "      <td>0</td>\n",
       "      <td>0</td>\n",
       "      <td>0</td>\n",
       "      <td>0</td>\n",
       "      <td>0</td>\n",
       "      <td>0</td>\n",
       "      <td>0</td>\n",
       "      <td>0</td>\n",
       "      <td>1</td>\n",
       "    </tr>\n",
       "    <tr>\n",
       "      <td>339</td>\n",
       "      <td>teesta river</td>\n",
       "      <td>teesta river</td>\n",
       "      <td>sikkim</td>\n",
       "      <td>4.0</td>\n",
       "      <td>30</td>\n",
       "      <td>any</td>\n",
       "      <td>yes</td>\n",
       "      <td>friends</td>\n",
       "      <td>any</td>\n",
       "      <td>340</td>\n",
       "      <td>...</td>\n",
       "      <td>0</td>\n",
       "      <td>0</td>\n",
       "      <td>0</td>\n",
       "      <td>0</td>\n",
       "      <td>1</td>\n",
       "      <td>0</td>\n",
       "      <td>0</td>\n",
       "      <td>0</td>\n",
       "      <td>0</td>\n",
       "      <td>0</td>\n",
       "    </tr>\n",
       "    <tr>\n",
       "      <td>340</td>\n",
       "      <td>gurudongmar lake</td>\n",
       "      <td>gurudongmar lake</td>\n",
       "      <td>sikkim</td>\n",
       "      <td>4.0</td>\n",
       "      <td>30</td>\n",
       "      <td>any</td>\n",
       "      <td>yes</td>\n",
       "      <td>any</td>\n",
       "      <td>any</td>\n",
       "      <td>341</td>\n",
       "      <td>...</td>\n",
       "      <td>0</td>\n",
       "      <td>0</td>\n",
       "      <td>0</td>\n",
       "      <td>0</td>\n",
       "      <td>1</td>\n",
       "      <td>0</td>\n",
       "      <td>0</td>\n",
       "      <td>0</td>\n",
       "      <td>0</td>\n",
       "      <td>0</td>\n",
       "    </tr>\n",
       "    <tr>\n",
       "      <td>341</td>\n",
       "      <td>goechala</td>\n",
       "      <td>goechala</td>\n",
       "      <td>sikkim</td>\n",
       "      <td>3.5</td>\n",
       "      <td>30</td>\n",
       "      <td>any</td>\n",
       "      <td>yes</td>\n",
       "      <td>solo</td>\n",
       "      <td>any</td>\n",
       "      <td>342</td>\n",
       "      <td>...</td>\n",
       "      <td>0</td>\n",
       "      <td>0</td>\n",
       "      <td>0</td>\n",
       "      <td>0</td>\n",
       "      <td>1</td>\n",
       "      <td>0</td>\n",
       "      <td>0</td>\n",
       "      <td>0</td>\n",
       "      <td>0</td>\n",
       "      <td>0</td>\n",
       "    </tr>\n",
       "  </tbody>\n",
       "</table>\n",
       "<p>340 rows × 30 columns</p>\n",
       "</div>"
      ],
      "text/plain": [
       "                 location                          place          state  \\\n",
       "0        Bhoramdeo Temple  Chaura village, Kawardha town   chhattisgarh   \n",
       "1             maitri bagh         Near to Maroda, Bhilai   chhattisgarh   \n",
       "2        Tirathgarh Falls                Bastar district   chhattisgarh   \n",
       "3    Sirpur Heritage Site    bank of holy Mahanadi river   chhattisgarh   \n",
       "4       Rajeev Smriti Van                         Raipur   chhattisgarh   \n",
       "..                    ...                            ...            ...   \n",
       "337               pelling                        pelling         sikkim   \n",
       "338                 zuluk                          zuluk        sikkkim   \n",
       "339          teesta river                   teesta river         sikkim   \n",
       "340      gurudongmar lake               gurudongmar lake         sikkim   \n",
       "341              goechala                       goechala         sikkim   \n",
       "\n",
       "     location_rating  age  season affordable types_of_travel religion  \\\n",
       "0                4.0    0  winter        Yes          family   hindus   \n",
       "1                4.0   20     any        Yes         friends      any   \n",
       "2                4.6   25   rainy        Yes         friends      any   \n",
       "3                5.0    0  winter        Yes          family   hindus   \n",
       "4                3.9    0     any        Yes            solo      any   \n",
       "..               ...  ...     ...        ...             ...      ...   \n",
       "337              4.5    0  winter        yes             any      any   \n",
       "338              3.5   30  winter        yes         friends   hindus   \n",
       "339              4.0   30     any        yes         friends      any   \n",
       "340              4.0   30     any        yes             any      any   \n",
       "341              3.5   30     any        yes            solo      any   \n",
       "\n",
       "     item_id  ...  religion_hindus  religion_jain  religion_muslim  \\\n",
       "0          1  ...                1              0                0   \n",
       "1          2  ...                0              0                0   \n",
       "2          3  ...                0              0                0   \n",
       "3          4  ...                1              0                0   \n",
       "4          5  ...                0              0                0   \n",
       "..       ...  ...              ...            ...              ...   \n",
       "337      338  ...                0              0                0   \n",
       "338      339  ...                1              0                0   \n",
       "339      340  ...                0              0                0   \n",
       "340      341  ...                0              0                0   \n",
       "341      342  ...                0              0                0   \n",
       "\n",
       "     religion_sikhs  season_any  season_autumn  season_rainy  season_spring  \\\n",
       "0                 0           0              0             0              0   \n",
       "1                 0           1              0             0              0   \n",
       "2                 0           0              0             1              0   \n",
       "3                 0           0              0             0              0   \n",
       "4                 0           1              0             0              0   \n",
       "..              ...         ...            ...           ...            ...   \n",
       "337               0           0              0             0              0   \n",
       "338               0           0              0             0              0   \n",
       "339               0           1              0             0              0   \n",
       "340               0           1              0             0              0   \n",
       "341               0           1              0             0              0   \n",
       "\n",
       "     season_summer  season_winter  \n",
       "0                0              1  \n",
       "1                0              0  \n",
       "2                0              0  \n",
       "3                0              1  \n",
       "4                0              0  \n",
       "..             ...            ...  \n",
       "337              0              1  \n",
       "338              0              1  \n",
       "339              0              0  \n",
       "340              0              0  \n",
       "341              0              0  \n",
       "\n",
       "[340 rows x 30 columns]"
      ]
     },
     "execution_count": 123,
     "metadata": {},
     "output_type": "execute_result"
    }
   ],
   "source": [
    "df"
   ]
  },
  {
   "cell_type": "code",
   "execution_count": 124,
   "metadata": {},
   "outputs": [
    {
     "data": {
      "text/plain": [
       "array(['winter', 'any', 'rainy', 'spring', 'summer', 'autumn'],\n",
       "      dtype=object)"
      ]
     },
     "execution_count": 124,
     "metadata": {},
     "output_type": "execute_result"
    }
   ],
   "source": [
    "df['season'].unique()"
   ]
  },
  {
   "cell_type": "code",
   "execution_count": 125,
   "metadata": {},
   "outputs": [
    {
     "data": {
      "text/html": [
       "<div>\n",
       "<style scoped>\n",
       "    .dataframe tbody tr th:only-of-type {\n",
       "        vertical-align: middle;\n",
       "    }\n",
       "\n",
       "    .dataframe tbody tr th {\n",
       "        vertical-align: top;\n",
       "    }\n",
       "\n",
       "    .dataframe thead th {\n",
       "        text-align: right;\n",
       "    }\n",
       "</style>\n",
       "<table border=\"1\" class=\"dataframe\">\n",
       "  <thead>\n",
       "    <tr style=\"text-align: right;\">\n",
       "      <th></th>\n",
       "      <th>location</th>\n",
       "      <th>place</th>\n",
       "      <th>state</th>\n",
       "      <th>location_rating</th>\n",
       "      <th>age</th>\n",
       "      <th>season</th>\n",
       "      <th>affordable</th>\n",
       "      <th>types_of_travel</th>\n",
       "      <th>religion</th>\n",
       "      <th>item_id</th>\n",
       "      <th>...</th>\n",
       "      <th>religion_hindus</th>\n",
       "      <th>religion_jain</th>\n",
       "      <th>religion_muslim</th>\n",
       "      <th>religion_sikhs</th>\n",
       "      <th>season_any</th>\n",
       "      <th>season_autumn</th>\n",
       "      <th>season_rainy</th>\n",
       "      <th>season_spring</th>\n",
       "      <th>season_summer</th>\n",
       "      <th>season_winter</th>\n",
       "    </tr>\n",
       "  </thead>\n",
       "  <tbody>\n",
       "    <tr>\n",
       "      <td>0</td>\n",
       "      <td>Bhoramdeo Temple</td>\n",
       "      <td>Chaura village, Kawardha town</td>\n",
       "      <td>chhattisgarh</td>\n",
       "      <td>4.0</td>\n",
       "      <td>0</td>\n",
       "      <td>winter</td>\n",
       "      <td>Yes</td>\n",
       "      <td>family</td>\n",
       "      <td>hindus</td>\n",
       "      <td>1</td>\n",
       "      <td>...</td>\n",
       "      <td>1</td>\n",
       "      <td>0</td>\n",
       "      <td>0</td>\n",
       "      <td>0</td>\n",
       "      <td>0</td>\n",
       "      <td>0</td>\n",
       "      <td>0</td>\n",
       "      <td>0</td>\n",
       "      <td>0</td>\n",
       "      <td>1</td>\n",
       "    </tr>\n",
       "    <tr>\n",
       "      <td>1</td>\n",
       "      <td>maitri bagh</td>\n",
       "      <td>Near to Maroda, Bhilai</td>\n",
       "      <td>chhattisgarh</td>\n",
       "      <td>4.0</td>\n",
       "      <td>20</td>\n",
       "      <td>any</td>\n",
       "      <td>Yes</td>\n",
       "      <td>friends</td>\n",
       "      <td>any</td>\n",
       "      <td>2</td>\n",
       "      <td>...</td>\n",
       "      <td>0</td>\n",
       "      <td>0</td>\n",
       "      <td>0</td>\n",
       "      <td>0</td>\n",
       "      <td>1</td>\n",
       "      <td>0</td>\n",
       "      <td>0</td>\n",
       "      <td>0</td>\n",
       "      <td>0</td>\n",
       "      <td>0</td>\n",
       "    </tr>\n",
       "    <tr>\n",
       "      <td>2</td>\n",
       "      <td>Tirathgarh Falls</td>\n",
       "      <td>Bastar district</td>\n",
       "      <td>chhattisgarh</td>\n",
       "      <td>4.6</td>\n",
       "      <td>25</td>\n",
       "      <td>rainy</td>\n",
       "      <td>Yes</td>\n",
       "      <td>friends</td>\n",
       "      <td>any</td>\n",
       "      <td>3</td>\n",
       "      <td>...</td>\n",
       "      <td>0</td>\n",
       "      <td>0</td>\n",
       "      <td>0</td>\n",
       "      <td>0</td>\n",
       "      <td>0</td>\n",
       "      <td>0</td>\n",
       "      <td>1</td>\n",
       "      <td>0</td>\n",
       "      <td>0</td>\n",
       "      <td>0</td>\n",
       "    </tr>\n",
       "    <tr>\n",
       "      <td>3</td>\n",
       "      <td>Sirpur Heritage Site</td>\n",
       "      <td>bank of holy Mahanadi river</td>\n",
       "      <td>chhattisgarh</td>\n",
       "      <td>5.0</td>\n",
       "      <td>0</td>\n",
       "      <td>winter</td>\n",
       "      <td>Yes</td>\n",
       "      <td>family</td>\n",
       "      <td>hindus</td>\n",
       "      <td>4</td>\n",
       "      <td>...</td>\n",
       "      <td>1</td>\n",
       "      <td>0</td>\n",
       "      <td>0</td>\n",
       "      <td>0</td>\n",
       "      <td>0</td>\n",
       "      <td>0</td>\n",
       "      <td>0</td>\n",
       "      <td>0</td>\n",
       "      <td>0</td>\n",
       "      <td>1</td>\n",
       "    </tr>\n",
       "    <tr>\n",
       "      <td>4</td>\n",
       "      <td>Rajeev Smriti Van</td>\n",
       "      <td>Raipur</td>\n",
       "      <td>chhattisgarh</td>\n",
       "      <td>3.9</td>\n",
       "      <td>0</td>\n",
       "      <td>any</td>\n",
       "      <td>Yes</td>\n",
       "      <td>solo</td>\n",
       "      <td>any</td>\n",
       "      <td>5</td>\n",
       "      <td>...</td>\n",
       "      <td>0</td>\n",
       "      <td>0</td>\n",
       "      <td>0</td>\n",
       "      <td>0</td>\n",
       "      <td>1</td>\n",
       "      <td>0</td>\n",
       "      <td>0</td>\n",
       "      <td>0</td>\n",
       "      <td>0</td>\n",
       "      <td>0</td>\n",
       "    </tr>\n",
       "  </tbody>\n",
       "</table>\n",
       "<p>5 rows × 30 columns</p>\n",
       "</div>"
      ],
      "text/plain": [
       "               location                          place          state  \\\n",
       "0      Bhoramdeo Temple  Chaura village, Kawardha town   chhattisgarh   \n",
       "1           maitri bagh         Near to Maroda, Bhilai   chhattisgarh   \n",
       "2      Tirathgarh Falls                Bastar district   chhattisgarh   \n",
       "3  Sirpur Heritage Site    bank of holy Mahanadi river   chhattisgarh   \n",
       "4     Rajeev Smriti Van                         Raipur   chhattisgarh   \n",
       "\n",
       "   location_rating  age  season affordable types_of_travel religion  item_id  \\\n",
       "0              4.0    0  winter        Yes          family   hindus        1   \n",
       "1              4.0   20     any        Yes         friends      any        2   \n",
       "2              4.6   25   rainy        Yes         friends      any        3   \n",
       "3              5.0    0  winter        Yes          family   hindus        4   \n",
       "4              3.9    0     any        Yes            solo      any        5   \n",
       "\n",
       "   ...  religion_hindus  religion_jain  religion_muslim  religion_sikhs  \\\n",
       "0  ...                1              0                0               0   \n",
       "1  ...                0              0                0               0   \n",
       "2  ...                0              0                0               0   \n",
       "3  ...                1              0                0               0   \n",
       "4  ...                0              0                0               0   \n",
       "\n",
       "   season_any  season_autumn  season_rainy  season_spring  season_summer  \\\n",
       "0           0              0             0              0              0   \n",
       "1           1              0             0              0              0   \n",
       "2           0              0             1              0              0   \n",
       "3           0              0             0              0              0   \n",
       "4           1              0             0              0              0   \n",
       "\n",
       "   season_winter  \n",
       "0              1  \n",
       "1              0  \n",
       "2              0  \n",
       "3              1  \n",
       "4              0  \n",
       "\n",
       "[5 rows x 30 columns]"
      ]
     },
     "execution_count": 125,
     "metadata": {},
     "output_type": "execute_result"
    }
   ],
   "source": [
    "df.head()"
   ]
  },
  {
   "cell_type": "code",
   "execution_count": 126,
   "metadata": {
    "scrolled": true
   },
   "outputs": [
    {
     "data": {
      "text/html": [
       "<div>\n",
       "<style scoped>\n",
       "    .dataframe tbody tr th:only-of-type {\n",
       "        vertical-align: middle;\n",
       "    }\n",
       "\n",
       "    .dataframe tbody tr th {\n",
       "        vertical-align: top;\n",
       "    }\n",
       "\n",
       "    .dataframe thead th {\n",
       "        text-align: right;\n",
       "    }\n",
       "</style>\n",
       "<table border=\"1\" class=\"dataframe\">\n",
       "  <thead>\n",
       "    <tr style=\"text-align: right;\">\n",
       "      <th></th>\n",
       "      <th>location</th>\n",
       "      <th>place</th>\n",
       "      <th>state</th>\n",
       "      <th>location_rating</th>\n",
       "      <th>age</th>\n",
       "      <th>season</th>\n",
       "      <th>types_of_travel</th>\n",
       "      <th>religion</th>\n",
       "      <th>item_id</th>\n",
       "      <th>user_id</th>\n",
       "      <th>...</th>\n",
       "      <th>religion_hindus</th>\n",
       "      <th>religion_jain</th>\n",
       "      <th>religion_muslim</th>\n",
       "      <th>religion_sikhs</th>\n",
       "      <th>season_any</th>\n",
       "      <th>season_autumn</th>\n",
       "      <th>season_rainy</th>\n",
       "      <th>season_spring</th>\n",
       "      <th>season_summer</th>\n",
       "      <th>season_winter</th>\n",
       "    </tr>\n",
       "  </thead>\n",
       "  <tbody>\n",
       "    <tr>\n",
       "      <td>0</td>\n",
       "      <td>Bhoramdeo Temple</td>\n",
       "      <td>Chaura village, Kawardha town</td>\n",
       "      <td>chhattisgarh</td>\n",
       "      <td>4.0</td>\n",
       "      <td>0</td>\n",
       "      <td>winter</td>\n",
       "      <td>family</td>\n",
       "      <td>hindus</td>\n",
       "      <td>1</td>\n",
       "      <td>1</td>\n",
       "      <td>...</td>\n",
       "      <td>1</td>\n",
       "      <td>0</td>\n",
       "      <td>0</td>\n",
       "      <td>0</td>\n",
       "      <td>0</td>\n",
       "      <td>0</td>\n",
       "      <td>0</td>\n",
       "      <td>0</td>\n",
       "      <td>0</td>\n",
       "      <td>1</td>\n",
       "    </tr>\n",
       "    <tr>\n",
       "      <td>1</td>\n",
       "      <td>maitri bagh</td>\n",
       "      <td>Near to Maroda, Bhilai</td>\n",
       "      <td>chhattisgarh</td>\n",
       "      <td>4.0</td>\n",
       "      <td>20</td>\n",
       "      <td>any</td>\n",
       "      <td>friends</td>\n",
       "      <td>any</td>\n",
       "      <td>2</td>\n",
       "      <td>1</td>\n",
       "      <td>...</td>\n",
       "      <td>0</td>\n",
       "      <td>0</td>\n",
       "      <td>0</td>\n",
       "      <td>0</td>\n",
       "      <td>1</td>\n",
       "      <td>0</td>\n",
       "      <td>0</td>\n",
       "      <td>0</td>\n",
       "      <td>0</td>\n",
       "      <td>0</td>\n",
       "    </tr>\n",
       "    <tr>\n",
       "      <td>2</td>\n",
       "      <td>Tirathgarh Falls</td>\n",
       "      <td>Bastar district</td>\n",
       "      <td>chhattisgarh</td>\n",
       "      <td>4.6</td>\n",
       "      <td>25</td>\n",
       "      <td>rainy</td>\n",
       "      <td>friends</td>\n",
       "      <td>any</td>\n",
       "      <td>3</td>\n",
       "      <td>1</td>\n",
       "      <td>...</td>\n",
       "      <td>0</td>\n",
       "      <td>0</td>\n",
       "      <td>0</td>\n",
       "      <td>0</td>\n",
       "      <td>0</td>\n",
       "      <td>0</td>\n",
       "      <td>1</td>\n",
       "      <td>0</td>\n",
       "      <td>0</td>\n",
       "      <td>0</td>\n",
       "    </tr>\n",
       "    <tr>\n",
       "      <td>3</td>\n",
       "      <td>Sirpur Heritage Site</td>\n",
       "      <td>bank of holy Mahanadi river</td>\n",
       "      <td>chhattisgarh</td>\n",
       "      <td>5.0</td>\n",
       "      <td>0</td>\n",
       "      <td>winter</td>\n",
       "      <td>family</td>\n",
       "      <td>hindus</td>\n",
       "      <td>4</td>\n",
       "      <td>1</td>\n",
       "      <td>...</td>\n",
       "      <td>1</td>\n",
       "      <td>0</td>\n",
       "      <td>0</td>\n",
       "      <td>0</td>\n",
       "      <td>0</td>\n",
       "      <td>0</td>\n",
       "      <td>0</td>\n",
       "      <td>0</td>\n",
       "      <td>0</td>\n",
       "      <td>1</td>\n",
       "    </tr>\n",
       "    <tr>\n",
       "      <td>4</td>\n",
       "      <td>Rajeev Smriti Van</td>\n",
       "      <td>Raipur</td>\n",
       "      <td>chhattisgarh</td>\n",
       "      <td>3.9</td>\n",
       "      <td>0</td>\n",
       "      <td>any</td>\n",
       "      <td>solo</td>\n",
       "      <td>any</td>\n",
       "      <td>5</td>\n",
       "      <td>1</td>\n",
       "      <td>...</td>\n",
       "      <td>0</td>\n",
       "      <td>0</td>\n",
       "      <td>0</td>\n",
       "      <td>0</td>\n",
       "      <td>1</td>\n",
       "      <td>0</td>\n",
       "      <td>0</td>\n",
       "      <td>0</td>\n",
       "      <td>0</td>\n",
       "      <td>0</td>\n",
       "    </tr>\n",
       "  </tbody>\n",
       "</table>\n",
       "<p>5 rows × 29 columns</p>\n",
       "</div>"
      ],
      "text/plain": [
       "               location                          place          state  \\\n",
       "0      Bhoramdeo Temple  Chaura village, Kawardha town   chhattisgarh   \n",
       "1           maitri bagh         Near to Maroda, Bhilai   chhattisgarh   \n",
       "2      Tirathgarh Falls                Bastar district   chhattisgarh   \n",
       "3  Sirpur Heritage Site    bank of holy Mahanadi river   chhattisgarh   \n",
       "4     Rajeev Smriti Van                         Raipur   chhattisgarh   \n",
       "\n",
       "   location_rating  age  season types_of_travel religion  item_id  user_id  \\\n",
       "0              4.0    0  winter          family   hindus        1        1   \n",
       "1              4.0   20     any         friends      any        2        1   \n",
       "2              4.6   25   rainy         friends      any        3        1   \n",
       "3              5.0    0  winter          family   hindus        4        1   \n",
       "4              3.9    0     any            solo      any        5        1   \n",
       "\n",
       "   ...  religion_hindus  religion_jain  religion_muslim  religion_sikhs  \\\n",
       "0  ...                1              0                0               0   \n",
       "1  ...                0              0                0               0   \n",
       "2  ...                0              0                0               0   \n",
       "3  ...                1              0                0               0   \n",
       "4  ...                0              0                0               0   \n",
       "\n",
       "   season_any  season_autumn  season_rainy  season_spring  season_summer  \\\n",
       "0           0              0             0              0              0   \n",
       "1           1              0             0              0              0   \n",
       "2           0              0             1              0              0   \n",
       "3           0              0             0              0              0   \n",
       "4           1              0             0              0              0   \n",
       "\n",
       "   season_winter  \n",
       "0              1  \n",
       "1              0  \n",
       "2              0  \n",
       "3              1  \n",
       "4              0  \n",
       "\n",
       "[5 rows x 29 columns]"
      ]
     },
     "execution_count": 126,
     "metadata": {},
     "output_type": "execute_result"
    }
   ],
   "source": [
    "df.drop('affordable',inplace=True,axis=1)\n",
    "df.head()"
   ]
  },
  {
   "cell_type": "code",
   "execution_count": 127,
   "metadata": {},
   "outputs": [
    {
     "data": {
      "text/plain": [
       "array(['winter', 'any', 'rainy', 'spring', 'summer', 'autumn'],\n",
       "      dtype=object)"
      ]
     },
     "execution_count": 127,
     "metadata": {},
     "output_type": "execute_result"
    }
   ],
   "source": [
    "df['season'].unique()"
   ]
  },
  {
   "cell_type": "code",
   "execution_count": 128,
   "metadata": {},
   "outputs": [
    {
     "data": {
      "text/plain": [
       "(340, 29)"
      ]
     },
     "execution_count": 128,
     "metadata": {},
     "output_type": "execute_result"
    }
   ],
   "source": [
    "df.shape"
   ]
  },
  {
   "cell_type": "code",
   "execution_count": 129,
   "metadata": {},
   "outputs": [
    {
     "data": {
      "text/plain": [
       "Index(['location', 'place', 'state', 'location_rating', 'age', 'season',\n",
       "       'types_of_travel', 'religion', 'item_id', 'user_id', 'user_rating',\n",
       "       'timestamp', 'travel_type_any', 'travel_type_family',\n",
       "       'travel_type_friends', 'travel_type_solo', 'religion_any',\n",
       "       'religion_buddist', 'religion_christian', 'religion_hindus',\n",
       "       'religion_jain', 'religion_muslim', 'religion_sikhs', 'season_any',\n",
       "       'season_autumn', 'season_rainy', 'season_spring', 'season_summer',\n",
       "       'season_winter'],\n",
       "      dtype='object')"
      ]
     },
     "execution_count": 129,
     "metadata": {},
     "output_type": "execute_result"
    }
   ],
   "source": [
    "df.columns"
   ]
  },
  {
   "cell_type": "code",
   "execution_count": 130,
   "metadata": {},
   "outputs": [],
   "source": [
    "df.to_csv('final_1.csv')\n"
   ]
  }
 ],
 "metadata": {
  "kernelspec": {
   "display_name": "Python 3",
   "language": "python",
   "name": "python3"
  },
  "language_info": {
   "codemirror_mode": {
    "name": "ipython",
    "version": 3
   },
   "file_extension": ".py",
   "mimetype": "text/x-python",
   "name": "python",
   "nbconvert_exporter": "python",
   "pygments_lexer": "ipython3",
   "version": "3.7.4"
  }
 },
 "nbformat": 4,
 "nbformat_minor": 5
}
